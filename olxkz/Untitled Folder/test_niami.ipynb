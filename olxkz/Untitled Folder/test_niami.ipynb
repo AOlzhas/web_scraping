{
 "cells": [
  {
   "cell_type": "code",
   "execution_count": 1,
   "metadata": {},
   "outputs": [],
   "source": [
    "from selenium import webdriver\n",
    "from selenium.webdriver.common.keys import Keys\n",
    "from selenium.webdriver import ActionChains\n",
    "from bs4 import BeautifulSoup\n",
    "import requests\n",
    "from urllib.parse import urljoin\n",
    "import pandas as pd\n",
    "import time"
   ]
  },
  {
   "cell_type": "code",
   "execution_count": 2,
   "metadata": {},
   "outputs": [],
   "source": [
    "import re\n",
    "import requests\n",
    "from requests_html import HTML\n",
    "import pandas as pd\n",
    "\n",
    "from selenium import webdriver\n",
    "from selenium.webdriver.chrome.options import Options\n",
    "from selenium.webdriver import DesiredCapabilities\n",
    "from selenium.common.exceptions import TimeoutException, NoSuchElementException, TimeoutException, ElementClickInterceptedException"
   ]
  },
  {
   "cell_type": "code",
   "execution_count": 3,
   "metadata": {},
   "outputs": [],
   "source": [
    "def chrome(url):\n",
    "    \n",
    "    # support to get response status and headers\n",
    "    d = DesiredCapabilities.CHROME\n",
    "    d['loggingPrefs'] = {'performance': 'ALL'}\n",
    "    opt = webdriver.ChromeOptions()\n",
    "#     opt.add_argument(\"--headless\")\n",
    "#     opt.add_argument(\"--disable-xss-auditor\")\n",
    "    opt.add_argument(\"--disable-web-security\")\n",
    "    opt.add_argument(\"--allow-running-insecure-content\")\n",
    "    opt.add_argument(\"--no-sandbox\")\n",
    "    opt.add_argument(\"--disable-setuid-sandbox\")\n",
    "    opt.add_argument(\"--disable-webgl\")\n",
    "    opt.add_argument(\"--disable-popup-blocking\")\n",
    "    # prefs = {\"profile.managed_default_content_settings.images\": 2,\n",
    "    #          'notifications': 2,\n",
    "    #          }\n",
    "    # opt.add_experimental_option(\"prefs\", prefs)\n",
    "    browser = webdriver.Chrome(options=opt,desired_capabilities=d)\n",
    "#     browser.add_cookie({\"name\" : \"_session_public\", \"value\" : \"EMDkrM2AsLpsnFEu3L9bkz6oS7QUnbVWyXBOW1SpMpozxRwuSTZHwkIxaia0zESLkJUK6BxDmOAv3L7yycPsWi6voEhuZkW7iB7J\"})\n",
    "#     browser.add_cookie({\"name\" : \"city\", \"value\" : \"{%22id%22:1%2C%22name%22:%22%D0%90%D0%BB%D0%BC%D0%B0%D1%82%D1%8B%22%2C%22slug%22:%22almaty%22%2C%22is_disabled%22:false%2C%22deposit_rate%22:1%2C%22label%22:%22empty%22%2C%22country_id%22:1%2C%22latitude%22:43.221313%2C%22longitude%22:76.955436}\"})\n",
    "    browser.implicitly_wait(10)\n",
    "    browser.set_page_load_timeout(20)\n",
    "    browser.get(url)\n",
    "    return browser.page_source, browser"
   ]
  },
  {
   "cell_type": "code",
   "execution_count": 4,
   "metadata": {},
   "outputs": [],
   "source": [
    "# /en/fabric/7137786-genevieve-floral-by-crystal_walen\n",
    "def extract_id_slug(url_path):\n",
    "    regex = r\"^[^\\s]+/(?P<id>\\d+)./?service=(?P<service>\\d+)\"\n",
    "    group = re.match(regex, url_path)\n",
    "    if not group:\n",
    "        return None, None\n",
    "    return group['id'], group['service']"
   ]
  },
  {
   "cell_type": "code",
   "execution_count": null,
   "metadata": {},
   "outputs": [],
   "source": [
    "category=[]\n",
    "list_cat_hrefs=[]\n",
    "url = 'https://naimi.kz/#/'\n",
    "req = requests.get(url)\n",
    "content, browser = chrome(url)\n",
    "browser.find_element_by_xpath(\"//button[@class='btn blue mr-3 flex-item']\").click()"
   ]
  },
  {
   "cell_type": "code",
   "execution_count": null,
   "metadata": {},
   "outputs": [],
   "source": [
    "elements=browser.find_elements_by_class_name(\"category\")\n",
    "for i in elements:\n",
    "    elements = i.find_elements_by_tag_name(\"a\")\n",
    "    for el in elements:\n",
    "        category.append(el)\n",
    "        list_cat_hrefs.append(el.get_attribute(\"href\"))"
   ]
  },
  {
   "cell_type": "code",
   "execution_count": null,
   "metadata": {},
   "outputs": [],
   "source": [
    "list_cat_hrefs"
   ]
  },
  {
   "cell_type": "code",
   "execution_count": null,
   "metadata": {},
   "outputs": [],
   "source": [
    "list_sub_cat_hrefs=[]\n",
    "for l in list_cat_hrefs:\n",
    "    req = requests.get(l)\n",
    "    content, browser = chrome(l)\n",
    "    cats=browser.find_elements_by_xpath(\"//a[@class='categories--service blue outline pt-1 pb-1 pl-2 pr-2']\")\n",
    "    for i in cats:\n",
    "        print(i.get_attribute(\"href\"))\n",
    "        list_sub_cat_hrefs.append(i.get_attribute(\"href\"))\n",
    "    \n",
    "    \n",
    "    \n",
    "    \n",
    "    "
   ]
  },
  {
   "cell_type": "code",
   "execution_count": null,
   "metadata": {},
   "outputs": [],
   "source": [
    "len(list_sub_cat_hrefs)"
   ]
  },
  {
   "cell_type": "code",
   "execution_count": null,
   "metadata": {},
   "outputs": [],
   "source": [
    "datas = []\n",
    "for cat in list_sub_cat_hrefs:\n",
    "    i=1\n",
    "    result = None\n",
    "    text_found=r'Рекомендованные специалисты'\n",
    "    while text_found is not None:\n",
    "        try:\n",
    "            url = '{}?page={}#/'.format(cat,i)\n",
    "            req = requests.get(url)\n",
    "            content, browser = chrome(url)\n",
    "            html_r = HTML(html=content)\n",
    "            text_found = re.search(r'Рекомендованные специалисты', content)\n",
    "            if text_found is None:\n",
    "                break\n",
    "            list_of_hrefs=[]\n",
    "            a_elements = []\n",
    "            content_blocks = browser.find_elements_by_class_name(\"service-specialists\")\n",
    "            for block in content_blocks:\n",
    "                elements = block.find_elements_by_tag_name(\"a\")\n",
    "                for el in elements:\n",
    "                    a_elements.append(el)\n",
    "                    list_of_hrefs.append(el.get_attribute(\"href\"))\n",
    "                    fabric_links = [x for x in list(list_of_hrefs) if x.startswith(\"https://naimi.kz/specialist/\")]\n",
    "            for path in fabric_links:\n",
    "                id_, slug_ = extract_id_slug(path)\n",
    "                print(id_, slug_)\n",
    "                data = {\n",
    "                    \"id\": id_,\n",
    "                    \"slug\": slug_,\n",
    "                    \"path\": path,\n",
    "                    \"scraped\": 0 # True / False -> 1 / 0 \n",
    "                }\n",
    "                datas.append(data)\n",
    "            print('page {}'.format(i))   \n",
    "            i+=1    \n",
    "        except:\n",
    "            break"
   ]
  },
  {
   "cell_type": "code",
   "execution_count": null,
   "metadata": {},
   "outputs": [],
   "source": [
    "datas"
   ]
  },
  {
   "cell_type": "code",
   "execution_count": null,
   "metadata": {},
   "outputs": [],
   "source": [
    "!pipenv install pickle"
   ]
  },
  {
   "cell_type": "code",
   "execution_count": 5,
   "metadata": {},
   "outputs": [],
   "source": [
    "import pickle"
   ]
  },
  {
   "cell_type": "code",
   "execution_count": null,
   "metadata": {},
   "outputs": [],
   "source": [
    "with open(r'datas.pickle', 'wb') as output:\n",
    "    pickle.dump(datas, output)"
   ]
  },
  {
   "cell_type": "code",
   "execution_count": 6,
   "metadata": {},
   "outputs": [],
   "source": [
    "with open(r'datas.pickle', 'rb') as data:\n",
    "     datas = pickle.load(data)"
   ]
  },
  {
   "cell_type": "code",
   "execution_count": 7,
   "metadata": {},
   "outputs": [
    {
     "data": {
      "text/plain": [
       "8000"
      ]
     },
     "execution_count": 7,
     "metadata": {},
     "output_type": "execute_result"
    }
   ],
   "source": [
    "len(datas[:8000])"
   ]
  },
  {
   "cell_type": "code",
   "execution_count": 8,
   "metadata": {},
   "outputs": [
    {
     "data": {
      "text/plain": [
       "13236"
      ]
     },
     "execution_count": 8,
     "metadata": {},
     "output_type": "execute_result"
    }
   ],
   "source": [
    "len(datas[8000:])"
   ]
  },
  {
   "cell_type": "code",
   "execution_count": null,
   "metadata": {},
   "outputs": [],
   "source": [
    "start = time.time()\n",
    "i=1\n",
    "for p in datas[2000:4000]:\n",
    "    try:\n",
    "        if i%20!=0:\n",
    "            print(p.get('path'))\n",
    "            url = p.get('path')\n",
    "            req = requests.get(url)\n",
    "            content, browser = chrome(url)\n",
    "            html_r = HTML(html=content)\n",
    "            browser.add_cookie({\"name\" : \"_session_public\", \"value\" : \"PZQNzME5q4YRqIIgzJOEPKvTvlueobznww0DcT9MoagB69SwfIuS1ZX126LurmOnMSK7FhKBGnfK6ykU37MSKoNxMe8EgZyx7En0\"})\n",
    "            try:\n",
    "                browser.find_element_by_xpath(\"//button[@class='btn blue mr-3 flex-item']\").click()\n",
    "            except NoSuchElementException:\n",
    "                pass\n",
    "            except ElementClickInterceptedException:\n",
    "                pass\n",
    "            try:\n",
    "                p[\"name\"] = element_name = browser.find_element_by_xpath(\"//div[@class='mb-half text lg verified']\").text\n",
    "            except NoSuchElementException:\n",
    "                p[\"name\"]=None\n",
    "                pass\n",
    "            try:\n",
    "                p[\"age\"] = browser.find_elements_by_xpath(\"//span[@class='text md gray-75 d-ib mr-1']\")[0].text\n",
    "            except NoSuchElementException:\n",
    "                p[\"age\"]=None\n",
    "                pass\n",
    "            try:\n",
    "                p[\"exp\"] = browser.find_elements_by_xpath(\"//span[@class='text md gray-75 d-ib ml-1']\")[0].text\n",
    "            except NoSuchElementException:\n",
    "                p[\"exp\"]=None\n",
    "                pass\n",
    "            try:\n",
    "                p['price']= browser.find_element_by_xpath(\"//div[@class='flex-item fixed-size right']\").text\n",
    "            except NoSuchElementException:\n",
    "                p['price']=None\n",
    "                pass\n",
    "            try:\n",
    "                p['spec_lvl']=browser.find_elements_by_xpath(\"//span[@class='specialist--level text md']\")[0].text\n",
    "            except NoSuchElementException:\n",
    "                p['spec_lvl']=None\n",
    "                pass\n",
    "            try:\n",
    "                p['review-count']=browser.find_elements_by_xpath(\"//div[@class='flex-item fixed-size review--review-count mr-4']\")[0].text\n",
    "            except NoSuchElementException:\n",
    "                p['review-count']=None\n",
    "                pass\n",
    "            try:\n",
    "                p['review-positive']=browser.find_element_by_xpath(\"//div[@class='review--review-bars positive']//div[@class='review--review-bar']\").get_attribute(\"style\")\n",
    "            except NoSuchElementException:\n",
    "                p['review-positive']=None\n",
    "                pass\n",
    "            try:\n",
    "                p['review-neutral']=browser.find_element_by_xpath(\"//div[@class='review--review-bars neutral']//div[@class='review--review-bar']\").get_attribute(\"style\")\n",
    "            except NoSuchElementException:\n",
    "                p['review-neutral']=None\n",
    "                pass\n",
    "            try:\n",
    "                p['review-negative']=browser.find_element_by_xpath(\"//div[@class='review--review-bars negative']//div[@class='review--review-bar']\").get_attribute(\"style\")\n",
    "            except NoSuchElementException:\n",
    "                p['review-negative']=None\n",
    "                pass\n",
    "            try:\n",
    "                p['edu_prof']=browser.find_element_by_xpath(\"//div[@class='text md']\").text\n",
    "            except NoSuchElementException:\n",
    "                p['edu_prof']=None\n",
    "                pass\n",
    "            try:\n",
    "                p['edu_university']=browser.find_element_by_xpath(\"//div[@class='text sm gray']\").text\n",
    "            except NoSuchElementException:\n",
    "                p['edu_university']=None\n",
    "                pass\n",
    "            try:\n",
    "                browser.find_element_by_xpath(\"//button[@class='btn blue width-100p ta-c mgb-2']\").click()\n",
    "                print(\"clicked\")\n",
    "                p[\"tel\"] = browser.find_element_by_xpath(\"//a[@class='btn blue width-100p ta-c mgb-2']\").text\n",
    "                print(\"tel saved\")\n",
    "            except NoSuchElementException:\n",
    "                time.sleep(5*60)\n",
    "                browser.find_element_by_xpath(\"//button[@class='btn blue width-100p ta-c mgb-2']\").click()\n",
    "                p[\"tel\"] = browser.find_element_by_xpath(\"//a[@class='btn blue width-100p ta-c mgb-2']\").text\n",
    "                pass\n",
    "            except ElementClickInterceptedException:\n",
    "                time.sleep(5*60)\n",
    "                browser.find_element_by_xpath(\"//button[@class='btn blue width-100p ta-c mgb-2']\").click()\n",
    "                p[\"tel\"] = browser.find_element_by_xpath(\"//a[@class='btn blue width-100p ta-c mgb-2']\").text\n",
    "                pass\n",
    "            except TimeoutException:\n",
    "                time.sleep(5*60)\n",
    "                browser.find_element_by_xpath(\"//button[@class='btn blue width-100p ta-c mgb-2']\").click()\n",
    "                p[\"tel\"] = browser.find_element_by_xpath(\"//a[@class='btn blue width-100p ta-c mgb-2']\").text\n",
    "                pass\n",
    "\n",
    "        else:\n",
    "            time.sleep(5*60)\n",
    "    except NoSuchElementException:\n",
    "        pass\n",
    "    except TimeoutException:\n",
    "        pass\n",
    "\n",
    "end = time.time() - start\n",
    "\n",
    "print(end)"
   ]
  },
  {
   "cell_type": "code",
   "execution_count": null,
   "metadata": {},
   "outputs": [],
   "source": [
    "datas"
   ]
  },
  {
   "cell_type": "code",
   "execution_count": null,
   "metadata": {},
   "outputs": [],
   "source": [
    "print(browser.find_elements_by_xpath(\"//span[@class='flex-item fixed-size review--review-count mr-4']\")"
   ]
  },
  {
   "cell_type": "code",
   "execution_count": null,
   "metadata": {},
   "outputs": [],
   "source": [
    "url = 'https://naimi.kz/specialist/113762?service=4#/'\n",
    "req = requests.get(url)\n",
    "content, browser = chrome(url)\n",
    "html_r = HTML(html=content)\n",
    "browser.add_cookie({\"name\" : \"_session_public\", \"value\" : \"EMDkrM2AsLpsnFEu3L9bkz6oS7QUnbVWyXBOW1SpMpozxRwuSTZHwkIxaia0zESLkJUK6BxDmOAv3L7yycPsWi6voEhuZkW7iB7J\"})\n",
    "browser.find_element_by_xpath(\"//button[@class='btn blue mr-3 flex-item']\").click()"
   ]
  },
  {
   "cell_type": "code",
   "execution_count": null,
   "metadata": {},
   "outputs": [],
   "source": [
    "print(browser.get_cookies())"
   ]
  },
  {
   "cell_type": "code",
   "execution_count": null,
   "metadata": {},
   "outputs": [],
   "source": [
    "browser.add_cookie({\"name\" : \"_session_public\", \"value\" : \"EMDkrM2AsLpsnFEu3L9bkz6oS7QUnbVWyXBOW1SpMpozxRwuSTZHwkIxaia0zESLkJUK6BxDmOAv3L7yycPsWi6voEhuZkW7iB7J\"})"
   ]
  },
  {
   "cell_type": "code",
   "execution_count": null,
   "metadata": {},
   "outputs": [],
   "source": [
    "content_blocks = browser.find_elements_by_class_name(\"specialist--profile\")"
   ]
  },
  {
   "cell_type": "code",
   "execution_count": null,
   "metadata": {},
   "outputs": [],
   "source": [
    "element_price = browser.find_element_by_xpath(\"//div[@class='flex-item fixed-size right']\").text"
   ]
  },
  {
   "cell_type": "code",
   "execution_count": null,
   "metadata": {},
   "outputs": [],
   "source": [
    "element_price"
   ]
  },
  {
   "cell_type": "code",
   "execution_count": null,
   "metadata": {},
   "outputs": [],
   "source": [
    "browser.find_elements_by_xpath(\"//span[@class='specialist--level text md']\")[0].text"
   ]
  },
  {
   "cell_type": "code",
   "execution_count": null,
   "metadata": {},
   "outputs": [],
   "source": [
    "element_age = browser.find_elements_by_xpath(\"//span[@class='text md gray-75 d-ib mr-1']\")[0].text"
   ]
  },
  {
   "cell_type": "code",
   "execution_count": null,
   "metadata": {},
   "outputs": [],
   "source": [
    "element_exp = browser.find_elements_by_xpath(\"//span[@class='text md gray-75 d-ib ml-1']\")[0].text"
   ]
  },
  {
   "cell_type": "code",
   "execution_count": null,
   "metadata": {},
   "outputs": [],
   "source": [
    "element_age"
   ]
  },
  {
   "cell_type": "code",
   "execution_count": null,
   "metadata": {},
   "outputs": [],
   "source": [
    "element_exp"
   ]
  },
  {
   "cell_type": "code",
   "execution_count": null,
   "metadata": {},
   "outputs": [],
   "source": [
    "element_name"
   ]
  },
  {
   "cell_type": "code",
   "execution_count": null,
   "metadata": {},
   "outputs": [],
   "source": [
    "# f = open(\"naimi.kz_cookies.txt\", \"r\")\n",
    "# print(f.read())"
   ]
  },
  {
   "cell_type": "code",
   "execution_count": null,
   "metadata": {},
   "outputs": [],
   "source": [
    "element_btn = browser.find_element_by_xpath(\"//button[@class='btn blue width-100p ta-c mgb-2']\")"
   ]
  },
  {
   "cell_type": "code",
   "execution_count": null,
   "metadata": {},
   "outputs": [],
   "source": [
    "element_btn.text"
   ]
  },
  {
   "cell_type": "code",
   "execution_count": null,
   "metadata": {},
   "outputs": [],
   "source": [
    "element_btn.click()"
   ]
  },
  {
   "cell_type": "code",
   "execution_count": null,
   "metadata": {},
   "outputs": [],
   "source": [
    "element_btn_tel = browser.find_element_by_xpath(\"//a[@class='btn blue width-100p ta-c mgb-2']\").text"
   ]
  },
  {
   "cell_type": "code",
   "execution_count": null,
   "metadata": {},
   "outputs": [],
   "source": [
    "print(element_btn_tel)"
   ]
  },
  {
   "cell_type": "code",
   "execution_count": null,
   "metadata": {},
   "outputs": [],
   "source": [
    "browser.find_element_by_xpath(\"//div[@class='review--review-bars positive']//div[@class='review--review-bar']\").get_attribute(\"style\")"
   ]
  },
  {
   "cell_type": "code",
   "execution_count": null,
   "metadata": {},
   "outputs": [],
   "source": [
    "browser.find_element_by_xpath(\"//div[@class='review--review-bars negative']//div[@class='review--review-bar']\").get_attribute(\"style\")"
   ]
  },
  {
   "cell_type": "code",
   "execution_count": null,
   "metadata": {},
   "outputs": [],
   "source": [
    "browser.find_element_by_xpath(\"//div[@class='review--review-bars neutral']//div[@class='review--review-bar']\").get_attribute(\"style\")"
   ]
  },
  {
   "cell_type": "code",
   "execution_count": null,
   "metadata": {},
   "outputs": [],
   "source": [
    "browser.find_element_by_xpath(\"//div[@class='text md']\").text"
   ]
  },
  {
   "cell_type": "code",
   "execution_count": null,
   "metadata": {},
   "outputs": [],
   "source": [
    "browser.find_element_by_xpath(\"//div[@class='text sm gray']\").text"
   ]
  },
  {
   "cell_type": "code",
   "execution_count": 9,
   "metadata": {},
   "outputs": [
    {
     "ename": "NameError",
     "evalue": "name 'browser' is not defined",
     "output_type": "error",
     "traceback": [
      "\u001b[0;31m---------------------------------------------------------------------------\u001b[0m",
      "\u001b[0;31mNameError\u001b[0m                                 Traceback (most recent call last)",
      "\u001b[0;32m<ipython-input-9-710928f8954f>\u001b[0m in \u001b[0;36m<module>\u001b[0;34m\u001b[0m\n\u001b[0;32m----> 1\u001b[0;31m \u001b[0mbrowser\u001b[0m\u001b[0;34m.\u001b[0m\u001b[0mquit\u001b[0m\u001b[0;34m(\u001b[0m\u001b[0;34m)\u001b[0m\u001b[0;34m\u001b[0m\u001b[0;34m\u001b[0m\u001b[0m\n\u001b[0m",
      "\u001b[0;31mNameError\u001b[0m: name 'browser' is not defined"
     ]
    }
   ],
   "source": []
  },
  {
   "cell_type": "code",
   "execution_count": null,
   "metadata": {},
   "outputs": [],
   "source": []
  }
 ],
 "metadata": {
  "kernelspec": {
   "display_name": "Python 3",
   "language": "python",
   "name": "python3"
  },
  "language_info": {
   "codemirror_mode": {
    "name": "ipython",
    "version": 3
   },
   "file_extension": ".py",
   "mimetype": "text/x-python",
   "name": "python",
   "nbconvert_exporter": "python",
   "pygments_lexer": "ipython3",
   "version": "3.7.6"
  }
 },
 "nbformat": 4,
 "nbformat_minor": 4
}

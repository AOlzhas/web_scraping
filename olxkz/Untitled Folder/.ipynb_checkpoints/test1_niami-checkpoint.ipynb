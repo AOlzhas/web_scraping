{
 "cells": [
  {
   "cell_type": "code",
   "execution_count": 1,
   "metadata": {},
   "outputs": [],
   "source": [
    "from selenium import webdriver\n",
    "from selenium.webdriver.common.keys import Keys\n",
    "from selenium.webdriver import ActionChains\n",
    "from bs4 import BeautifulSoup\n",
    "import requests\n",
    "from urllib.parse import urljoin\n",
    "import pandas as pd\n",
    "import time\n",
    "import subprocess\n",
    "import os"
   ]
  },
  {
   "cell_type": "code",
   "execution_count": 2,
   "metadata": {},
   "outputs": [],
   "source": [
    "import re\n",
    "import requests\n",
    "from requests_html import HTML\n",
    "import pandas as pd\n",
    "\n",
    "from selenium import webdriver\n",
    "from selenium.webdriver.chrome.options import Options\n",
    "from selenium.webdriver import DesiredCapabilities\n",
    "from selenium.common.exceptions import TimeoutException, NoSuchElementException, TimeoutException, ElementClickInterceptedException"
   ]
  },
  {
   "cell_type": "code",
   "execution_count": 3,
   "metadata": {},
   "outputs": [],
   "source": [
    "def chrome(url):\n",
    "#     subprocess.run('mkdir /tmp/bin', shell=True)\n",
    "#     os.system(\"cp ./chromedriver /tmp/bin/chromedriver\")\n",
    "#     os.system(\"cp ./headless-chromium /tmp/bin/headless-chromium\")\n",
    "#     os.chmod(\"/tmp/bin/chromedriver\", 0o777)\n",
    "#     os.chmod(\"/tmp/bin/headless-chromium\", 0o777)\n",
    "    driver = webdriver.Chrome('/path/to/chromedriver')\n",
    "    options = webdriver.ChromeOptions()\n",
    "#     options.binary_location = '/tmp/bin/headless-chromium'\n",
    "#     options.add_argument(\"--headless\")\n",
    "    options.add_argument(\"--disable-gpu\")\n",
    "    options.add_argument(\"--single-process\")\n",
    "    options.add_argument(\"--no-sandbox\")\n",
    "    options.add_argument(\"--disable-dev-shm-usage\")\n",
    "    options.add_argument(\"--window-size=1600x800\") # can be changed to any browser size\n",
    "    browser = webdriver.Chrome(executable_path='/tmp/bin/chromedriver', options=options)\n",
    "    browser.implicitly_wait(10)\n",
    "    browser.set_page_load_timeout(20)\n",
    "    browser.get(url)\n",
    "    return browser.page_source, browser"
   ]
  },
  {
   "cell_type": "code",
   "execution_count": 4,
   "metadata": {},
   "outputs": [],
   "source": [
    "def chrome(url):\n",
    "    \n",
    "    # support to get response status and headers\n",
    "    d = DesiredCapabilities.CHROME\n",
    "    d['loggingPrefs'] = {'performance': 'ALL'}\n",
    "    opt = webdriver.ChromeOptions()\n",
    "#     opt.add_argument(\"--headless\")\n",
    "#     opt.add_argument(\"--disable-xss-auditor\")\n",
    "    opt.add_argument(\"--disable-web-security\")\n",
    "    opt.add_argument(\"--allow-running-insecure-content\")\n",
    "    opt.add_argument(\"--no-sandbox\")\n",
    "    opt.add_argument(\"--disable-setuid-sandbox\")\n",
    "    opt.add_argument(\"--disable-webgl\")\n",
    "    opt.add_argument(\"--disable-popup-blocking\")\n",
    "    # prefs = {\"profile.managed_default_content_settings.images\": 2,\n",
    "    #          'notifications': 2,\n",
    "    #          }\n",
    "    # opt.add_experimental_option(\"prefs\", prefs)\n",
    "    browser = webdriver.Chrome(options=opt,desired_capabilities=d)\n",
    "#     browser.add_cookie({\"name\" : \"_session_public\", \"value\" : \"EMDkrM2AsLpsnFEu3L9bkz6oS7QUnbVWyXBOW1SpMpozxRwuSTZHwkIxaia0zESLkJUK6BxDmOAv3L7yycPsWi6voEhuZkW7iB7J\"})\n",
    "#     browser.add_cookie({\"name\" : \"city\", \"value\" : \"{%22id%22:1%2C%22name%22:%22%D0%90%D0%BB%D0%BC%D0%B0%D1%82%D1%8B%22%2C%22slug%22:%22almaty%22%2C%22is_disabled%22:false%2C%22deposit_rate%22:1%2C%22label%22:%22empty%22%2C%22country_id%22:1%2C%22latitude%22:43.221313%2C%22longitude%22:76.955436}\"})\n",
    "    browser.implicitly_wait(10)\n",
    "    browser.set_page_load_timeout(20)\n",
    "    browser.get(url)\n",
    "    return browser.page_source, browser"
   ]
  },
  {
   "cell_type": "code",
   "execution_count": 5,
   "metadata": {},
   "outputs": [],
   "source": [
    "url = 'https://naimi.kz/#/'\n",
    "req = requests.get(url)\n",
    "content, browser = chrome(url)"
   ]
  },
  {
   "cell_type": "code",
   "execution_count": 6,
   "metadata": {},
   "outputs": [
    {
     "data": {
      "text/plain": [
       "'<html lang=\"ru\"><head>\\n  <!-- Google Tag Manager -->\\n  <script async=\"\" src=\"https://www.googletagmanager.com/gtm.js?id=GTM-NJH48QQ\"></script><script>(function (w, d, s, l, i) {\\n      w[l] = w[l] || [];\\n      w[l].push({\\n        \\'gtm.start\\':\\n                new Date().getTime(), event: \\'gtm.js\\'\\n      });\\n      var f = d.getElementsByTagName(s)[0],\\n              j = d.createElement(s), dl = l != \\'dataLayer\\' ? \\'&l=\\' + l : \\'\\';\\n      j.async = true;\\n      j.src =\\n              \\'https://www.googletagmanager.com/gtm.js?id=\\' + i + dl;\\n      f.parentNode.insertBefore(j, f);\\n    })(window, document, \\'script\\', \\'dataLayer\\',\\'GTM-NJH48QQ\\');\\n  </script>\\n  <!-- End Google Tag Manager -->\\n  <meta charset=\"utf-8\">\\n  <meta http-equiv=\"X-UA-Compatible\" content=\"IE=edge\">\\n  <meta name=\"viewport\" content=\"width=device-width, initial-scale=1, maximum-scale=1.0, user-scalable=no\">\\n  <title>Naimi.kz - бесплатный сервис для заказа услуг в Алматы</title>\\n  <meta name=\"description\" content=\"Более 900 услуг в Алматы. Выбирай и нанимай проверенных специалистов за 1 минуту или даже быстрее.\">\\n  <meta name=\"keywords\" content=\"\">\\n  <meta property=\"og:type\" content=\"website\">\\n  <meta property=\"og:site_name\" content=\"Naimi.kz\">\\n  <meta property=\"og:title\" content=\"Naimi.kz - бесплатный сервис для заказа услуг в Алматы\">\\n  <meta property=\"og:description\" content=\"Naimi.kz - это бесплатная площадка для поиска специалистов. От сантехника до репетитора, от водителя до продавца. Лучшие специалисты Казахстана с анкетами и отзывами готовы приступить к работе прямо сейчас.\">\\n  <meta property=\"og:url\" content=\"https://naimi.kz\">\\n  <meta property=\"og:image\" content=\"https://static.naimi.kz/j2yoGZ3TxX/img/sharing_logo.jpg?1605540277\">\\n  <meta property=\"og:image:width\" content=\"520\">\\n  <meta property=\"og:image:height\" content=\"200\">\\n  <meta name=\"apple-itunes-app\" content=\"app-id=1028949260\">\\n  <meta name=\"google-play-app\" content=\"app-id=kz.naimi.app\">\\n  <link rel=\"canonical\" href=\"https://naimi.kz\">\\n      <link rel=\"apple-touch-icon\" sizes=\"57x57\" href=\"https://static.naimi.kz/j2yoGZ3TxX/img/favicons/apple-touch-icon-57x57.png?1605540277\">\\n  <link rel=\"apple-touch-icon\" sizes=\"60x60\" href=\"https://static.naimi.kz/j2yoGZ3TxX/img/favicons/apple-touch-icon-60x60.png?1605540277\">\\n  <link rel=\"apple-touch-icon\" sizes=\"72x72\" href=\"https://static.naimi.kz/j2yoGZ3TxX/img/favicons/apple-touch-icon-72x72.png?1605540277\">\\n  <link rel=\"apple-touch-icon\" sizes=\"76x76\" href=\"https://static.naimi.kz/j2yoGZ3TxX/img/favicons/apple-touch-icon-76x76.png?1605540277\">\\n  <link rel=\"apple-touch-icon\" sizes=\"114x114\" href=\"https://static.naimi.kz/j2yoGZ3TxX/img/favicons/apple-touch-icon-114x114.png?1605540277\">\\n  <link rel=\"apple-touch-icon\" sizes=\"120x120\" href=\"https://static.naimi.kz/j2yoGZ3TxX/img/favicons/apple-touch-icon-120x120.png?1605540277\">\\n  <link rel=\"apple-touch-icon\" sizes=\"144x144\" href=\"https://static.naimi.kz/j2yoGZ3TxX/img/favicons/apple-touch-icon-144x144.png?1605540277\">\\n  <link rel=\"apple-touch-icon\" sizes=\"152x152\" href=\"https://static.naimi.kz/j2yoGZ3TxX/img/favicons/apple-touch-icon-152x152.png?1605540277\">\\n  <link rel=\"apple-touch-icon\" sizes=\"180x180\" href=\"https://static.naimi.kz/j2yoGZ3TxX/img/favicons/apple-touch-icon-180x180.png?1605540277\">\\n  <link rel=\"icon\" type=\"image/png\" href=\"https://static.naimi.kz/j2yoGZ3TxX/img/favicons/favicon-32x32.png?1605540277\" sizes=\"32x32\">\\n  <link rel=\"icon\" type=\"image/png\" href=\"https://static.naimi.kz/j2yoGZ3TxX/img/favicons/android-chrome-36x36.png?1605540277\" sizes=\"36x36\">\\n  <link rel=\"icon\" type=\"image/png\" href=\"https://static.naimi.kz/j2yoGZ3TxX/img/favicons/android-chrome-48x48.png?1605540277\" sizes=\"48x48\">\\n  <link rel=\"icon\" type=\"image/png\" href=\"https://static.naimi.kz/j2yoGZ3TxX/img/favicons/android-chrome-72x72.png?1605540277\" sizes=\"72x72\">\\n  <link rel=\"icon\" type=\"image/png\" href=\"https://static.naimi.kz/j2yoGZ3TxX/img/favicons/android-chrome-96x96.png?1605540277\" sizes=\"96x96\">\\n  <link rel=\"icon\" type=\"image/png\" href=\"https://static.naimi.kz/j2yoGZ3TxX/img/favicons/android-chrome-144x144.png?1605540277\" sizes=\"144x144\">\\n  <link rel=\"icon\" type=\"image/png\" href=\"https://static.naimi.kz/j2yoGZ3TxX/img/favicons/android-chrome-192x192.png?1605540277\" sizes=\"192x192\">\\n  <link rel=\"icon\" type=\"image/png\" href=\"https://static.naimi.kz/j2yoGZ3TxX/img/favicons/favicon-96x96.png?1605540277\" sizes=\"96x96\">\\n  <link rel=\"icon\" type=\"image/png\" href=\"https://static.naimi.kz/j2yoGZ3TxX/img/favicons/favicon-16x16.png?1605540277\" sizes=\"16x16\">\\n  <link rel=\"manifest\" href=\"https://static.naimi.kz/j2yoGZ3TxX/img/favicons/manifest.json?1605540277\">\\n  <link rel=\"shortcut icon\" href=\"https://static.naimi.kz/j2yoGZ3TxX/img/favicons/favicon.ico?1605540277\">\\n  <meta name=\"msapplication-TileColor\" content=\"#00aba9\">\\n  <meta name=\"msapplication-TileImage\" content=\"https://static.naimi.kz/j2yoGZ3TxX/img/favicons/mstile-144x144.png?1605540277\">\\n  <meta name=\"msapplication-config\" content=\"https://static.naimi.kz/j2yoGZ3TxX/img/favicons/browserconfig.xml?1605540277\">\\n  <meta name=\"theme-color\" content=\"#ffffff\">\\n  \\n  <script>\\n      </script>\\n  <link rel=\"stylesheet\" href=\"https://unpkg.com/purecss@1.0.0/build/pure-min.css\" integrity=\"sha384-nn4HPE8lTHyVtfCBi5yW9d20FjT8BJwUXyWZT9InLYax14RDjBj46LmSztkmNP9w\" crossorigin=\"anonymous\">\\n\\n  <link href=\"https://fonts.googleapis.com/css?family=Roboto:400,500,700&amp;subset=cyrillic,cyrillic-ext,latin-ext\" rel=\"stylesheet\">\\n  <link href=\"https://fonts.googleapis.com/icon?family=Material+Icons\" rel=\"stylesheet\">\\n  <link rel=\"stylesheet\" href=\"https://cdn.jsdelivr.net/gh/fancyapps/fancybox@3.5.7/dist/jquery.fancybox.min.css\">\\n    <link href=\"https://static.naimi.kz/j2yoGZ3TxX/css/app.css?id=9749516ed346616acf40\" rel=\"stylesheet\">\\n  \\n<style type=\"text/css\">.login[data-v-06838cd6] {\\n  position: fixed;\\n  top: 0;\\n  left: 0;\\n  display: flex;\\n  justify-content: center;\\n  align-items: center;\\n  right: 0;\\n  bottom: 0;\\n  background: rgba(0, 0, 0, 0.12);\\n  -webkit-backdrop-filter: blur(8px);\\n          backdrop-filter: blur(8px);\\n  z-index: 2243002;\\n}\\n.login > div[data-v-06838cd6] {\\n  background: white;\\n  flex: 0 1 460px;\\n}\\n.pda-3[data-v-06838cd6] {\\n  border-radius: 8px;\\n}\\n.login--close[data-v-06838cd6] {\\n  border-radius: 8px;\\n  background: #f5f5f5;\\n}</style><style type=\"text/css\">/**\\n    naimi atoms, v0.5\\n*/\\n/*\\n    Typography\\n*/\\n/*\\n    Spacing\\n*/\\n/*\\n    Shadows\\n*/\\n/*\\n    Animation\\n*/\\n/*\\n    Curve\\n*/\\n.cabinet-menu[data-v-3cb74fcc] {\\n  position: absolute;\\n}\\n.cabinet-menu a[data-v-3cb74fcc] {\\n  background-color: transparent;\\n  transition: background-color 0.1s ease-in;\\n}\\n.cabinet-menu a[data-v-3cb74fcc]:hover {\\n  background-color: #F5F5F5;\\n}\\n.login[data-v-3cb74fcc] {\\n  padding-right: 16px;\\n}\\n.login[data-v-3cb74fcc]:after {\\n  content: none;\\n}\\n.dropdown-menu[data-v-3cb74fcc] {\\n  display: none;\\n}\\n.dropdown-menu[data-v-3cb74fcc]:hover {\\n  background: #F5F5F5;\\n}\\n.dropdown-menua[data-v-3cb74fcc]:after {\\n  content: none;\\n}\\n@media (min-width: 1024px) {\\n.dropdown-menu[data-v-3cb74fcc] {\\n    border: 1px solid #B9C1C7;\\n    display: inline-block;\\n}\\n.dropdown-menu[data-v-3cb74fcc]:before {\\n    content: \"person\";\\n}\\n.login[data-v-3cb74fcc] {\\n    padding-right: 16px;\\n}\\n.login[data-v-3cb74fcc]:after {\\n    content: none;\\n}\\n}</style><style type=\"text/css\">/**\\n    naimi atoms, v0.5\\n*/\\n/*\\n    Typography\\n*/\\n/*\\n    Spacing\\n*/\\n/*\\n    Shadows\\n*/\\n/*\\n    Animation\\n*/\\n/*\\n    Curve\\n*/\\n.dropdown[data-v-2dd7ae1e] {\\n  -webkit-backdrop-filter: blur(5px);\\n          backdrop-filter: blur(5px);\\n}</style><style type=\"text/css\">.vue-simple-spinner{transition:all .3s linear}@keyframes vue-simple-spinner-spin{0%{transform:rotate(0deg)}to{transform:rotate(1turn)}}</style><style type=\"text/css\">.btn .d-ib[data-v-9acfe5c6] {\\n  margin-bottom: -4px;\\n}</style><style type=\"text/css\">.btn .d-ib[data-v-41a457cb] {\\n  margin-bottom: -4px;\\n}</style><style type=\"text/css\">.toasted{padding:0 20px}.toasted.rounded{border-radius:24px}.toasted .primary,.toasted.toasted-primary{border-radius:2px;min-height:38px;line-height:1.1em;background-color:#353535;padding:6px 20px;font-size:15px;font-weight:300;color:#fff;box-shadow:0 1px 3px rgba(0,0,0,.12),0 1px 2px rgba(0,0,0,.24)}.toasted .primary.success,.toasted.toasted-primary.success{background:#4caf50}.toasted .primary.error,.toasted.toasted-primary.error{background:#f44336}.toasted .primary.info,.toasted.toasted-primary.info{background:#3f51b5}.toasted .primary .action,.toasted.toasted-primary .action{color:#a1c2fa}.toasted.bubble{border-radius:30px;min-height:38px;line-height:1.1em;background-color:#ff7043;padding:0 20px;font-size:15px;font-weight:300;color:#fff;box-shadow:0 1px 3px rgba(0,0,0,.12),0 1px 2px rgba(0,0,0,.24)}.toasted.bubble.success{background:#4caf50}.toasted.bubble.error{background:#f44336}.toasted.bubble.info{background:#3f51b5}.toasted.bubble .action{color:#8e2b0c}.toasted.outline{border-radius:30px;min-height:38px;line-height:1.1em;background-color:#fff;border:1px solid #676767;padding:0 20px;font-size:15px;color:#676767;box-shadow:0 1px 3px rgba(0,0,0,.12),0 1px 2px rgba(0,0,0,.24);font-weight:700}.toasted.outline.success{color:#4caf50;border-color:#4caf50}.toasted.outline.error{color:#f44336;border-color:#f44336}.toasted.outline.info{color:#3f51b5;border-color:#3f51b5}.toasted.outline .action{color:#607d8b}.toasted-container{position:fixed;z-index:10000}.toasted-container,.toasted-container.full-width{display:-ms-flexbox;display:flex;-ms-flex-direction:column;flex-direction:column}.toasted-container.full-width{max-width:86%;width:100%}.toasted-container.full-width.fit-to-screen{min-width:100%}.toasted-container.full-width.fit-to-screen .toasted:first-child{margin-top:0}.toasted-container.full-width.fit-to-screen.top-right{top:0;right:0}.toasted-container.full-width.fit-to-screen.top-left{top:0;left:0}.toasted-container.full-width.fit-to-screen.top-center{top:0;left:0;-webkit-transform:translateX(0);transform:translateX(0)}.toasted-container.full-width.fit-to-screen.bottom-right{right:0;bottom:0}.toasted-container.full-width.fit-to-screen.bottom-left{left:0;bottom:0}.toasted-container.full-width.fit-to-screen.bottom-center{left:0;bottom:0;-webkit-transform:translateX(0);transform:translateX(0)}.toasted-container.top-right{top:10%;right:7%}.toasted-container.top-left{top:10%;left:7%}.toasted-container.top-center{top:10%;left:50%;-webkit-transform:translateX(-50%);transform:translateX(-50%)}.toasted-container.bottom-right{right:5%;bottom:7%}.toasted-container.bottom-left{left:5%;bottom:7%}.toasted-container.bottom-center{left:50%;-webkit-transform:translateX(-50%);transform:translateX(-50%);bottom:7%}.toasted-container.bottom-left .toasted,.toasted-container.top-left .toasted{float:left}.toasted-container.bottom-right .toasted,.toasted-container.top-right .toasted{float:right}.toasted-container .toasted{top:35px;width:auto;clear:both;margin-top:10px;position:relative;max-width:100%;height:auto;word-break:normal;display:-ms-flexbox;display:flex;-ms-flex-align:center;align-items:center;-ms-flex-pack:justify;justify-content:space-between;box-sizing:inherit}.toasted-container .toasted .fa,.toasted-container .toasted .fab,.toasted-container .toasted .far,.toasted-container .toasted .fas,.toasted-container .toasted .material-icons,.toasted-container .toasted .mdi{margin-right:.5rem;margin-left:-.4rem}.toasted-container .toasted .fa.after,.toasted-container .toasted .fab.after,.toasted-container .toasted .far.after,.toasted-container .toasted .fas.after,.toasted-container .toasted .material-icons.after,.toasted-container .toasted .mdi.after{margin-left:.5rem;margin-right:-.4rem}.toasted-container .toasted .action{text-decoration:none;font-size:.8rem;padding:8px;margin:5px -7px 5px 7px;border-radius:3px;text-transform:uppercase;letter-spacing:.03em;font-weight:600;cursor:pointer}.toasted-container .toasted .action.icon{padding:4px;display:-ms-flexbox;display:flex;-ms-flex-align:center;align-items:center;-ms-flex-pack:center;justify-content:center}.toasted-container .toasted .action.icon .fa,.toasted-container .toasted .action.icon .material-icons,.toasted-container .toasted .action.icon .mdi{margin-right:0;margin-left:4px}.toasted-container .toasted .action.icon:hover{text-decoration:none}.toasted-container .toasted .action:hover{text-decoration:underline}@media only screen and (max-width:600px){.toasted-container{min-width:100%}.toasted-container .toasted:first-child{margin-top:0}.toasted-container.top-right{top:0;right:0}.toasted-container.top-left{top:0;left:0}.toasted-container.top-center{top:0;left:0;-webkit-transform:translateX(0);transform:translateX(0)}.toasted-container.bottom-right{right:0;bottom:0}.toasted-container.bottom-left{left:0;bottom:0}.toasted-container.bottom-center{left:0;bottom:0;-webkit-transform:translateX(0);transform:translateX(0)}.toasted-container.bottom-center,.toasted-container.top-center{-ms-flex-align:stretch!important;align-items:stretch!important}.toasted-container.bottom-left .toasted,.toasted-container.bottom-right .toasted,.toasted-container.top-left .toasted,.toasted-container.top-right .toasted{float:none}.toasted-container .toasted{border-radius:0}}</style><style type=\"text/css\">.vue-simple-spinner{transition:all .3s linear}@keyframes vue-simple-spinner-spin{0%{transform:rotate(0deg)}to{transform:rotate(1turn)}}</style><style type=\"text/css\">.toasted{padding:0 20px}.toasted.rounded{border-radius:24px}.toasted .primary,.toasted.toasted-primary{border-radius:2px;min-height:38px;line-height:1.1em;background-color:#353535;padding:6px 20px;font-size:15px;font-weight:300;color:#fff;box-shadow:0 1px 3px rgba(0,0,0,.12),0 1px 2px rgba(0,0,0,.24)}.toasted .primary.success,.toasted.toasted-primary.success{background:#4caf50}.toasted .primary.error,.toasted.toasted-primary.error{background:#f44336}.toasted .primary.info,.toasted.toasted-primary.info{background:#3f51b5}.toasted .primary .action,.toasted.toasted-primary .action{color:#a1c2fa}.toasted.bubble{border-radius:30px;min-height:38px;line-height:1.1em;background-color:#ff7043;padding:0 20px;font-size:15px;font-weight:300;color:#fff;box-shadow:0 1px 3px rgba(0,0,0,.12),0 1px 2px rgba(0,0,0,.24)}.toasted.bubble.success{background:#4caf50}.toasted.bubble.error{background:#f44336}.toasted.bubble.info{background:#3f51b5}.toasted.bubble .action{color:#8e2b0c}.toasted.outline{border-radius:30px;min-height:38px;line-height:1.1em;background-color:#fff;border:1px solid #676767;padding:0 20px;font-size:15px;color:#676767;box-shadow:0 1px 3px rgba(0,0,0,.12),0 1px 2px rgba(0,0,0,.24);font-weight:700}.toasted.outline.success{color:#4caf50;border-color:#4caf50}.toasted.outline.error{color:#f44336;border-color:#f44336}.toasted.outline.info{color:#3f51b5;border-color:#3f51b5}.toasted.outline .action{color:#607d8b}.toasted-container{position:fixed;z-index:10000}.toasted-container,.toasted-container.full-width{display:-ms-flexbox;display:flex;-ms-flex-direction:column;flex-direction:column}.toasted-container.full-width{max-width:86%;width:100%}.toasted-container.full-width.fit-to-screen{min-width:100%}.toasted-container.full-width.fit-to-screen .toasted:first-child{margin-top:0}.toasted-container.full-width.fit-to-screen.top-right{top:0;right:0}.toasted-container.full-width.fit-to-screen.top-left{top:0;left:0}.toasted-container.full-width.fit-to-screen.top-center{top:0;left:0;-webkit-transform:translateX(0);transform:translateX(0)}.toasted-container.full-width.fit-to-screen.bottom-right{right:0;bottom:0}.toasted-container.full-width.fit-to-screen.bottom-left{left:0;bottom:0}.toasted-container.full-width.fit-to-screen.bottom-center{left:0;bottom:0;-webkit-transform:translateX(0);transform:translateX(0)}.toasted-container.top-right{top:10%;right:7%}.toasted-container.top-left{top:10%;left:7%}.toasted-container.top-center{top:10%;left:50%;-webkit-transform:translateX(-50%);transform:translateX(-50%)}.toasted-container.bottom-right{right:5%;bottom:7%}.toasted-container.bottom-left{left:5%;bottom:7%}.toasted-container.bottom-center{left:50%;-webkit-transform:translateX(-50%);transform:translateX(-50%);bottom:7%}.toasted-container.bottom-left .toasted,.toasted-container.top-left .toasted{float:left}.toasted-container.bottom-right .toasted,.toasted-container.top-right .toasted{float:right}.toasted-container .toasted{top:35px;width:auto;clear:both;margin-top:10px;position:relative;max-width:100%;height:auto;word-break:normal;display:-ms-flexbox;display:flex;-ms-flex-align:center;align-items:center;-ms-flex-pack:justify;justify-content:space-between;box-sizing:inherit}.toasted-container .toasted .fa,.toasted-container .toasted .fab,.toasted-container .toasted .far,.toasted-container .toasted .fas,.toasted-container .toasted .material-icons,.toasted-container .toasted .mdi{margin-right:.5rem;margin-left:-.4rem}.toasted-container .toasted .fa.after,.toasted-container .toasted .fab.after,.toasted-container .toasted .far.after,.toasted-container .toasted .fas.after,.toasted-container .toasted .material-icons.after,.toasted-container .toasted .mdi.after{margin-left:.5rem;margin-right:-.4rem}.toasted-container .toasted .action{text-decoration:none;font-size:.8rem;padding:8px;margin:5px -7px 5px 7px;border-radius:3px;text-transform:uppercase;letter-spacing:.03em;font-weight:600;cursor:pointer}.toasted-container .toasted .action.icon{padding:4px;display:-ms-flexbox;display:flex;-ms-flex-align:center;align-items:center;-ms-flex-pack:center;justify-content:center}.toasted-container .toasted .action.icon .fa,.toasted-container .toasted .action.icon .material-icons,.toasted-container .toasted .action.icon .mdi{margin-right:0;margin-left:4px}.toasted-container .toasted .action.icon:hover{text-decoration:none}.toasted-container .toasted .action:hover{text-decoration:underline}@media only screen and (max-width:600px){.toasted-container{min-width:100%}.toasted-container .toasted:first-child{margin-top:0}.toasted-container.top-right{top:0;right:0}.toasted-container.top-left{top:0;left:0}.toasted-container.top-center{top:0;left:0;-webkit-transform:translateX(0);transform:translateX(0)}.toasted-container.bottom-right{right:0;bottom:0}.toasted-container.bottom-left{left:0;bottom:0}.toasted-container.bottom-center{left:0;bottom:0;-webkit-transform:translateX(0);transform:translateX(0)}.toasted-container.bottom-center,.toasted-container.top-center{-ms-flex-align:stretch!important;align-items:stretch!important}.toasted-container.bottom-left .toasted,.toasted-container.bottom-right .toasted,.toasted-container.top-left .toasted,.toasted-container.top-right .toasted{float:none}.toasted-container .toasted{border-radius:0}}</style><style type=\"text/css\">.login[data-v-06838cd6] {\\n  position: fixed;\\n  top: 0;\\n  left: 0;\\n  display: flex;\\n  justify-content: center;\\n  align-items: center;\\n  right: 0;\\n  bottom: 0;\\n  background: rgba(0, 0, 0, 0.12);\\n  -webkit-backdrop-filter: blur(8px);\\n          backdrop-filter: blur(8px);\\n  z-index: 2243002;\\n}\\n.login > div[data-v-06838cd6] {\\n  background: white;\\n  flex: 0 1 460px;\\n}\\n.pda-3[data-v-06838cd6] {\\n  border-radius: 8px;\\n}\\n.login--close[data-v-06838cd6] {\\n  border-radius: 8px;\\n  background: #f5f5f5;\\n}</style><style type=\"text/css\">/**\\n    naimi atoms, v0.5\\n*/\\n/*\\n    Typography\\n*/\\n/*\\n    Spacing\\n*/\\n/*\\n    Shadows\\n*/\\n/*\\n    Animation\\n*/\\n/*\\n    Curve\\n*/\\n.cabinet-menu[data-v-3cb74fcc] {\\n  position: absolute;\\n}\\n.cabinet-menu a[data-v-3cb74fcc] {\\n  background-color: transparent;\\n  transition: background-color 0.1s ease-in;\\n}\\n.cabinet-menu a[data-v-3cb74fcc]:hover {\\n  background-color: #F5F5F5;\\n}\\n.login[data-v-3cb74fcc] {\\n  padding-right: 16px;\\n}\\n.login[data-v-3cb74fcc]:after {\\n  content: none;\\n}\\n.dropdown-menu[data-v-3cb74fcc] {\\n  display: none;\\n}\\n.dropdown-menu[data-v-3cb74fcc]:hover {\\n  background: #F5F5F5;\\n}\\n.dropdown-menua[data-v-3cb74fcc]:after {\\n  content: none;\\n}\\n@media (min-width: 1024px) {\\n.dropdown-menu[data-v-3cb74fcc] {\\n    border: 1px solid #B9C1C7;\\n    display: inline-block;\\n}\\n.dropdown-menu[data-v-3cb74fcc]:before {\\n    content: \"person\";\\n}\\n.login[data-v-3cb74fcc] {\\n    padding-right: 16px;\\n}\\n.login[data-v-3cb74fcc]:after {\\n    content: none;\\n}\\n}</style><style type=\"text/css\">/**\\n    naimi atoms, v0.5\\n*/\\n/*\\n    Typography\\n*/\\n/*\\n    Spacing\\n*/\\n/*\\n    Shadows\\n*/\\n/*\\n    Animation\\n*/\\n/*\\n    Curve\\n*/\\n.dropdown[data-v-2dd7ae1e] {\\n  -webkit-backdrop-filter: blur(5px);\\n          backdrop-filter: blur(5px);\\n}</style><style type=\"text/css\">/**\\n    naimi atoms, v0.5\\n*/\\n/*\\n    Typography\\n*/\\n/*\\n    Spacing\\n*/\\n/*\\n    Shadows\\n*/\\n/*\\n    Animation\\n*/\\n/*\\n    Curve\\n*/\\n.start[data-v-2bce5d89] {\\n  flex-wrap: wrap;\\n}\\n.start .flex-item[data-v-2bce5d89] {\\n  width: 100%;\\n  text-align: center;\\n}\\n.start a[data-v-2bce5d89] {\\n  width: 180px;\\n}\\n.start .flex-item:first-child a[data-v-2bce5d89] {\\n  margin-bottom: 16px;\\n}\\n@media (min-width: 768px) {\\n.start[data-v-2bce5d89] {\\n    flex-wrap: nowrap;\\n}\\n.start .flex-item[data-v-2bce5d89] {\\n    width: auto;\\n    text-align: left;\\n}\\n.start a[data-v-2bce5d89] {\\n    width: auto;\\n}\\n.start .flex-item:first-child a[data-v-2bce5d89] {\\n    margin-bottom: 0;\\n}\\n}</style><style type=\"text/css\">.sttt0 {\\n  fill: #FFCE10;\\n}\\n.sttt3, .sttt1 {\\n  fill: #404040;\\n}\\n.sttt2 {\\n  fill: #FFFFFF;\\n}\\n.white {\\n  fill: #FFFFFF;\\n}</style><style type=\"text/css\">.btn .d-ib[data-v-9acfe5c6] {\\n  margin-bottom: -4px;\\n}</style><style type=\"text/css\">.btn .d-ib[data-v-41a457cb] {\\n  margin-bottom: -4px;\\n}</style><script type=\"text/javascript\" async=\"\" src=\"https://widget.kommunicate.io/v2/kommunicate.app\"></script></head>\\n<body id=\"home\">\\n<!-- Google Tag Manager (noscript) -->\\n<noscript>\\n  <iframe src=\"https://www.googletagmanager.com/ns.html?id=GTM-NJH48QQ\"\\n          height=\"0\" width=\"0\" style=\"display:none;visibility:hidden\"></iframe>\\n</noscript>\\n<!-- End Google Tag Manager (noscript) -->\\n<div class=\"content\">\\n    <div id=\"svg-container\">\\n    <svg x=\"0px\" y=\"0px\" height=\"0\" width=\"0\" version=\"1.1\" xmlns=\"http://www.w3.org/2000/svg\">\\n      <style type=\"text/css\">.white {\\n          fill: #FFFFFF;\\n        }</style>\\n      <defs>\\n        <g id=\"whatsapp\">\\n          <path class=\"white\" d=\"M3.8,14.8L0.2,16l1.2-3.6C0.5,11.2,0,9.6,0,8c0-4.4,3.6-8,8-8s8,3.6,8,8s-3.6,8-8,8C6.5,16,5.1,15.6,3.8,14.8z M5.3,3.7c-0.1,0-0.2,0-0.3,0C4.7,3.7,4.4,3.8,4.2,4C4,4.2,3.4,4.7,3.4,5.9c0,1.1,0.8,2.2,0.9,2.4c0.1,0.2,1.6,2.5,3.9,3.5c1.8,0.8,2.4,0.7,2.8,0.6c0.6-0.1,1.4-0.6,1.6-1.1c0.2-0.5,0.2-1,0.1-1.1c-0.1-0.1-0.2-0.2-0.4-0.3c-0.2-0.1-1.4-0.7-1.6-0.7c-0.2-0.1-0.4-0.1-0.6,0.2c-0.2,0.3-0.4,0.6-0.6,0.8c-0.1,0.1-0.4,0.2-0.6,0.1C8.7,10.1,8,9.8,7.1,9C6.4,8.4,6,7.7,5.8,7.4c-0.1-0.2,0-0.4,0.1-0.5C6,6.8,6.1,6.7,6.3,6.6c0.1-0.1,0.2-0.2,0.3-0.4c0.1-0.2,0-0.3,0-0.4C6.4,5.7,6,4.5,5.8,4.1C5.6,3.7,5.5,3.7,5.3,3.7z\"></path>\\n        </g>\\n        <g id=\"whatsapp-black\">\\n          <path d=\"M3.8,14.8L0.2,16l1.2-3.6C0.5,11.2,0,9.6,0,8c0-4.4,3.6-8,8-8s8,3.6,8,8s-3.6,8-8,8C6.5,16,5.1,15.6,3.8,14.8z M5.3,3.7c-0.1,0-0.2,0-0.3,0C4.7,3.7,4.4,3.8,4.2,4C4,4.2,3.4,4.7,3.4,5.9c0,1.1,0.8,2.2,0.9,2.4s1.6,2.5,3.9,3.5c1.8,0.8,2.4,0.7,2.8,0.6c0.6-0.1,1.4-0.6,1.6-1.1c0.2-0.5,0.2-1,0.1-1.1c-0.1-0.1-0.2-0.2-0.4-0.3s-1.4-0.7-1.6-0.7c-0.2-0.1-0.4-0.1-0.6,0.2C9.9,9.7,9.7,10,9.5,10.2c-0.1,0.1-0.4,0.2-0.6,0.1C8.7,10.1,8,9.8,7.1,9C6.4,8.4,6,7.7,5.8,7.4C5.7,7.2,5.8,7,5.9,6.9s0.2-0.2,0.4-0.3c0.1-0.1,0.2-0.2,0.3-0.4c0.1-0.2,0-0.3,0-0.4C6.4,5.7,6,4.5,5.8,4.1C5.6,3.7,5.5,3.7,5.3,3.7z\"></path>\\n        </g>\\n        <g id=\"instagram\">\\n          <path class=\"white\" d=\"M2.1,0C0.9,0,0,0.8,0,2.1l0,11.9C0,15.2,0.9,16,2.1,16h11.9c1.1,0,2.1-0.8,2.1-2.1V2.1C16,0.8,15.1,0,13.9,0L2.1,0L2.1,0zM13.5,1.8c0.4,0,0.7,0.3,0.7,0.7v1.7c0,0.4-0.3,0.7-0.7,0.7h-1.8c-0.4,0-0.7-0.3-0.7-0.7V2.5c0-0.4,0.3-0.7,0.7-0.7H13.5zM14.2,6.8L14.2,6.8l0,6.8c0,0.3-0.3,0.6-0.6,0.6H2.4c-0.3,0-0.6-0.3-0.6-0.6V6.8h1.5C3.1,7.2,3,7.7,3,8.1C3,10.8,5.3,13,8,13c2.7,0,5-2.2,5-4.8c0-0.5-0.1-0.9-0.2-1.4L14.2,6.8L14.2,6.8z M11.2,8c0,1.7-1.4,3.1-3.2,3.1c-1.8,0-3.2-1.4-3.2-3.1S6.2,4.9,8,4.9C9.8,4.9,11.2,6.2,11.2,8z\"></path>\\n        </g>\\n\\n        <g id=\"twitter\">\\n          <path class=\"white\" d=\"M16,3c-0.4,0.7-1,1.2-1.6,1.7l0,0.4c0,4.3-3.3,9.3-9.3,9.3c-1.9,0-3.6-0.5-5-1.5c0.3,0,0.5,0,0.8,0c1.5,0,3-0.5,4.1-1.4c-1.4,0-2.6-1-3.1-2.3c0.2,0,0.4,0.1,0.6,0.1c0.3,0,0.6,0,0.9-0.1C1.8,9,0.6,7.7,0.6,6.1v0c0.4,0.2,0.9,0.4,1.5,0.4C1.3,5.9,0.7,4.9,0.7,3.8c0-0.6,0.2-1.2,0.4-1.6c1.6,2,4,3.3,6.8,3.4C7.8,5.3,7.8,5,7.8,4.8c0-1.8,1.5-3.3,3.3-3.3c0.9,0,1.8,0.4,2.4,1c0.7-0.1,1.5-0.4,2.1-0.8c-0.2,0.8-0.8,1.4-1.4,1.8C14.8,3.5,15.4,3.3,16,3L16,3z\"></path>\\n        </g>\\n        <g id=\"vk\">\\n          <path class=\"white\" d=\"M15.3,10.8c0.2,0.3,0.4,0.5,0.6,0.8c0.2,0.4,0,0.9-0.4,0.9l-2.3,0c-0.6,0-1.1-0.2-1.5-0.6c-0.3-0.3-0.6-0.7-0.9-1c-0.1-0.1-0.3-0.3-0.4-0.4c-0.3-0.2-0.6-0.1-0.8,0.2c-0.2,0.3-0.2,0.7-0.2,1.1c0,0.5-0.2,0.7-0.7,0.7c-1.2,0.1-2.3-0.1-3.3-0.7C4.4,11.3,3.7,10.5,3,9.7c-1.2-1.6-2.1-3.4-3-5.3C-0.1,4,0,3.8,0.5,3.8c0.8,0,1.5,0,2.3,0c0.3,0,0.5,0.2,0.6,0.5c0.4,1,0.9,2,1.5,2.9c0.2,0.2,0.3,0.5,0.6,0.6C5.8,8,6,7.9,6.1,7.6C6.2,7.4,6.3,7.2,6.3,7c0.1-0.7,0.1-1.4,0-2.1C6.2,4.4,5.9,4.2,5.5,4.1C5.3,4,5.3,4,5.4,3.8c0.2-0.2,0.4-0.4,0.7-0.4l2.6,0c0.4,0.1,0.5,0.3,0.6,0.7l0,2.9c0,0.2,0.1,0.6,0.4,0.7c0.2,0.1,0.4-0.1,0.5-0.3c0.6-0.7,1.1-1.5,1.5-2.3c0.2-0.4,0.3-0.7,0.5-1.1c0.1-0.3,0.3-0.4,0.6-0.4l2.5,0c0.1,0,0.2,0,0.2,0c0.4,0.1,0.5,0.3,0.4,0.7c-0.2,0.7-0.6,1.2-1,1.7c-0.4,0.6-0.9,1.2-1.3,1.7c-0.4,0.5-0.4,0.8,0.1,1.3C14.3,9.7,14.9,10.2,15.3,10.8L15.3,10.8z\"></path>\\n        </g>\\n        <g id=\"facebook\">\\n          <path class=\"white\" d=\"M9.2,16H6.3V8.7H3.8V5.9h2.5V3.8C6.3,1.3,7.8,0,10,0c1,0,1.9,0.1,2.2,0.1v2.5h-1.5C9.5,2.7,9.2,3.2,9.2,4v1.8h2.8l-0.4,2.8H9.2L9.2,16L9.2,16z\"></path>\\n        </g>\\n        <g id=\"ok\">\\n          <path class=\"white\" d=\"M8,5.6c-1,0-1.7-0.8-1.7-1.7C6.3,3,7,2.2,8,2.2c1,0,1.7,0.8,1.7,1.7C9.7,4.9,9,5.6,8,5.6 M8,0C5.8,0,4.1,1.8,4.1,3.9c0,2.2,1.8,3.9,3.9,3.9s3.9-1.8,3.9-3.9C11.9,1.8,10.2,0,8,0\"></path>\\n          <path class=\"white\" d=\"M10,11.5c1-0.3,1.8-0.7,2.6-1.3c0.5-0.4,0.5-1.1,0.1-1.5c-0.5-0.5-1.1-0.5-1.5-0.2c-0.9,0.7-2,1.1-3.2,1.1c-1.2,0-2.3-0.4-3.2-1.1c-0.4-0.3-1-0.3-1.4,0.1c-0.6,0.6-0.5,1.2,0,1.6C4.1,10.7,5,11.2,6,11.5l-2.3,2.3c-0.5,0.5-0.5,1.3,0,1.8c0.5,0.5,1.3,0.5,1.8,0L8,13.2l2.5,2.5c0.5,0.5,1.3,0.5,1.8,0c0.5-0.5,0.5-1.3,0-1.8L10,11.5z\"></path>\\n        </g>\\n        <g id=\"youtube\">\\n          <path class=\"white\" d=\"m15.37015,3.79988c-0.17716,-0.74811 -0.69644,-1.33783 -1.35497,-1.53927c-1.20305,-0.37389 -6.01535,-0.37389 -6.01535,-0.37389s-4.81211,0 -6.01517,0.35972c-0.64586,0.20123 -1.17781,0.80545 -1.35497,1.55345c-0.3166,1.3664 -0.3166,4.20012 -0.3166,4.20012s0,2.84801 0.3166,4.20012c0.17735,0.748 0.69644,1.33773 1.35506,1.53917c1.21563,0.374 6.01526,0.374 6.01526,0.374s4.81211,0 6.01517,-0.35972c0.65862,-0.20134 1.17781,-0.79106 1.35516,-1.53906c0.3165,-1.3665 0.3165,-4.20012 0.3165,-4.20012s0.01267,-2.84812 -0.31669,-4.21451l0,-0.00001zm-8.90245,6.81802l0,-5.23579l4.00167,2.6179l-4.00167,2.6179l0,-0.00001zm0,0\"></path>\\n        </g>\\n      </defs>\\n    </svg>\\n  </div>\\n    <div class=\"homepage\">\\n    <header><div class=\"container\"><div class=\"flex\"><div class=\"flex-item logo\"><a href=\"/\"><img height=\"41\" src=\"https://static.naimi.kz/j2yoGZ3TxX/img/logo-new.svg\"></a></div> <div class=\"flex-item ml-6\"><a href=\"/spec\" class=\"text black\">Стать специалистом</a></div> <div class=\"flex-item right fixed-size flex\"><div class=\"lang-selector hidden\"></div> <div class=\"flex-item right flex-shrink mgr-3 mgr-md-5\"><div data-v-3cb74fcc=\"\"><div data-v-3cb74fcc=\"\"><a data-v-3cb74fcc=\"\" href=\"#/login/phone\" class=\"dropdown-menu text black login pdx-3 pdy-xs-2 pdy-0 pdl-md-5\">Вход\\n        </a></div> <!----></div></div> <div class=\"flex-item flex-shrink pos-r d-b pda-0\"><div data-v-2dd7ae1e=\"\" id=\"city-selector\"><button data-v-2dd7ae1e=\"\" type=\"button\" class=\"dropdown-menu hidden-xs hidden-sm\">Алматы\\n    </button> <div data-v-2dd7ae1e=\"\" class=\"popup\"><div data-v-2dd7ae1e=\"\" class=\"popup-body pda-md-5 pda-3\"><div data-v-2dd7ae1e=\"\" class=\"message\">Ваш город Алматы?</div> <div data-v-2dd7ae1e=\"\" class=\"flex\"><button data-v-2dd7ae1e=\"\" type=\"button\" class=\"btn blue mr-3 flex-item\">Да</button> <button data-v-2dd7ae1e=\"\" type=\"button\" class=\"btn red flex-item\">Нет</button></div></div></div> <!----></div></div></div> <div class=\"flex-item right fixed-size hidden-md hidden-lg\"><button type=\"button\" class=\"material-icons menu-button pda-1\">menu</button> <div class=\"mobile-menu\" style=\"display: none;\"><div class=\"bg-white\"><div class=\"lang-selector hidden\"></div> <a href=\"/spec\" class=\"pdx-3 pdy-2 flex width-100p start fs-normal black\">Стать специалистом</a> <a href=\"#\" class=\"pdx-3 pdy-2 flex width-100p text fs-normal black\"><span class=\"flex-item\"></span> <span class=\"flex-item right material-icons fixed-size\">keyboard_arrow_down</span></a> <a href=\"#\" class=\"pdx-3 pdy-2 flex width-100p start fs-normal black\">Вход</a> <!----> <!----></div></div></div></div></div></header>\\n    <div class=\"home--search\">\\n      <div>\\n        <div class=\"container\">\\n          <div class=\"search\">\\n            <h1 class=\"text fs-xlarge bold white d-none\">Более 108 услуг в Алматы за свою\\n              цену</h1>\\n            <h1 class=\"text fs-xlarge bold white\">Лучшие специалисты Алматы с отзывами и ценами</h1>\\n            <div class=\"search-form mb-2\">\\n              <div class=\"flex\"><div class=\"flex-item\"><div class=\"pos-r\"><i class=\"pos-a search-icon material-icons\">search</i> <form class=\"pos-r\"><input type=\"search\" placeholder=\"Напишите, какая услуга вам нужна\" class=\"search-input\"> <!----></form> <!----></div></div> <div class=\"flex-item\"><a href=\"/order?service=&amp;search=\" rel=\"nofollow\" class=\"btn to-new-order blue ta-c\"><span>Создать заявку</span></a></div></div>\\n\\n            </div>\\n            <a href=\"#\" class=\"video-link text white fs-small\" data-toggle=\"modal\" data-target=\"#video\">Что такое\\n              naimi.kz?</a>\\n          </div>\\n        </div>\\n      </div>\\n    </div>\\n    <div class=\"home--wun\">\\n      <div class=\"container\">\\n        <h2 class=\"text fs-xlarge bold mb-3\">Как нанять специалиста на naimi.kz?</h2>\\n        <div class=\"flex\">\\n          <div class=\"flex-item\">\\n            <div class=\"pd-md-3 pdy-3\">\\n              <div class=\"home--wun-icon mb-5\">\\n                <img src=\"https://static.naimi.kz/j2yoGZ3TxX/img/home/coordinate.svg?1605540277\">\\n              </div>\\n              <div class=\"mb-1\">\\n                <!--<a href=\"/order\" class=\"text md td-u\"> -->Оставьте заявку<!--</a>-->\\n              </div>\\n              <div class=\"text sm gray-75\">Опишите, какую работу нужно выполнить, чтобы мы подобрали для вас\\n                специалистов\\n              </div>\\n            </div>\\n          </div>\\n          <div class=\"flex-item\">\\n            <div class=\"pd-md-3 pdy-3\">\\n              <div class=\"home--wun-icon mb-5\">\\n                <img src=\"https://static.naimi.kz/j2yoGZ3TxX/img/home/user-card.svg?1605540277\">\\n              </div>\\n              <div class=\"mb-1\">\\n                <!--<a href=\"/spec\" class=\"text md td-u\">-->Получите предложения<!--</a>-->\\n              </div>\\n              <div class=\"text sm gray-75\">Специалисты сами свяжутся с вами, выберите лучшего по цене и отзывам\\n              </div>\\n            </div>\\n          </div>\\n          <div class=\"flex-item\">\\n            <div class=\"pd-md-3 pdy-3\">\\n              <div class=\"home--wun-icon mb-5\">\\n                <img src=\"https://static.naimi.kz/j2yoGZ3TxX/img/home/star.svg?1605540277\">\\n              </div>\\n              <div class=\"mb-1\">\\n                <span>Оставьте отзыв</span>\\n              </div>\\n              <div class=\"text sm gray-75\">После выполнения работы не забудьте оставить отзыв выбранному специалисту\\n              </div>\\n            </div>\\n          </div>\\n        </div>\\n      </div>\\n    </div>\\n    <div class=\"home--categories categories\">\\n      <div class=\"container categories\">\\n        <div class=\"text fs-xlarge bold mb-3\">Каталог услуг</div>\\n        <div class=\"flex flex-wrap row\">\\n                      <div class=\"flex-item category mb-3\">\\n              <a class=\"flex\" href=\"/almaty/category/domashnij-personal\">\\n                <div class=\"flex-item mr-2 fixed-size\"><img src=\"https://upload.naimi.kz/picture/thumbnail/1YDZpaTE3AQ25Oh?w=96&amp;h=96&amp;m=c\"></div>\\n                <div class=\"flex-item centered\">\\n                  <div class=\"category-title mb-1\">Помощь по хозяйству</div>\\n                  <div class=\"category-description\">Уборка, химчистка, садовники и т.д</div>\\n                </div>\\n              </a>\\n            </div>\\n                      <div class=\"flex-item category mb-3\">\\n              <a class=\"flex\" href=\"/almaty/category/remontnye-raboty\">\\n                <div class=\"flex-item mr-2 fixed-size\"><img src=\"https://upload.naimi.kz/picture/thumbnail/1YDZpbtBiayDS0l?w=96&amp;h=96&amp;m=c\"></div>\\n                <div class=\"flex-item centered\">\\n                  <div class=\"category-title mb-1\">Бытовой ремонт</div>\\n                  <div class=\"category-description\">Сантехники, электрики, мебельщики и т.д</div>\\n                </div>\\n              </a>\\n            </div>\\n                      <div class=\"flex-item category mb-3\">\\n              <a class=\"flex\" href=\"/almaty/category/otdelochnye-raboty\">\\n                <div class=\"flex-item mr-2 fixed-size\"><img src=\"https://upload.naimi.kz/picture/thumbnail/1YDZpBJz5o2GEoW?w=96&amp;h=96&amp;m=c\"></div>\\n                <div class=\"flex-item centered\">\\n                  <div class=\"category-title mb-1\">Отделка и строительство</div>\\n                  <div class=\"category-description\">Штукатуры, кафельщики, кровля и т.д</div>\\n                </div>\\n              </a>\\n            </div>\\n                      <div class=\"flex-item category mb-3\">\\n              <a class=\"flex\" href=\"/almaty/category/tekhnika-i-oborudovanie\">\\n                <div class=\"flex-item mr-2 fixed-size\"><img src=\"https://upload.naimi.kz/picture/thumbnail/1YDZpnIQssNfxP7?w=96&amp;h=96&amp;m=c\"></div>\\n                <div class=\"flex-item centered\">\\n                  <div class=\"category-title mb-1\">Техника и оборудование</div>\\n                  <div class=\"category-description\">Бытовая, компьютерная, сигнализации и т.д</div>\\n                </div>\\n              </a>\\n            </div>\\n                      <div class=\"flex-item category mb-3\">\\n              <a class=\"flex\" href=\"/almaty/category/perevozka-i-dostavka\">\\n                <div class=\"flex-item mr-2 fixed-size\"><img src=\"https://upload.naimi.kz/picture/thumbnail/1YDZpysfBBLO2AL?w=96&amp;h=96&amp;m=c\"></div>\\n                <div class=\"flex-item centered\">\\n                  <div class=\"category-title mb-1\">Перевозка и доставка</div>\\n                  <div class=\"category-description\">Газели, курьеры, грузчики и т.д</div>\\n                </div>\\n              </a>\\n            </div>\\n                      <div class=\"flex-item category mb-3\">\\n              <a class=\"flex\" href=\"/almaty/category/itfreelance\">\\n                <div class=\"flex-item mr-2 fixed-size\"><img src=\"https://upload.naimi.kz/picture/thumbnail/1YDZpkQL07U9Z31?w=96&amp;h=96&amp;m=c\"></div>\\n                <div class=\"flex-item centered\">\\n                  <div class=\"category-title mb-1\">IT и freelance</div>\\n                  <div class=\"category-description\">Разработчики, дизайнеры, smm, фотографы, и т.д</div>\\n                </div>\\n              </a>\\n            </div>\\n                      <div class=\"flex-item category mb-3\">\\n              <a class=\"flex\" href=\"/almaty/category/krasotazdorovie\">\\n                <div class=\"flex-item mr-2 fixed-size\"><img src=\"https://upload.naimi.kz/picture/thumbnail/1YDZpZBufc5018B?w=96&amp;h=96&amp;m=c\"></div>\\n                <div class=\"flex-item centered\">\\n                  <div class=\"category-title mb-1\">Красота и здоровье</div>\\n                  <div class=\"category-description\">Массаж, эпиляция, уход за бровями, ногтями и т.д</div>\\n                </div>\\n              </a>\\n            </div>\\n                      <div class=\"flex-item category mb-3\">\\n              <a class=\"flex\" href=\"/almaty/category/delovieuslugi\">\\n                <div class=\"flex-item mr-2 fixed-size\"><img src=\"https://upload.naimi.kz/picture/thumbnail/1YDZpc3tp0VaTW1?w=96&amp;h=96&amp;m=c\"></div>\\n                <div class=\"flex-item centered\">\\n                  <div class=\"category-title mb-1\">Деловые услуги</div>\\n                  <div class=\"category-description\">Бухгалтеры, юристы, страховщики и т.д</div>\\n                </div>\\n              </a>\\n            </div>\\n                      <div class=\"flex-item category mb-3\">\\n              <a class=\"flex\" href=\"/almaty/category/repetitor-kurs\">\\n                <div class=\"flex-item mr-2 fixed-size\"><img src=\"https://upload.naimi.kz/picture/thumbnail/1YDZppWpKw3IReh?w=96&amp;h=96&amp;m=c\"></div>\\n                <div class=\"flex-item centered\">\\n                  <div class=\"category-title mb-1\">Репетиторы и курсы</div>\\n                  <div class=\"category-description\">Языки, школьные предметы и т.д</div>\\n                </div>\\n              </a>\\n            </div>\\n                      <div class=\"flex-item category mb-3\">\\n              <a class=\"flex\" href=\"/almaty/category/volonteri\">\\n                <div class=\"flex-item mr-2 fixed-size\"><img src=\"https://upload.naimi.kz/picture/thumbnail/1YDZp4LJNn8WuV1?w=96&amp;h=96&amp;m=c\"></div>\\n                <div class=\"flex-item centered\">\\n                  <div class=\"category-title mb-1\">Волонтерская помощь</div>\\n                  <div class=\"category-description\">Безвозмездная помощь волонтеров</div>\\n                </div>\\n              </a>\\n            </div>\\n                      <div class=\"flex-item category mb-3\">\\n              <a class=\"flex\" href=\"/almaty/category/na-postoyannuy-rabotu\">\\n                <div class=\"flex-item mr-2 fixed-size\"><img src=\"https://upload.naimi.kz/picture/thumbnail/1YDZpqWaspVbdgx?w=96&amp;h=96&amp;m=c\"></div>\\n                <div class=\"flex-item centered\">\\n                  <div class=\"category-title mb-1\">На постоянную работу</div>\\n                  <div class=\"category-description\">Сотрудники на длительный период</div>\\n                </div>\\n              </a>\\n            </div>\\n                  </div>\\n      </div>\\n    </div>\\n    <div class=\"home--app-link\">\\n      <div class=\"container\">\\n        <div class=\"app-link\">\\n          <picture>\\n            <source srcset=\"https://static.naimi.kz/j2yoGZ3TxX/img/phone-1440.png?1605540277\" media=\"(min-width: 1440px)\">\\n            <source srcset=\"https://static.naimi.kz/j2yoGZ3TxX/img/phone-1024.png?1605540277\" media=\"(min-width: 1024px)\">\\n            <source srcset=\"https://static.naimi.kz/j2yoGZ3TxX/img/phone-768.png?1605540277\" media=\"(min-width: 768px)\">\\n            <source srcset=\"https://static.naimi.kz/j2yoGZ3TxX/img/phone-360.png?1605540277\" media=\"(max-width: 767px)\">\\n            <img src=\"https://static.naimi.kz/j2yoGZ3TxX/img/phone-1440.png?1605540277\">\\n          </picture>\\n          <div class=\"flex hidden visible-sm visible-md visible-lg\">\\n            <div class=\"flex-item\">\\n              <div class=\"text lg bold mb-3\">Нанимайте специалиста в один клик<br> в бесплатном приложении Naimi.kz\\n              </div>\\n              <div class=\"mobile-app-form\"><form class=\"form-row\"><div class=\"flex mb-4\"><div class=\"flex-item phone\"><input placeholder=\"(000) 000-00-00\" type=\"text\" class=\"\"></div> <div class=\"flex-item\"><button type=\"submit\" class=\"btn blue\">Отправить</button></div></div></form> <!----></div>\\n              <div class=\" flex mobile-apps start\">\\n                <div class=\"flex-item fixed-size\">\\n                  <a href=\"https://redirect.appmetrica.yandex.com/serve/602893953037074320\" rel=\"nofollow\" target=\"_blank\" class=\"btn apple\"><span>Скачать для iPhone</span></a>\\n                </div>\\n                <div class=\"flex-item fixed-size\">\\n                  <a href=\"https://redirect.appmetrica.yandex.com/serve/602893951476755217\" target=\"_blank\" rel=\"nofollow\" class=\"btn android\"><span>Скачать для Android</span></a>\\n                </div>\\n              </div>\\n            </div>\\n          </div>\\n          <div class=\"flex flex-wrap visible-xs hidden\">\\n            <div class=\"flex-item ta-c\">Скачайте наше мобильное приложение</div>\\n            <div class=\"flex-item\">\\n              <a href=\"/app\" rel=\"nofollow\" target=\"_blank\" class=\"ta-c btn blue\">Скачать приложение</a>\\n            </div>\\n          </div>\\n        </div>\\n      </div>\\n    </div>\\n        <div class=\"home--reviews\">\\n      <div class=\"container\">\\n        <div class=\"text lg bold mb-3\">Последние отзывы клиентов</div>\\n        <ul>\\n          <li class=\"mb-3\">\\n            <div class=\"reviews-summary\">\\n  <div class=\"p-3\">\\n    <div class=\"flex centered\">\\n      <div class=\"flex-item fixed-size\">\\n        <div class=\"text xxlg bold green mr-2\">98 %</div>\\n      </div>\\n      <div class=\"flex-item\">\\n        <img src=\"https://static.naimi.kz/j2yoGZ3TxX/img/home/like-2@2x.png?1605540277\">\\n      </div>\\n    </div>\\n    <div class=\"text sm bold green mb-3\">положительных отзывов</div>\\n        <div class=\"text md mb-1\">\\n      <span class=\"text bold\">23833 отзывов</span> оставили клиенты за последние 12 месяцев\\n    </div>\\n    \\n  </div>\\n</div>\\n\\n          </li>\\n                      <li class=\"mb-3\">\\n                                                                          <div class=\"--review p-3\">\\n            <div class=\"flex centered mb-2\">\\n                <div class=\"flex-item fixed-size left\">\\n                    <div class=\"text sm bold tt-u green\">\\n                        Положительно\\n                    </div>\\n                </div>\\n                <div class=\"flex-item fixed-size right\">\\n                    <div class=\"text sm tt-u\">16 ноября</div>\\n                </div>\\n            </div>\\n\\n            <div class=\"flex centered mb-2\">\\n                <div class=\"flex-item fixed-size mr-2\">\\n                    <div class=\"--review-avatar pos-r\">\\n                        <a href=\"/specialist/55384\">\\n                            <img width=\"64\" height=\"64\" src=\"https://upload.naimi.kz/picture/thumbnail/1YDZpNbE5H3xJFe?w=64&amp;h=64&amp;m=c\" alt=\"Сарсен Сандибаев\"></a>\\n                        <span class=\"--review-level text xxs\">6</span>\\n                    </div>\\n                </div>\\n                <div class=\"flex-item\">\\n                    <a href=\"/specialist/55384\" class=\"text md mb-half\">Сарсен Сандибаев</a>\\n                                            <div class=\"text sm  --review-count\">\\n                            (34 отзыва\\n                            )\\n                        </div>\\n                                    </div>\\n            </div>\\n            <div class=\"text md mb-2\">\\n                Требовались услуги грузчика. Норм.  #Пунктуальный\\n            </div>\\n                \\n            <div class=\"flex v-centered start flex-wrap\">\\n                <div class=\"flex-item fixed-size mr-1\">Асхат</div>\\n                <div class=\"flex-item fixed-size mr-1\"><span class=\"--circle-dots\"></span></div>\\n                                    <div class=\"flex-item fixed-size mr-1\">6000 тг.</div>\\n                                <div class=\"flex-item fixed-size\">\\n\\n                                                                \\n                                            <a href=\"/almaty/service/gruzchik-na-chas \">«Грузчик на час»\\n                        </a>\\n                                    </div>\\n            </div>\\n        </div>\\n    \\n            </li>\\n                      <li class=\"mb-3\">\\n                                                                          <div class=\"--review p-3\">\\n            <div class=\"flex centered mb-2\">\\n                <div class=\"flex-item fixed-size left\">\\n                    <div class=\"text sm bold tt-u green\">\\n                        Положительно\\n                    </div>\\n                </div>\\n                <div class=\"flex-item fixed-size right\">\\n                    <div class=\"text sm tt-u\">16 ноября</div>\\n                </div>\\n            </div>\\n\\n            <div class=\"flex centered mb-2\">\\n                <div class=\"flex-item fixed-size mr-2\">\\n                    <div class=\"--review-avatar pos-r\">\\n                        <a href=\"/specialist/108264\">\\n                            <img width=\"64\" height=\"64\" src=\"https://upload.naimi.kz/picture/thumbnail/1YDZpS11noR9JAy?w=64&amp;h=64&amp;m=c\" alt=\"Абзал Уйкасбаев\"></a>\\n                        <span class=\"--review-level text xxs\">9</span>\\n                    </div>\\n                </div>\\n                <div class=\"flex-item\">\\n                    <a href=\"/specialist/108264\" class=\"text md mb-half\">Абзал Уйкасбаев</a>\\n                                            <div class=\"text sm  --review-count\">\\n                            (37 отзывов\\n                            )\\n                        </div>\\n                                    </div>\\n            </div>\\n            <div class=\"text md mb-2\">\\n                Требовалась укладка ламината порядка 50 м2, работу выполнили за один день, все очень аккуратно, прекрасная команда👍.  #Опрятный вид #Вежливое общение #Качественная работа #Хорошая цена\\n            </div>\\n                        <div class=\"flex --gallery start mb-2 flex-wrap\">\\n                            <div class=\"flex-item fixed-size\">\\n                    <a href=\"https://upload.naimi.kz/picture/thumbnail/1YDZpM3UpNBma4E?w=0&amp;h=0&amp;m=r\" target=\"_blank\" data-fancybox=\"review186252\">\\n                        <img src=\"https://upload.naimi.kz/picture/thumbnail/1YDZpM3UpNBma4E?w=78&amp;h=78&amp;m=c\">\\n                    </a>\\n                </div>\\n                    </div>\\n    \\n            <div class=\"flex v-centered start flex-wrap\">\\n                <div class=\"flex-item fixed-size mr-1\">Екатерина</div>\\n                <div class=\"flex-item fixed-size mr-1\"><span class=\"--circle-dots\"></span></div>\\n                                <div class=\"flex-item fixed-size\">\\n\\n                                                                \\n                                            <a href=\"/almaty/service/ukladka-laminata \">«Укладка ламината»\\n                        </a>\\n                                    </div>\\n            </div>\\n        </div>\\n    \\n            </li>\\n                      <li class=\"mb-3\">\\n                                                                          <div class=\"--review p-3\">\\n            <div class=\"flex centered mb-2\">\\n                <div class=\"flex-item fixed-size left\">\\n                    <div class=\"text sm bold tt-u green\">\\n                        Положительно\\n                    </div>\\n                </div>\\n                <div class=\"flex-item fixed-size right\">\\n                    <div class=\"text sm tt-u\">16 ноября</div>\\n                </div>\\n            </div>\\n\\n            <div class=\"flex centered mb-2\">\\n                <div class=\"flex-item fixed-size mr-2\">\\n                    <div class=\"--review-avatar pos-r\">\\n                        <a href=\"/specialist/203890\">\\n                            <img width=\"64\" height=\"64\" src=\"https://upload.naimi.kz/picture/thumbnail/1YDZpDwD0XOaQzN?w=64&amp;h=64&amp;m=c\" alt=\"Андрей Балакин\"></a>\\n                        <span class=\"--review-level text xxs\">6</span>\\n                    </div>\\n                </div>\\n                <div class=\"flex-item\">\\n                    <a href=\"/specialist/203890\" class=\"text md mb-half\">Андрей Балакин</a>\\n                                            <div class=\"text sm  --review-count\">\\n                            (16 отзывов\\n                            )\\n                        </div>\\n                                    </div>\\n            </div>\\n            <div class=\"text md mb-2\">\\n                Отличный мастер, аккуратно вскрыл кафельную стену, поменял трубу.  #Пунктуальный #Опрятный вид #Вежливое общение #Качественная работа\\n            </div>\\n                        <div class=\"flex --gallery start mb-2 flex-wrap\">\\n                            <div class=\"flex-item fixed-size\">\\n                    <a href=\"https://upload.naimi.kz/picture/thumbnail/1YDZp7Th79sAQNG?w=0&amp;h=0&amp;m=r\" target=\"_blank\" data-fancybox=\"review186250\">\\n                        <img src=\"https://upload.naimi.kz/picture/thumbnail/1YDZp7Th79sAQNG?w=78&amp;h=78&amp;m=c\">\\n                    </a>\\n                </div>\\n                    </div>\\n    \\n            <div class=\"flex v-centered start flex-wrap\">\\n                <div class=\"flex-item fixed-size mr-1\">Евгения</div>\\n                <div class=\"flex-item fixed-size mr-1\"><span class=\"--circle-dots\"></span></div>\\n                                    <div class=\"flex-item fixed-size mr-1\">12000 тг.</div>\\n                                <div class=\"flex-item fixed-size\">\\n\\n                                                                \\n                                            <a href=\"/almaty/service/santehniki \">«Сантехники»\\n                        </a>\\n                                    </div>\\n            </div>\\n        </div>\\n    \\n            </li>\\n                      <li class=\"mb-3\">\\n                                                                          <div class=\"--review p-3\">\\n            <div class=\"flex centered mb-2\">\\n                <div class=\"flex-item fixed-size left\">\\n                    <div class=\"text sm bold tt-u green\">\\n                        Положительно\\n                    </div>\\n                </div>\\n                <div class=\"flex-item fixed-size right\">\\n                    <div class=\"text sm tt-u\">16 ноября</div>\\n                </div>\\n            </div>\\n\\n            <div class=\"flex centered mb-2\">\\n                <div class=\"flex-item fixed-size mr-2\">\\n                    <div class=\"--review-avatar pos-r\">\\n                        <a href=\"/specialist/59309\">\\n                            <img width=\"64\" height=\"64\" src=\"https://upload.naimi.kz/picture/thumbnail/1YDZpXHiRN9k7gl?w=64&amp;h=64&amp;m=c\" alt=\"Торежан Артыкбаев\"></a>\\n                        <span class=\"--review-level text xxs\">18</span>\\n                    </div>\\n                </div>\\n                <div class=\"flex-item\">\\n                    <a href=\"/specialist/59309\" class=\"text md mb-half\">Торежан Артыкбаев</a>\\n                                            <div class=\"text sm  --review-count\">\\n                            (255 отзывов\\n                            )\\n                        </div>\\n                                    </div>\\n            </div>\\n            <div class=\"text md mb-2\">\\n                Установка плинтуса. С работой справился 👍по просьбе выполнил дополнительную работу, за что отдельное спасибо).  #Пунктуальный #Был в маске\\n            </div>\\n                \\n            <div class=\"flex v-centered start flex-wrap\">\\n                <div class=\"flex-item fixed-size mr-1\">Мила</div>\\n                <div class=\"flex-item fixed-size mr-1\"><span class=\"--circle-dots\"></span></div>\\n                                    <div class=\"flex-item fixed-size mr-1\">10000 тг.</div>\\n                                <div class=\"flex-item fixed-size\">\\n\\n                                                                \\n                                            <a href=\"/almaty/service/ustanovka-plintusa \">«Установка плинтуса»\\n                        </a>\\n                                    </div>\\n            </div>\\n        </div>\\n    \\n            </li>\\n                      <li class=\"mb-3\">\\n                                                                          <div class=\"--review p-3\">\\n            <div class=\"flex centered mb-2\">\\n                <div class=\"flex-item fixed-size left\">\\n                    <div class=\"text sm bold tt-u green\">\\n                        Положительно\\n                    </div>\\n                </div>\\n                <div class=\"flex-item fixed-size right\">\\n                    <div class=\"text sm tt-u\">16 ноября</div>\\n                </div>\\n            </div>\\n\\n            <div class=\"flex centered mb-2\">\\n                <div class=\"flex-item fixed-size mr-2\">\\n                    <div class=\"--review-avatar pos-r\">\\n                        <a href=\"/specialist/230867\">\\n                            <img width=\"64\" height=\"64\" src=\"https://upload.naimi.kz/picture/thumbnail/1YDZpE3UORCqXTw?w=64&amp;h=64&amp;m=c\" alt=\"Перизат Илесова\"></a>\\n                        <span class=\"--review-level text xxs\">2</span>\\n                    </div>\\n                </div>\\n                <div class=\"flex-item\">\\n                    <a href=\"/specialist/230867\" class=\"text md mb-half\">Перизат Илесова</a>\\n                                            <div class=\"text sm  --review-count\">\\n                            (1 отзыв\\n                            )\\n                        </div>\\n                                    </div>\\n            </div>\\n            <div class=\"text md mb-2\">\\n                Перизат пришла на час раньше 👆🏼👍🏻 очень чистоплотная! Уборка на 10+\\n            </div>\\n                \\n            <div class=\"flex v-centered start flex-wrap\">\\n                <div class=\"flex-item fixed-size mr-1\">Айгерим</div>\\n                <div class=\"flex-item fixed-size mr-1\"><span class=\"--circle-dots\"></span></div>\\n                                    <div class=\"flex-item fixed-size mr-1\">5000 тг.</div>\\n                                <div class=\"flex-item fixed-size\">\\n\\n                                                                \\n                                            <a href=\"/almaty/service/uborka \">«Уборка»\\n                        </a>\\n                                    </div>\\n            </div>\\n        </div>\\n    \\n            </li>\\n                      <li class=\"mb-3\">\\n                                                                          <div class=\"--review p-3\">\\n            <div class=\"flex centered mb-2\">\\n                <div class=\"flex-item fixed-size left\">\\n                    <div class=\"text sm bold tt-u green\">\\n                        Положительно\\n                    </div>\\n                </div>\\n                <div class=\"flex-item fixed-size right\">\\n                    <div class=\"text sm tt-u\">16 ноября</div>\\n                </div>\\n            </div>\\n\\n            <div class=\"flex centered mb-2\">\\n                <div class=\"flex-item fixed-size mr-2\">\\n                    <div class=\"--review-avatar pos-r\">\\n                        <a href=\"/specialist/257308\">\\n                            <img width=\"64\" height=\"64\" src=\"https://upload.naimi.kz/picture/thumbnail/1YDZpfcsc3raH8N?w=64&amp;h=64&amp;m=c\" alt=\"Сергей Бангерт\"></a>\\n                        <span class=\"--review-level text xxs\">2</span>\\n                    </div>\\n                </div>\\n                <div class=\"flex-item\">\\n                    <a href=\"/specialist/257308\" class=\"text md mb-half\">Сергей Бангерт</a>\\n                                            <div class=\"text sm  --review-count\">\\n                            (2 отзыва\\n                            )\\n                        </div>\\n                                    </div>\\n            </div>\\n            <div class=\"text md mb-2\">\\n                Требовались услуги грузчика. Работу выполнил.\\n            </div>\\n                \\n            <div class=\"flex v-centered start flex-wrap\">\\n                <div class=\"flex-item fixed-size mr-1\">Айтжан</div>\\n                <div class=\"flex-item fixed-size mr-1\"><span class=\"--circle-dots\"></span></div>\\n                                    <div class=\"flex-item fixed-size mr-1\">8000 тг.</div>\\n                                <div class=\"flex-item fixed-size\">\\n\\n                                                                \\n                                            <a href=\"/almaty/service/gruzchiki \">«Грузчики»\\n                        </a>\\n                                    </div>\\n            </div>\\n        </div>\\n    \\n            </li>\\n                      <li class=\"mb-3\">\\n                                                                          <div class=\"--review p-3\">\\n            <div class=\"flex centered mb-2\">\\n                <div class=\"flex-item fixed-size left\">\\n                    <div class=\"text sm bold tt-u green\">\\n                        Положительно\\n                    </div>\\n                </div>\\n                <div class=\"flex-item fixed-size right\">\\n                    <div class=\"text sm tt-u\">16 ноября</div>\\n                </div>\\n            </div>\\n\\n            <div class=\"flex centered mb-2\">\\n                <div class=\"flex-item fixed-size mr-2\">\\n                    <div class=\"--review-avatar pos-r\">\\n                        <a href=\"/specialist/155877\">\\n                            <img width=\"64\" height=\"64\" src=\"https://upload.naimi.kz/picture/thumbnail/1YDZpxGPMrLXE0W?w=64&amp;h=64&amp;m=c\" alt=\"Андрей Бармин\"></a>\\n                        <span class=\"--review-level text xxs\">10</span>\\n                    </div>\\n                </div>\\n                <div class=\"flex-item\">\\n                    <a href=\"/specialist/155877\" class=\"text md mb-half\">Андрей Бармин</a>\\n                                            <div class=\"text sm  --review-count\">\\n                            (47 отзывов\\n                            )\\n                        </div>\\n                                    </div>\\n            </div>\\n            <div class=\"text md mb-2\">\\n                Прокладка провода. Все сделал хорошо.\\n            </div>\\n                \\n            <div class=\"flex v-centered start flex-wrap\">\\n                <div class=\"flex-item fixed-size mr-1\">Ксения</div>\\n                <div class=\"flex-item fixed-size mr-1\"><span class=\"--circle-dots\"></span></div>\\n                                <div class=\"flex-item fixed-size\">\\n\\n                                                                \\n                                            <a href=\"/almaty/service/elektriki \">«Электрики»\\n                        </a>\\n                                    </div>\\n            </div>\\n        </div>\\n    \\n            </li>\\n                      <li class=\"mb-3\">\\n                                                                          <div class=\"--review p-3\">\\n            <div class=\"flex centered mb-2\">\\n                <div class=\"flex-item fixed-size left\">\\n                    <div class=\"text sm bold tt-u green\">\\n                        Положительно\\n                    </div>\\n                </div>\\n                <div class=\"flex-item fixed-size right\">\\n                    <div class=\"text sm tt-u\">16 ноября</div>\\n                </div>\\n            </div>\\n\\n            <div class=\"flex centered mb-2\">\\n                <div class=\"flex-item fixed-size mr-2\">\\n                    <div class=\"--review-avatar pos-r\">\\n                        <a href=\"/specialist/56735\">\\n                            <img width=\"64\" height=\"64\" src=\"https://upload.naimi.kz/picture/thumbnail/1YDZpll4RzmDT5n?w=64&amp;h=64&amp;m=c\" alt=\"Олег Михайлов\"></a>\\n                        <span class=\"--review-level text xxs\">8</span>\\n                    </div>\\n                </div>\\n                <div class=\"flex-item\">\\n                    <a href=\"/specialist/56735\" class=\"text md mb-half\">Олег Михайлов</a>\\n                                            <div class=\"text sm  --review-count\">\\n                            (19 отзывов\\n                            )\\n                        </div>\\n                                    </div>\\n            </div>\\n            <div class=\"text md mb-2\">\\n                Мы привлекли Олега на полный  ремонт ванны и туалета, укладка кафеля и сантехнические работы. Показав отличное качество работы, в итоге продолжили до полного завершения ремонта всей квартиры, так как другие мастера не шли ни в какое сравнение с уровнем Олега. Олег предложил нам оптимальные варианты по материалам (плитка, двери и прочее), которыми мы воспользовались и не пожалели.\\nОсобенно хотели отметить человеческие качества Олега - порядочность, пунктуальность, работоспособность. Таких мастеров по пальцам пересчитать, поэтому договаривайтесь с Олегом заранее, лучше подождать, чем потом пожалеть..  #Пунктуальный #Опрятный вид #Вежливое общение #Качественная работа #Был в маске\\n            </div>\\n                        <div class=\"flex --gallery start mb-2 flex-wrap\">\\n                            <div class=\"flex-item fixed-size mr-1\">\\n                    <a href=\"https://upload.naimi.kz/picture/thumbnail/1YDZpgvsBszMN5u?w=0&amp;h=0&amp;m=r\" target=\"_blank\" data-fancybox=\"review186195\">\\n                        <img src=\"https://upload.naimi.kz/picture/thumbnail/1YDZpgvsBszMN5u?w=78&amp;h=78&amp;m=c\">\\n                    </a>\\n                </div>\\n                            <div class=\"flex-item fixed-size mr-1\">\\n                    <a href=\"https://upload.naimi.kz/picture/thumbnail/1YDZpntpXYX7vUL?w=0&amp;h=0&amp;m=r\" target=\"_blank\" data-fancybox=\"review186195\">\\n                        <img src=\"https://upload.naimi.kz/picture/thumbnail/1YDZpntpXYX7vUL?w=78&amp;h=78&amp;m=c\">\\n                    </a>\\n                </div>\\n                            <div class=\"flex-item fixed-size\">\\n                    <a href=\"https://upload.naimi.kz/picture/thumbnail/1YDZpRhzRf0DhoX?w=0&amp;h=0&amp;m=r\" target=\"_blank\" data-fancybox=\"review186195\">\\n                        <img src=\"https://upload.naimi.kz/picture/thumbnail/1YDZpRhzRf0DhoX?w=78&amp;h=78&amp;m=c\">\\n                    </a>\\n                </div>\\n                    </div>\\n    \\n            <div class=\"flex v-centered start flex-wrap\">\\n                <div class=\"flex-item fixed-size mr-1\">Гульсум</div>\\n                <div class=\"flex-item fixed-size mr-1\"><span class=\"--circle-dots\"></span></div>\\n                                    <div class=\"flex-item fixed-size mr-1\">900000 тг.</div>\\n                                <div class=\"flex-item fixed-size\">\\n\\n                                                                \\n                                            <a href=\"/almaty/service/raboty-s-plitkoi-i-kafelem \">«Работы с плиткой и кафелем»\\n                        </a>\\n                                    </div>\\n            </div>\\n        </div>\\n    \\n            </li>\\n                      <li class=\"mb-3\">\\n                                                                          <div class=\"--review p-3\">\\n            <div class=\"flex centered mb-2\">\\n                <div class=\"flex-item fixed-size left\">\\n                    <div class=\"text sm bold tt-u green\">\\n                        Положительно\\n                    </div>\\n                </div>\\n                <div class=\"flex-item fixed-size right\">\\n                    <div class=\"text sm tt-u\">16 ноября</div>\\n                </div>\\n            </div>\\n\\n            <div class=\"flex centered mb-2\">\\n                <div class=\"flex-item fixed-size mr-2\">\\n                    <div class=\"--review-avatar pos-r\">\\n                        <a href=\"/specialist/70348\">\\n                            <img width=\"64\" height=\"64\" src=\"https://upload.naimi.kz/picture/thumbnail/1YDZpawVvkmB2jI?w=64&amp;h=64&amp;m=c\" alt=\"Наим-Бек Мамедов\"></a>\\n                        <span class=\"--review-level text xxs\">14</span>\\n                    </div>\\n                </div>\\n                <div class=\"flex-item\">\\n                    <a href=\"/specialist/70348\" class=\"text md mb-half\">Наим-Бек Мамедов</a>\\n                                            <div class=\"text sm  --review-count\">\\n                            (126 отзывов\\n                            )\\n                        </div>\\n                                    </div>\\n            </div>\\n            <div class=\"text md mb-2\">\\n                Прибыл сразу,  сделал все профессионально, даже больше чем требовалось по заявке (починил элетророзетку. Буду обращаться еще, в случае необходимости. Советую.  #Пунктуальный #Вежливое общение #Качественная работа\\n            </div>\\n                \\n            <div class=\"flex v-centered start flex-wrap\">\\n                <div class=\"flex-item fixed-size mr-1\">Гаухар</div>\\n                <div class=\"flex-item fixed-size mr-1\"><span class=\"--circle-dots\"></span></div>\\n                                    <div class=\"flex-item fixed-size mr-1\">6000 тг.</div>\\n                                <div class=\"flex-item fixed-size\">\\n\\n                                                                \\n                                            <a href=\"/almaty/service/santehniki \">«Сантехники»\\n                        </a>\\n                                    </div>\\n            </div>\\n        </div>\\n    \\n            </li>\\n                      <li class=\"mb-3\">\\n                                                                          <div class=\"--review p-3\">\\n            <div class=\"flex centered mb-2\">\\n                <div class=\"flex-item fixed-size left\">\\n                    <div class=\"text sm bold tt-u green\">\\n                        Положительно\\n                    </div>\\n                </div>\\n                <div class=\"flex-item fixed-size right\">\\n                    <div class=\"text sm tt-u\">16 ноября</div>\\n                </div>\\n            </div>\\n\\n            <div class=\"flex centered mb-2\">\\n                <div class=\"flex-item fixed-size mr-2\">\\n                    <div class=\"--review-avatar pos-r\">\\n                        <a href=\"/specialist/151876\">\\n                            <img width=\"64\" height=\"64\" src=\"https://upload.naimi.kz/picture/thumbnail/1YDZpQ9Rs80t5Jl?w=64&amp;h=64&amp;m=c\" alt=\"Мадияр Калибеков\"></a>\\n                        <span class=\"--review-level text xxs\">4</span>\\n                    </div>\\n                </div>\\n                <div class=\"flex-item\">\\n                    <a href=\"/specialist/151876\" class=\"text md mb-half\">Мадияр Калибеков</a>\\n                                            <div class=\"text sm  --review-count\">\\n                            (8 отзывов\\n                            )\\n                        </div>\\n                                    </div>\\n            </div>\\n            <div class=\"text md mb-2\">\\n                Починил водопровод, уличные светильники, остались довольны. Рекомендуем!.  #Пунктуальный #Опрятный вид #Вежливое общение #Качественная работа #Хорошая цена #Был в маске\\n            </div>\\n                \\n            <div class=\"flex v-centered start flex-wrap\">\\n                <div class=\"flex-item fixed-size mr-1\">Амир</div>\\n                <div class=\"flex-item fixed-size mr-1\"><span class=\"--circle-dots\"></span></div>\\n                                    <div class=\"flex-item fixed-size mr-1\">3000 тг.</div>\\n                                <div class=\"flex-item fixed-size\">\\n\\n                                                                \\n                                            <a href=\"/almaty/service/santehniki \">«Сантехники»\\n                        </a>\\n                                    </div>\\n            </div>\\n        </div>\\n    \\n            </li>\\n                  </ul>\\n      </div>\\n    </div>\\n        <div class=\"home--faq\">\\n      <div class=\"container\">\\n        <div class=\"text lg mb-3 bold\">Вопрос-ответ</div>\\n        <div class=\"mb-2\">\\n          <div><div class=\"--faq mb-2\"><div class=\"p-2 --faq-closed\"><div class=\"flex centered\"><div class=\"flex-item\"><div class=\"text sm\">Какую проверку проходят специалисты?</div> <div aria-hidden=\"true\" hidden=\"hidden\" style=\"height: 0px; overflow: hidden; transition-property: height; transition-duration: 100ms;\"><div class=\"text xs gray-bd\"></div></div></div> <div class=\"flex-item fixed-size right\"><div class=\"--faq-icon\"><span class=\"material-icons text md p-1\">add</span></div></div></div> <div aria-hidden=\"true\" hidden=\"hidden\" style=\"height: 0px; overflow: hidden; transition-property: height; transition-duration: 100ms;\"><div class=\"text sm\">Специалисты с пометкой ✔️предоставили свои документы для подтверждения личности и прошли проверку на отсутствие грубых правонарушений.</div></div></div></div><div class=\"--faq mb-2\"><div class=\"p-2 --faq-closed\"><div class=\"flex centered\"><div class=\"flex-item\"><div class=\"text sm\">Как оставить отзыв на спеца?</div> <div aria-hidden=\"true\" hidden=\"hidden\" style=\"height: 0px; overflow: hidden; transition-property: height; transition-duration: 100ms;\"><div class=\"text xs gray-bd\"></div></div></div> <div class=\"flex-item fixed-size right\"><div class=\"--faq-icon\"><span class=\"material-icons text md p-1\">add</span></div></div></div> <div aria-hidden=\"true\" hidden=\"hidden\" style=\"height: 0px; overflow: hidden; transition-property: height; transition-duration: 100ms;\"><div class=\"text sm\">Откройте нужный заказ во вкладке Мои заявки и выберите чат со специалистом, который выполнял работу. Нажмите троеточие в верхней части экрана и нажмите “Написать отзыв”.</div></div></div></div><div class=\"--faq\"><div class=\"p-2 --faq-closed\"><div class=\"flex centered\"><div class=\"flex-item\"><div class=\"text sm\">Я договорился со спецом, что дальше?</div> <div aria-hidden=\"true\" hidden=\"hidden\" style=\"height: 0px; overflow: hidden; transition-property: height; transition-duration: 100ms;\"><div class=\"text xs gray-bd\"></div></div></div> <div class=\"flex-item fixed-size right\"><div class=\"--faq-icon\"><span class=\"material-icons text md p-1\">add</span></div></div></div> <div aria-hidden=\"true\" hidden=\"hidden\" style=\"height: 0px; overflow: hidden; transition-property: height; transition-duration: 100ms;\"><div class=\"text sm\">Если вы договорились со спецом, нажмите на кнопку “Договорились” в чате с ним. Статус заявки изменится на “Неактивна” и вы перестанете получать новые отклики.</div></div></div></div></div>\\n        </div>\\n        <a class=\"arrow-button\" href=\"https://www.notion.so/04c1fcc791da464fbc692c6c239e2c7e\" target=\"_blank\">Ответы на\\n          все вопросы</a>\\n      </div>\\n    </div>\\n    <div class=\"home--become-specialist\">\\n      <div class=\"container\">\\n        <div class=\"become-specialist\">\\n          <div class=\"text lg bold white mb-2\">Более 1000 клиентов заказывают услуги в Naimi.kz</div>\\n          <div class=\"text sm white mb-4\">Регистрируйтесь в роли специалиста и начните зарабатывать уже сегодня</div>\\n          <a href=\"/spec\" class=\"btn blue\"><span class=\"text sm\">Стать специалистом Naimi.kz</span></a>\\n        </div>\\n      </div>\\n    </div>\\n\\n    <div class=\"home--blog-posts\">\\n      <div class=\"container\">\\n        <div class=\"text lg bold mb-3 \">Новые публикации в блоге</div>\\n                    <div class=\"flex flex-wrap\">\\n                            <div class=\"flex-item fixed-size mb-3\">\\n                    <a href=\"https://blog.naimi.kz/kak_najti_nyanyu_dlya_svoego_rebenka\" target=\"_blank\" rel=\"nofollow\">\\n                        <div class=\"mb-3\">\\n                            <img src=\"https://upload.naimi.kz/picture/thumbnail/1YDZpjwAkOG2KBy?w=0&amp;h=0&amp;m=c\">\\n                        </div>\\n                        <div class=\"text md bold mb-1\">Как найти хорошую няню  для ребенка?</div>\\n                        <div class=\"text sm gray-75\"></div>\\n                    </a>\\n                </div>\\n                            <div class=\"flex-item fixed-size mb-3\">\\n                    <a href=\"https://blog.naimi.kz/chto_vhodit_v_generalnuyu_uborku\" target=\"_blank\" rel=\"nofollow\">\\n                        <div class=\"mb-3\">\\n                            <img src=\"https://upload.naimi.kz/picture/thumbnail/1YDZpS5dORIySsA?w=0&amp;h=0&amp;m=c\">\\n                        </div>\\n                        <div class=\"text md bold mb-1\">Что входит в генеральную уборку?</div>\\n                        <div class=\"text sm gray-75\"></div>\\n                    </a>\\n                </div>\\n                            <div class=\"flex-item fixed-size mb-3\">\\n                    <a href=\"https://blog.naimi.kz/top_9_luchshih_filmov_na_hellouin\" target=\"_blank\" rel=\"nofollow\">\\n                        <div class=\"mb-3\">\\n                            <img src=\"https://upload.naimi.kz/picture/thumbnail/1YDZpyDxFKxyjbT?w=0&amp;h=0&amp;m=c\">\\n                        </div>\\n                        <div class=\"text md bold mb-1\">ТОП-9 лучших фильмов  на Хэллоуин</div>\\n                        <div class=\"text sm gray-75\"></div>\\n                    </a>\\n                </div>\\n                    </div>\\n    \\n      </div>\\n    </div>\\n\\n    <div class=\"modal fade\" tabindex=\"-1\" id=\"video\" role=\"dialog\">\\n      <div class=\"modal-dialog modal-dialog-centered modal-lg\" role=\"document\">\\n        <div class=\"modal-content\">\\n          <div class=\"modal-body\">\\n            <div class=\"video-wrapper\">\\n              <iframe src=\"https://www.youtube-nocookie.com/embed/XNwrCdaGsIc?modestbranding=1&amp;rel=0&amp;showinfo=0\" frameborder=\"0\" allow=\"accelerometer; autoplay; encrypted-media; gyroscope; picture-in-picture\" allowfullscreen=\"\"></iframe>\\n            </div>\\n          </div>\\n        </div>\\n      </div>\\n    </div>\\n  </div>\\n  <footer><div class=\"container\"><div class=\"flex mb-8\"><div class=\"flex-item accordeon\"><div class=\"mb-4 text white sm medium\">Компания</div> <ul><li class=\"mb-1\"><a href=\"/about\" class=\"text gray-cc xs\">О нас</a></li> <li class=\"mb-1\"><a href=\"/jobs\" class=\"text gray-cc xs\">Вакансии</a></li> <li class=\"mb-1\"><a href=\"https://blog.naimi.kz/\" class=\"text gray-cc xs\">Блог</a></li> <li class=\"mb-1\"><a href=\"/contacts\" class=\"text gray-cc xs\">Контакты</a></li> <li><a href=\"https://blog.naimi.kz/smi_o_nas\" class=\"text gray-cc xs\">СМИ о нас</a></li></ul></div> <div class=\"flex-item accordeon\"><div class=\"mb-4 text white sm medium\">Заказчикам</div> <ul><li><a href=\"/order\" class=\"text gray-cc xs\">Создать заявку</a></li></ul></div> <div class=\"flex-item accordeon\"><div class=\"mb-4 text white sm medium\">Специалистам</div> <ul><li class=\"mb-1\"><a href=\"/spec\" class=\"text gray-cc xs\">Стать специалистом</a></li> <li><a href=\"https://blog.naimi.kz/spec/kak-popolnit-balans\" class=\"text gray-cc xs\">Инструкция по\\n            оплате</a></li></ul></div> <div class=\"flex-item accordeon\"><div class=\"mb-4 text white sm medium\">Служба поддержки</div> <ul><li class=\"mb-1\"><a href=\"https://www.notion.so/04c1fcc791da464fbc692c6c239e2c7e\" rel=\"nofollow\" target=\"_blank\" class=\"text gray-cc xs\">Частые вопросы</a></li> <li><a href=\"/legal\" class=\"text gray-cc xs\">Условия использования</a></li></ul></div></div> <hr class=\"mt-0 mb-3 hidden-xs\"> <div class=\"flex footer flex-wrap\"><div class=\"flex-item fixed-size hidden-xs\"><a href=\"/undefined\"><svg version=\"1.1\" width=\"116\" xmlns=\"http://www.w3.org/2000/svg\" xmlns:xlink=\"http://www.w3.org/1999/xlink\" viewBox=\"0 0 158.9 43\"><g><path d=\"M43.8,32.8V10.2c0-5.6-4.7-10.1-10.4-10.2h-23C4.7,0,0,4.6,0,10.2v22.6C0,38.4,4.7,42.9,10.4,43h23.1C39.2,42.9,43.8,38.4,43.8,32.8z\" class=\"sttt0\"></path> <path d=\"M15.7,18.9c0-1.5,0-2.8-0.1-4h3.1l0.2,2l0,0c0.9-1.5,2.6-2.3,4.4-2.3c2.4,0,4.9,1.5,4.9,5.8v8h-3.4v-7.6c0-1.9-0.7-3.4-2.6-3.4c-1.2,0-2.3,0.8-2.7,2c-0.1,0.3-0.1,0.7-0.2,1.1v7.9h-3.5L15.7,18.9L15.7,18.9z\" class=\"sttt1\"></path> <path d=\"M9.4,14.6c0,0.8-0.7,1.5-1.6,1.5s-1.6-0.7-1.6-1.5s0.7-1.5,1.6-1.5c0.4,0,0.8,0.1,1.1,0.4C9.2,13.8,9.4,14.2,9.4,14.6z\" class=\"sttt1\"></path> <path d=\"M21.8,38.2c-9.4,0-17.1-7.4-17.1-16.6c0-1.3,0.2-2.7,0.5-4l2.3,0.5c-0.3,1.1-0.4,2.3-0.4,3.4c0,6.5,4.6,12.2,11.1,13.9c6.5,1.6,13.3-1.2,16.6-6.9l2,1.1C33.7,35,28,38.3,21.8,38.2z\" class=\"sttt1\"></path> <path d=\"M39.1,22.2l-2.3-0.1v-0.5c0.1-6-3.6-11.4-9.3-13.6s-12.2-0.7-16.3,3.7l-1.8-1.6c3.2-3.5,7.8-5.5,12.6-5.5c9.6,0.1,17.2,7.7,17.1,17C39.1,21.6,39.1,22.2,39.1,22.2z\" class=\"sttt2\"></path> <path d=\"M35.9,25.9c0-0.8,0.7-1.5,1.6-1.5s1.6,0.7,1.6,1.5s-0.7,1.5-1.6,1.5C36.6,27.4,35.9,26.7,35.9,25.9z\" class=\"sttt2\"></path></g> <g><path d=\"M57,21.3c0-2.4,0-4.4-0.1-6.2h4.8l0.3,3h0.1c0.9-1.7,3.3-3.5,6.8-3.5c3.8,0,7.5,2.3,7.5,8.7v12.2H71V24 c0-3-1.2-5.1-4.1-5.1c-2.1,0-3.6,1.5-4.2,3c-0.1,0.5-0.1,1.1-0.1,1.7v12h-5.4L57,21.3\" class=\"sttt3 white\"></path> <path d=\"M111.4,9.9c0,1.5-1.1,2.7-2.9,2.7c-1.7,0-2.7-1.2-2.7-2.7s1.2-2.7,2.9-2.7S111.4,8.4,111.4,9.9\" class=\"sttt3 white\"></path> <path d=\"M158.9,9.9c0,1.5-1.1,2.7-2.9,2.7c-1.7,0-2.7-1.2-2.7-2.7s1.2-2.7,2.7-2.7C157.9,7.2,158.9,8.4,158.9,9.9\" class=\"sttt3 white\"></path> <path d=\"M116.8,21.2c0-2.4,0-4.4-0.2-6.2h4.7l0.1,3h0.2c1.1-1.7,3-3.5,6.6-3.5c2.9,0,5,1.5,5.9,3.8h0.1 c0.8-1.2,1.7-2,2.7-2.6c1.2-0.8,2.6-1.2,4.4-1.2c3.6,0,7.2,2.3,7.2,8.9v12h-5.3V24.2c0-3.5-1.2-5.4-3.8-5.4c-1.8,0-3.2,1.2-3.8,2.7c-0.1,0.5-0.3,1.2-0.3,1.7v12.3h-5.3V23.6c0-2.9-1.2-4.8-3.8-4.8c-2,0-3.3,1.5-3.9,3c-0.1,0.5-0.3,1.1-0.3,1.7v12.2h-5.3V21.2\" class=\"sttt3 white\"></path> <path d=\"M154,15h4.7v20.4H154V15z\" class=\"sttt3 white\"></path> <path d=\"M106.4,15h4.7v20.4h-4.7V15z\" class=\"sttt3 white\"></path> <path d=\"M96.2,15v1.7c-1.7-1.2-3.8-2-6-2c-5.7,0-10.4,4.7-10.4,10.5c0,5.7,4.7,10.5,10.4,10.5c2.3,0,4.4-0.8,6-2v1.7h5.1V15H96.2z M90.4,31.4c-3.3,0-5.9-2.7-5.9-6.2s2.7-6.2,5.9-6.2c3.3,0,5.9,2.7,5.9,6.2\\n\\t\\tS93.5,31.4,90.4,31.4z\" class=\"sttt3 white\"></path></g></svg></a></div> <div class=\"flex-item fixed-size\"><div class=\"flex centered\"><div class=\"flex-item fixed-size mr-1 show-xs\"><a href=\"/undefined\"><svg version=\"1.1\" width=\"116\" xmlns=\"http://www.w3.org/2000/svg\" xmlns:xlink=\"http://www.w3.org/1999/xlink\" viewBox=\"0 0 158.9 43\"><g><path d=\"M43.8,32.8V10.2c0-5.6-4.7-10.1-10.4-10.2h-23C4.7,0,0,4.6,0,10.2v22.6C0,38.4,4.7,42.9,10.4,43h23.1C39.2,42.9,43.8,38.4,43.8,32.8z\" class=\"sttt0\"></path> <path d=\"M15.7,18.9c0-1.5,0-2.8-0.1-4h3.1l0.2,2l0,0c0.9-1.5,2.6-2.3,4.4-2.3c2.4,0,4.9,1.5,4.9,5.8v8h-3.4v-7.6c0-1.9-0.7-3.4-2.6-3.4c-1.2,0-2.3,0.8-2.7,2c-0.1,0.3-0.1,0.7-0.2,1.1v7.9h-3.5L15.7,18.9L15.7,18.9z\" class=\"sttt1\"></path> <path d=\"M9.4,14.6c0,0.8-0.7,1.5-1.6,1.5s-1.6-0.7-1.6-1.5s0.7-1.5,1.6-1.5c0.4,0,0.8,0.1,1.1,0.4C9.2,13.8,9.4,14.2,9.4,14.6z\" class=\"sttt1\"></path> <path d=\"M21.8,38.2c-9.4,0-17.1-7.4-17.1-16.6c0-1.3,0.2-2.7,0.5-4l2.3,0.5c-0.3,1.1-0.4,2.3-0.4,3.4c0,6.5,4.6,12.2,11.1,13.9c6.5,1.6,13.3-1.2,16.6-6.9l2,1.1C33.7,35,28,38.3,21.8,38.2z\" class=\"sttt1\"></path> <path d=\"M39.1,22.2l-2.3-0.1v-0.5c0.1-6-3.6-11.4-9.3-13.6s-12.2-0.7-16.3,3.7l-1.8-1.6c3.2-3.5,7.8-5.5,12.6-5.5c9.6,0.1,17.2,7.7,17.1,17C39.1,21.6,39.1,22.2,39.1,22.2z\" class=\"sttt2\"></path> <path d=\"M35.9,25.9c0-0.8,0.7-1.5,1.6-1.5s1.6,0.7,1.6,1.5s-0.7,1.5-1.6,1.5C36.6,27.4,35.9,26.7,35.9,25.9z\" class=\"sttt2\"></path></g> <g><path d=\"M57,21.3c0-2.4,0-4.4-0.1-6.2h4.8l0.3,3h0.1c0.9-1.7,3.3-3.5,6.8-3.5c3.8,0,7.5,2.3,7.5,8.7v12.2H71V24 c0-3-1.2-5.1-4.1-5.1c-2.1,0-3.6,1.5-4.2,3c-0.1,0.5-0.1,1.1-0.1,1.7v12h-5.4L57,21.3\" class=\"sttt3 white\"></path> <path d=\"M111.4,9.9c0,1.5-1.1,2.7-2.9,2.7c-1.7,0-2.7-1.2-2.7-2.7s1.2-2.7,2.9-2.7S111.4,8.4,111.4,9.9\" class=\"sttt3 white\"></path> <path d=\"M158.9,9.9c0,1.5-1.1,2.7-2.9,2.7c-1.7,0-2.7-1.2-2.7-2.7s1.2-2.7,2.7-2.7C157.9,7.2,158.9,8.4,158.9,9.9\" class=\"sttt3 white\"></path> <path d=\"M116.8,21.2c0-2.4,0-4.4-0.2-6.2h4.7l0.1,3h0.2c1.1-1.7,3-3.5,6.6-3.5c2.9,0,5,1.5,5.9,3.8h0.1 c0.8-1.2,1.7-2,2.7-2.6c1.2-0.8,2.6-1.2,4.4-1.2c3.6,0,7.2,2.3,7.2,8.9v12h-5.3V24.2c0-3.5-1.2-5.4-3.8-5.4c-1.8,0-3.2,1.2-3.8,2.7c-0.1,0.5-0.3,1.2-0.3,1.7v12.3h-5.3V23.6c0-2.9-1.2-4.8-3.8-4.8c-2,0-3.3,1.5-3.9,3c-0.1,0.5-0.3,1.1-0.3,1.7v12.2h-5.3V21.2\" class=\"sttt3 white\"></path> <path d=\"M154,15h4.7v20.4H154V15z\" class=\"sttt3 white\"></path> <path d=\"M106.4,15h4.7v20.4h-4.7V15z\" class=\"sttt3 white\"></path> <path d=\"M96.2,15v1.7c-1.7-1.2-3.8-2-6-2c-5.7,0-10.4,4.7-10.4,10.5c0,5.7,4.7,10.5,10.4,10.5c2.3,0,4.4-0.8,6-2v1.7h5.1V15H96.2z M90.4,31.4c-3.3,0-5.9-2.7-5.9-6.2s2.7-6.2,5.9-6.2c3.3,0,5.9,2.7,5.9,6.2\\n\\t\\tS93.5,31.4,90.4,31.4z\" class=\"sttt3 white\"></path></g></svg></a></div> <div class=\"flex-item\"><div class=\"text gray-cc xs mb-1\">© ТОО «Naimi.kz» 2015-2020</div> <div class=\"text white xs\">Все права защищены</div></div></div></div> <div class=\"flex-item fixed-size social-links\"><div class=\"text gray-cc xs mb-1\">Присоединяйтесь к нам</div> <div class=\"flex\"><div class=\"flex-item fixed-size mr-1\"><a rel=\"nofollow\" href=\"https://www.facebook.com/app.naimi.kz\" target=\"_blank\"><svg viewbox=\"0 0 16 16\" height=\"16\" width=\"16\"><use viewbox=\"0 0 16 16\" height=\"16\" width=\"16\" xlink:href=\"#facebook\"></use></svg></a></div> <div class=\"flex-item fixed-size mr-1\"><a rel=\"nofollow\" href=\"https://vk.com/naimi_kz\" target=\"_blank\"><svg viewbox=\"0 0 16 16\" height=\"16\" width=\"16\"><use viewbox=\"0 0 16 16\" height=\"16\" width=\"16\" xlink:href=\"#vk\"></use></svg></a></div> <div class=\"flex-item fixed-size mr-1\"><a rel=\"nofollow\" href=\"https://twitter.com/Naimikz\" target=\"_blank\"><svg viewbox=\"0 0 16 16\" height=\"16\" width=\"16\"><use viewbox=\"0 0 16 16\" height=\"16\" width=\"16\" xlink:href=\"#twitter\"></use></svg></a></div> <div class=\"flex-item fixed-size mr-1\"><a rel=\"nofollow\" href=\"http://instagram.com/naimi.kz/\" target=\"_blank\"><svg viewbox=\"0 0 16 16\" height=\"16\" width=\"16\"><use viewbox=\"0 0 16 16\" height=\"16\" width=\"16\" xlink:href=\"#instagram\"></use></svg></a></div> <div class=\"flex-item fixed-size mr-1\"><a rel=\"nofollow\" href=\"https://ok.ru/naimi.kzapp\" target=\"_blank\"><svg viewbox=\"0 0 16 16\" height=\"16\" width=\"16\"><use viewbox=\"0 0 16 16\" height=\"16\" width=\"16\" xlink:href=\"#ok\"></use></svg></a></div> <div class=\"flex-item fixed-size\"><a rel=\"nofollow\" href=\"https://www.youtube.com/channel/UC6SOVzASjMqVTq-Bv4RVWPQ\" target=\"_blank\"><svg viewbox=\"0 0 16 16\" height=\"16\" width=\"16\"><use viewbox=\"0 0 16 16\" height=\"16\" width=\"16\" xlink:href=\"#youtube\"></use></svg></a></div></div></div> <div class=\"flex-item right fixed-size\"><div data-v-2bce5d89=\"\" class=\" flex mobile-apps start\"><div data-v-2bce5d89=\"\" class=\"flex-item fixed-size\"><a data-v-2bce5d89=\"\" href=\"https://redirect.appmetrica.yandex.com/serve/170549496726478568\" rel=\"nofollow\" target=\"_blank\" class=\"btn apple\"><span data-v-2bce5d89=\"\">Скачать для iPhone</span></a></div> <div data-v-2bce5d89=\"\" class=\"flex-item fixed-size\"><a data-v-2bce5d89=\"\" href=\"https://redirect.appmetrica.yandex.com/serve/26434308533166366\" target=\"_blank\" rel=\"nofollow\" class=\"btn android\"><span data-v-2bce5d89=\"\">Скачать для\\n      Android</span></a></div></div></div></div></div></footer>\\n  </div>\\n\\n<script type=\"application/ld+json\">\\n  {\\n    \"@context\": \"http://schema.org\",\\n    \"@type\": \"Organization\",\\n    \"name\": \"Naimi.kz\",\\n    \"url\": \"https://naimi.kz\",\\n    \"logo\": \"https://static.naimi.kz/j2yoGZ3TxX/img/logo-new.svg\",\\n    \"address\": {\\n      \"@type\": \"PostalAddress\",\\n      \"streetAddress\": \"ул. Достык 13, ЖК Нурсая 2\",\\n      \"addressLocality\": \"г. Нур-Султан\",\\n      \"addressCountry\": \"Казахстан\"\\n    },\\n    \"contactPoint\": {\\n      \"@type\": \"ContactPoint\",\\n      \"contactType\": \"Директор по развитию бизнеса\",\\n      \"telephone\": \"7 (701) 222-82-55\",\\n      \"email\": \"erlan.e@naimi.kz\"\\n    }\\n  }\\n</script>\\n\\n\\n<script type=\"text/javascript\" src=\"https://cdnjs.cloudflare.com/ajax/libs/jquery/3.3.1/jquery.min.js\"></script>\\n<script src=\"https://cdn.jsdelivr.net/gh/fancyapps/fancybox@3.5.7/dist/jquery.fancybox.min.js\"></script>\\n\\n  <script src=\"https://browser.sentry-cdn.com/4.5.3/bundle.min.js\" crossorigin=\"anonymous\"></script>\\n  <script type=\"text/javascript\">Sentry.init({dsn: \\'https://d6546247d3374da28efbbb830c7e3ea1@sentry.io/1381801\\'});</script>\\n<script type=\"text/javascript\">window.config = {\"data\":{\"cities\":[{\"id\":2,\"name\":\"Нур-Султан\",\"slug\":\"astana\",\"is_disabled\":false,\"deposit_rate\":1,\"label\":\"empty\",\"country_id\":1,\"latitude\":51.128422,\"longitude\":71.430564},{\"id\":1,\"name\":\"Алматы\",\"slug\":\"almaty\",\"is_disabled\":false,\"deposit_rate\":1,\"label\":\"empty\",\"country_id\":1,\"latitude\":43.221313,\"longitude\":76.955436},{\"id\":69,\"name\":\"Абай\",\"slug\":\"abai\",\"is_disabled\":false,\"deposit_rate\":0,\"label\":\"empty\",\"country_id\":1,\"latitude\":null,\"longitude\":null},{\"id\":82,\"name\":\"Акколь\",\"slug\":\"akkol\",\"is_disabled\":false,\"deposit_rate\":0,\"label\":\"empty\",\"country_id\":1,\"latitude\":null,\"longitude\":null},{\"id\":60,\"name\":\"Аксай\",\"slug\":\"aksai\",\"is_disabled\":false,\"deposit_rate\":0,\"label\":\"empty\",\"country_id\":1,\"latitude\":null,\"longitude\":null},{\"id\":53,\"name\":\"Аксу\",\"slug\":\"aksu\",\"is_disabled\":false,\"deposit_rate\":0,\"label\":\"empty\",\"country_id\":1,\"latitude\":null,\"longitude\":null},{\"id\":31,\"name\":\"Актау\",\"slug\":\"aktau\",\"is_disabled\":false,\"deposit_rate\":0,\"label\":\"empty\",\"country_id\":1,\"latitude\":43.659482,\"longitude\":51.167446},{\"id\":24,\"name\":\"Актобе\",\"slug\":\"aktobe\",\"is_disabled\":false,\"deposit_rate\":0,\"label\":\"empty\",\"country_id\":1,\"latitude\":50.260964,\"longitude\":57.222019},{\"id\":77,\"name\":\"Алга\",\"slug\":\"alga\",\"is_disabled\":false,\"deposit_rate\":0,\"label\":\"empty\",\"country_id\":1,\"latitude\":null,\"longitude\":null},{\"id\":57,\"name\":\"Алтай\",\"slug\":\"altai\",\"is_disabled\":false,\"deposit_rate\":0,\"label\":\"empty\",\"country_id\":1,\"latitude\":null,\"longitude\":null},{\"id\":62,\"name\":\"Аральск\",\"slug\":\"aralsk\",\"is_disabled\":false,\"deposit_rate\":0,\"label\":\"empty\",\"country_id\":1,\"latitude\":null,\"longitude\":null},{\"id\":70,\"name\":\"Аркалык\",\"slug\":\"arkalyk\",\"is_disabled\":false,\"deposit_rate\":0,\"label\":\"empty\",\"country_id\":1,\"latitude\":null,\"longitude\":null},{\"id\":50,\"name\":\"Арыс\",\"slug\":\"arys\",\"is_disabled\":false,\"deposit_rate\":0,\"label\":\"empty\",\"country_id\":1,\"latitude\":null,\"longitude\":null},{\"id\":67,\"name\":\"Атбасар\",\"slug\":\"atbasar\",\"is_disabled\":false,\"deposit_rate\":0,\"label\":\"empty\",\"country_id\":1,\"latitude\":null,\"longitude\":null},{\"id\":30,\"name\":\"Атырау\",\"slug\":\"atyrau\",\"is_disabled\":false,\"deposit_rate\":0,\"label\":\"empty\",\"country_id\":1,\"latitude\":47.128574,\"longitude\":51.929415},{\"id\":54,\"name\":\"Аягоз\",\"slug\":\"ayagoz\",\"is_disabled\":false,\"deposit_rate\":0,\"label\":\"empty\",\"country_id\":1,\"latitude\":null,\"longitude\":null},{\"id\":45,\"name\":\"Байконур\",\"slug\":\"baikonur\",\"is_disabled\":false,\"deposit_rate\":0,\"label\":\"empty\",\"country_id\":1,\"latitude\":45.625717,\"longitude\":63.298628},{\"id\":34,\"name\":\"Балхаш\",\"slug\":\"balkhash\",\"is_disabled\":false,\"deposit_rate\":0,\"label\":\"empty\",\"country_id\":1,\"latitude\":46.892393,\"longitude\":74.970771},{\"id\":93,\"name\":\"Булаево\",\"slug\":\"bulaevo\",\"is_disabled\":false,\"deposit_rate\":0,\"label\":\"empty\",\"country_id\":1,\"latitude\":null,\"longitude\":null},{\"id\":98,\"name\":\"Державинск\",\"slug\":\"derzhavinsk\",\"is_disabled\":false,\"deposit_rate\":0,\"label\":\"empty\",\"country_id\":1,\"latitude\":null,\"longitude\":null},{\"id\":89,\"name\":\"Ерейментау\",\"slug\":\"ereymentau\",\"is_disabled\":false,\"deposit_rate\":0,\"label\":\"empty\",\"country_id\":1,\"latitude\":null,\"longitude\":null},{\"id\":63,\"name\":\"Есик\",\"slug\":\"esik\",\"is_disabled\":false,\"deposit_rate\":0,\"label\":\"empty\",\"country_id\":1,\"latitude\":null,\"longitude\":null},{\"id\":88,\"name\":\"Есиль\",\"slug\":\"esil\",\"is_disabled\":false,\"deposit_rate\":0,\"label\":\"empty\",\"country_id\":1,\"latitude\":null,\"longitude\":null},{\"id\":39,\"name\":\"Жанаозен\",\"slug\":\"zhanaozen\",\"is_disabled\":false,\"deposit_rate\":0,\"label\":\"empty\",\"country_id\":1,\"latitude\":43.338991,\"longitude\":52.882015},{\"id\":76,\"name\":\"Жанатас\",\"slug\":\"zhanatas\",\"is_disabled\":false,\"deposit_rate\":0,\"label\":\"empty\",\"country_id\":1,\"latitude\":null,\"longitude\":null},{\"id\":52,\"name\":\"Жаркент\",\"slug\":\"zharkent\",\"is_disabled\":false,\"deposit_rate\":0,\"label\":\"empty\",\"country_id\":1,\"latitude\":null,\"longitude\":null},{\"id\":33,\"name\":\"Жезказган\",\"slug\":\"zhezkazgan\",\"is_disabled\":false,\"deposit_rate\":0,\"label\":\"empty\",\"country_id\":1,\"latitude\":47.793422,\"longitude\":67.69686},{\"id\":102,\"name\":\"Жем\",\"slug\":\"zhem\",\"is_disabled\":false,\"deposit_rate\":0,\"label\":\"empty\",\"country_id\":1,\"latitude\":null,\"longitude\":null},{\"id\":74,\"name\":\"Жетысай\",\"slug\":\"zhetysay\",\"is_disabled\":false,\"deposit_rate\":0,\"label\":\"empty\",\"country_id\":1,\"latitude\":null,\"longitude\":null},{\"id\":61,\"name\":\"Житикара\",\"slug\":\"zhitikara\",\"is_disabled\":false,\"deposit_rate\":0,\"label\":\"empty\",\"country_id\":1,\"latitude\":null,\"longitude\":null},{\"id\":81,\"name\":\"Зайсан\",\"slug\":\"zaisan\",\"is_disabled\":false,\"deposit_rate\":0,\"label\":\"empty\",\"country_id\":1,\"latitude\":null,\"longitude\":null},{\"id\":99,\"name\":\"Казалинск\",\"slug\":\"kazalinsk\",\"is_disabled\":false,\"deposit_rate\":0,\"label\":\"empty\",\"country_id\":1,\"latitude\":null,\"longitude\":null},{\"id\":59,\"name\":\"Кандыагаш\",\"slug\":\"kandyagash\",\"is_disabled\":false,\"deposit_rate\":0,\"label\":\"empty\",\"country_id\":1,\"latitude\":null,\"longitude\":null},{\"id\":44,\"name\":\"Капшагай\",\"slug\":\"kapchagay\",\"is_disabled\":false,\"deposit_rate\":0,\"label\":\"empty\",\"country_id\":1,\"latitude\":43.866906,\"longitude\":77.065193},{\"id\":18,\"name\":\"Караганда\",\"slug\":\"karaganda\",\"is_disabled\":false,\"deposit_rate\":0,\"label\":\"empty\",\"country_id\":1,\"latitude\":49.86373,\"longitude\":73.118903},{\"id\":92,\"name\":\"Каражал\",\"slug\":\"karazhal\",\"is_disabled\":false,\"deposit_rate\":0,\"label\":\"empty\",\"country_id\":1,\"latitude\":null,\"longitude\":null},{\"id\":66,\"name\":\"Каратау\",\"slug\":\"karatau\",\"is_disabled\":false,\"deposit_rate\":0,\"label\":\"empty\",\"country_id\":1,\"latitude\":null,\"longitude\":null},{\"id\":91,\"name\":\"Каркаралинск\",\"slug\":\"karkaralinsk\",\"is_disabled\":false,\"deposit_rate\":0,\"label\":\"empty\",\"country_id\":1,\"latitude\":null,\"longitude\":null},{\"id\":46,\"name\":\"Каскелен\",\"slug\":\"kaskelen\",\"is_disabled\":false,\"deposit_rate\":0,\"label\":\"empty\",\"country_id\":1,\"latitude\":43.187286,\"longitude\":76.630669},{\"id\":41,\"name\":\"Кентау\",\"slug\":\"kentau\",\"is_disabled\":false,\"deposit_rate\":0,\"label\":\"empty\",\"country_id\":1,\"latitude\":43.513554,\"longitude\":68.494492},{\"id\":27,\"name\":\"Кокшетау\",\"slug\":\"kokshetau\",\"is_disabled\":false,\"deposit_rate\":0,\"label\":\"empty\",\"country_id\":1,\"latitude\":53.287661,\"longitude\":69.377554},{\"id\":25,\"name\":\"Костанай\",\"slug\":\"kostanai\",\"is_disabled\":false,\"deposit_rate\":0,\"label\":\"empty\",\"country_id\":1,\"latitude\":53.268181,\"longitude\":63.598934},{\"id\":47,\"name\":\"Кульсары\",\"slug\":\"kulsary\",\"is_disabled\":false,\"deposit_rate\":0,\"label\":\"empty\",\"country_id\":1,\"latitude\":46.948501,\"longitude\":54.013686},{\"id\":84,\"name\":\"Курчатов\",\"slug\":\"kurchatov\",\"is_disabled\":false,\"deposit_rate\":0,\"label\":\"empty\",\"country_id\":1,\"latitude\":null,\"longitude\":null},{\"id\":23,\"name\":\"Кызылорда\",\"slug\":\"qyzylorda\",\"is_disabled\":false,\"deposit_rate\":0,\"label\":\"empty\",\"country_id\":1,\"latitude\":44.834689,\"longitude\":65.497946},{\"id\":73,\"name\":\"Ленгер\",\"slug\":\"lenger\",\"is_disabled\":false,\"deposit_rate\":0,\"label\":\"empty\",\"country_id\":1,\"latitude\":null,\"longitude\":null},{\"id\":58,\"name\":\"Лисаковск\",\"slug\":\"lisakovsk\",\"is_disabled\":false,\"deposit_rate\":0,\"label\":\"empty\",\"country_id\":1,\"latitude\":null,\"longitude\":null},{\"id\":79,\"name\":\"Макинск\",\"slug\":\"makinsk\",\"is_disabled\":false,\"deposit_rate\":0,\"label\":\"empty\",\"country_id\":1,\"latitude\":null,\"longitude\":null},{\"id\":95,\"name\":\"Мамлютка\",\"slug\":\"mamlutka\",\"is_disabled\":false,\"deposit_rate\":0,\"label\":\"empty\",\"country_id\":1,\"latitude\":null,\"longitude\":null},{\"id\":28,\"name\":\"Павлодар\",\"slug\":\"pavlodar\",\"is_disabled\":false,\"deposit_rate\":0,\"label\":\"empty\",\"country_id\":1,\"latitude\":52.297365,\"longitude\":76.981667},{\"id\":26,\"name\":\"Петропавловск\",\"slug\":\"petropavl\",\"is_disabled\":false,\"deposit_rate\":0,\"label\":\"empty\",\"country_id\":1,\"latitude\":54.887673,\"longitude\":69.15037},{\"id\":83,\"name\":\"Приозёрск\",\"slug\":\"priozersk\",\"is_disabled\":false,\"deposit_rate\":0,\"label\":\"empty\",\"country_id\":1,\"latitude\":null,\"longitude\":null},{\"id\":48,\"name\":\"Риддер\",\"slug\":\"ridder\",\"is_disabled\":false,\"deposit_rate\":0,\"label\":\"empty\",\"country_id\":1,\"latitude\":null,\"longitude\":null},{\"id\":38,\"name\":\"Рудный\",\"slug\":\"rudniy\",\"is_disabled\":false,\"deposit_rate\":0,\"label\":\"empty\",\"country_id\":1,\"latitude\":52.976992,\"longitude\":63.124929},{\"id\":43,\"name\":\"Сарань\",\"slug\":\"saran\",\"is_disabled\":false,\"deposit_rate\":0,\"label\":\"empty\",\"country_id\":1,\"latitude\":49.795411,\"longitude\":72.880831},{\"id\":87,\"name\":\"Сарканд\",\"slug\":\"sarkand\",\"is_disabled\":false,\"deposit_rate\":0,\"label\":\"empty\",\"country_id\":1,\"latitude\":null,\"longitude\":null},{\"id\":64,\"name\":\"Сарыагаш\",\"slug\":\"saryagash\",\"is_disabled\":false,\"deposit_rate\":0,\"label\":\"empty\",\"country_id\":1,\"latitude\":null,\"longitude\":null},{\"id\":40,\"name\":\"Сатпаев\",\"slug\":\"satpayev\",\"is_disabled\":false,\"deposit_rate\":0,\"label\":\"empty\",\"country_id\":1,\"latitude\":47.898817,\"longitude\":67.530537},{\"id\":32,\"name\":\"Семей\",\"slug\":\"semei\",\"is_disabled\":false,\"deposit_rate\":0,\"label\":\"empty\",\"country_id\":1,\"latitude\":50.405091,\"longitude\":80.272277},{\"id\":94,\"name\":\"Сергеевка\",\"slug\":\"sergeevka\",\"is_disabled\":false,\"deposit_rate\":0,\"label\":\"empty\",\"country_id\":1,\"latitude\":null,\"longitude\":null},{\"id\":90,\"name\":\"Серебрянск\",\"slug\":\"serebryansk\",\"is_disabled\":false,\"deposit_rate\":0,\"label\":\"empty\",\"country_id\":1,\"latitude\":null,\"longitude\":null},{\"id\":42,\"name\":\"Степногорск\",\"slug\":\"stepnogorsk\",\"is_disabled\":false,\"deposit_rate\":0,\"label\":\"empty\",\"country_id\":1,\"latitude\":52.349205,\"longitude\":71.888786},{\"id\":100,\"name\":\"Степняк\",\"slug\":\"stepnyak\",\"is_disabled\":false,\"deposit_rate\":0,\"label\":\"empty\",\"country_id\":1,\"latitude\":null,\"longitude\":null},{\"id\":86,\"name\":\"Тайынша\",\"slug\":\"taiynsha\",\"is_disabled\":false,\"deposit_rate\":0,\"label\":\"empty\",\"country_id\":1,\"latitude\":null,\"longitude\":null},{\"id\":51,\"name\":\"Талгар\",\"slug\":\"talgar\",\"is_disabled\":false,\"deposit_rate\":0,\"label\":\"empty\",\"country_id\":1,\"latitude\":null,\"longitude\":null},{\"id\":20,\"name\":\"Талдыкорган\",\"slug\":\"taldykorgan\",\"is_disabled\":false,\"deposit_rate\":0,\"label\":\"empty\",\"country_id\":1,\"latitude\":45.003028,\"longitude\":78.382886},{\"id\":21,\"name\":\"Тараз\",\"slug\":\"taraz\",\"is_disabled\":false,\"deposit_rate\":0,\"label\":\"empty\",\"country_id\":1,\"latitude\":42.86843,\"longitude\":71.364547},{\"id\":65,\"name\":\"Текели\",\"slug\":\"tekeli\",\"is_disabled\":false,\"deposit_rate\":0,\"label\":\"empty\",\"country_id\":1,\"latitude\":null,\"longitude\":null},{\"id\":101,\"name\":\"Темир\",\"slug\":\"temir\",\"is_disabled\":false,\"deposit_rate\":0,\"label\":\"empty\",\"country_id\":1,\"latitude\":null,\"longitude\":null},{\"id\":35,\"name\":\"Темиртау\",\"slug\":\"temirtau\",\"is_disabled\":false,\"deposit_rate\":0,\"label\":\"empty\",\"country_id\":1,\"latitude\":50.133867,\"longitude\":72.986132},{\"id\":36,\"name\":\"Туркестан\",\"slug\":\"turkestan\",\"is_disabled\":false,\"deposit_rate\":0,\"label\":\"empty\",\"country_id\":1,\"latitude\":43.293666,\"longitude\":68.255684},{\"id\":29,\"name\":\"Уральск\",\"slug\":\"uralsk\",\"is_disabled\":false,\"deposit_rate\":0,\"label\":\"empty\",\"country_id\":1,\"latitude\":51.207112,\"longitude\":51.410135},{\"id\":19,\"name\":\"Усть-Каменогорск\",\"slug\":\"oskemen\",\"is_disabled\":false,\"deposit_rate\":0,\"label\":\"empty\",\"country_id\":1,\"latitude\":49.964089,\"longitude\":82.636858},{\"id\":80,\"name\":\"Ушарал\",\"slug\":\"usharal\",\"is_disabled\":false,\"deposit_rate\":0,\"label\":\"empty\",\"country_id\":1,\"latitude\":null,\"longitude\":null},{\"id\":75,\"name\":\"Уштобе\",\"slug\":\"ushtobe\",\"is_disabled\":false,\"deposit_rate\":0,\"label\":\"empty\",\"country_id\":1,\"latitude\":null,\"longitude\":null},{\"id\":97,\"name\":\"Форт-Шевченко\",\"slug\":\"fortshevchenko\",\"is_disabled\":false,\"deposit_rate\":0,\"label\":\"empty\",\"country_id\":1,\"latitude\":null,\"longitude\":null},{\"id\":72,\"name\":\"Хромтау\",\"slug\":\"hromtau\",\"is_disabled\":false,\"deposit_rate\":0,\"label\":\"empty\",\"country_id\":1,\"latitude\":null,\"longitude\":null},{\"id\":71,\"name\":\"Шалкар\",\"slug\":\"shalkar\",\"is_disabled\":false,\"deposit_rate\":0,\"label\":\"empty\",\"country_id\":1,\"latitude\":null,\"longitude\":null},{\"id\":96,\"name\":\"Шар\",\"slug\":\"shar\",\"is_disabled\":false,\"deposit_rate\":0,\"label\":\"empty\",\"country_id\":1,\"latitude\":null,\"longitude\":null},{\"id\":68,\"name\":\"Шардара\",\"slug\":\"shardara\",\"is_disabled\":false,\"deposit_rate\":0,\"label\":\"empty\",\"country_id\":1,\"latitude\":null,\"longitude\":null},{\"id\":55,\"name\":\"Шахтинск\",\"slug\":\"shahtinsk\",\"is_disabled\":false,\"deposit_rate\":0,\"label\":\"empty\",\"country_id\":1,\"latitude\":null,\"longitude\":null},{\"id\":78,\"name\":\"Шемонаиха\",\"slug\":\"shemonaiha\",\"is_disabled\":false,\"deposit_rate\":0,\"label\":\"empty\",\"country_id\":1,\"latitude\":null,\"longitude\":null},{\"id\":56,\"name\":\"Шу\",\"slug\":\"shu\",\"is_disabled\":false,\"deposit_rate\":0,\"label\":\"empty\",\"country_id\":1,\"latitude\":null,\"longitude\":null},{\"id\":22,\"name\":\"Шымкент\",\"slug\":\"shymkent\",\"is_disabled\":false,\"deposit_rate\":0,\"label\":\"empty\",\"country_id\":1,\"latitude\":42.332693,\"longitude\":69.708907},{\"id\":49,\"name\":\"Щучинск\",\"slug\":\"shuchinsk\",\"is_disabled\":false,\"deposit_rate\":0,\"label\":\"empty\",\"country_id\":1,\"latitude\":null,\"longitude\":null},{\"id\":37,\"name\":\"Экибастуз\",\"slug\":\"ekibastuz\",\"is_disabled\":false,\"deposit_rate\":0,\"label\":\"empty\",\"country_id\":1,\"latitude\":51.730423,\"longitude\":75.314062},{\"id\":85,\"name\":\"Эмба\",\"slug\":\"emba\",\"is_disabled\":false,\"deposit_rate\":0,\"label\":\"empty\",\"country_id\":1,\"latitude\":null,\"longitude\":null}],\"city\":[],\"is_after_login\":null},\"urls\":{\"static\":{\"public\":\"https:\\\\/\\\\/static.naimi.kz\\\\/j2yoGZ3TxX\"},\"api\":\"https:\\\\/\\\\/api.naimi.kz\",\"upload\":\"https:\\\\/\\\\/upload.naimi.kz\"},\"fullscreen\":false,\"version\":\"9.1.0\"}</script>\\n\\n  <script type=\"text/javascript\" src=\"https://static.naimi.kz/j2yoGZ3TxX/js/base.js?id=c4838323ddd30afe590b\"></script><div id=\"PEq4h0cG2\" role=\"status\" aria-live=\"polite\" aria-atomic=\"false\"></div>\\n  <script>\\n    window.config.data.faqs = [{\"title\":\"\\\\u041a\\\\u0430\\\\u043a\\\\u0443\\\\u044e \\\\u043f\\\\u0440\\\\u043e\\\\u0432\\\\u0435\\\\u0440\\\\u043a\\\\u0443 \\\\u043f\\\\u0440\\\\u043e\\\\u0445\\\\u043e\\\\u0434\\\\u044f\\\\u0442 \\\\u0441\\\\u043f\\\\u0435\\\\u0446\\\\u0438\\\\u0430\\\\u043b\\\\u0438\\\\u0441\\\\u0442\\\\u044b?\",\"text\":\"\\\\u0421\\\\u043f\\\\u0435\\\\u0446\\\\u0438\\\\u0430\\\\u043b\\\\u0438\\\\u0441\\\\u0442\\\\u044b \\\\u0441 \\\\u043f\\\\u043e\\\\u043c\\\\u0435\\\\u0442\\\\u043a\\\\u043e\\\\u0439 \\\\u2714\\\\ufe0f\\\\u043f\\\\u0440\\\\u0435\\\\u0434\\\\u043e\\\\u0441\\\\u0442\\\\u0430\\\\u0432\\\\u0438\\\\u043b\\\\u0438 \\\\u0441\\\\u0432\\\\u043e\\\\u0438 \\\\u0434\\\\u043e\\\\u043a\\\\u0443\\\\u043c\\\\u0435\\\\u043d\\\\u0442\\\\u044b \\\\u0434\\\\u043b\\\\u044f \\\\u043f\\\\u043e\\\\u0434\\\\u0442\\\\u0432\\\\u0435\\\\u0440\\\\u0436\\\\u0434\\\\u0435\\\\u043d\\\\u0438\\\\u044f \\\\u043b\\\\u0438\\\\u0447\\\\u043d\\\\u043e\\\\u0441\\\\u0442\\\\u0438 \\\\u0438 \\\\u043f\\\\u0440\\\\u043e\\\\u0448\\\\u043b\\\\u0438 \\\\u043f\\\\u0440\\\\u043e\\\\u0432\\\\u0435\\\\u0440\\\\u043a\\\\u0443 \\\\u043d\\\\u0430 \\\\u043e\\\\u0442\\\\u0441\\\\u0443\\\\u0442\\\\u0441\\\\u0442\\\\u0432\\\\u0438\\\\u0435 \\\\u0433\\\\u0440\\\\u0443\\\\u0431\\\\u044b\\\\u0445 \\\\u043f\\\\u0440\\\\u0430\\\\u0432\\\\u043e\\\\u043d\\\\u0430\\\\u0440\\\\u0443\\\\u0448\\\\u0435\\\\u043d\\\\u0438\\\\u0439.\"},{\"title\":\"\\\\u041a\\\\u0430\\\\u043a \\\\u043e\\\\u0441\\\\u0442\\\\u0430\\\\u0432\\\\u0438\\\\u0442\\\\u044c \\\\u043e\\\\u0442\\\\u0437\\\\u044b\\\\u0432 \\\\u043d\\\\u0430 \\\\u0441\\\\u043f\\\\u0435\\\\u0446\\\\u0430?\",\"text\":\"\\\\u041e\\\\u0442\\\\u043a\\\\u0440\\\\u043e\\\\u0439\\\\u0442\\\\u0435 \\\\u043d\\\\u0443\\\\u0436\\\\u043d\\\\u044b\\\\u0439 \\\\u0437\\\\u0430\\\\u043a\\\\u0430\\\\u0437 \\\\u0432\\\\u043e \\\\u0432\\\\u043a\\\\u043b\\\\u0430\\\\u0434\\\\u043a\\\\u0435 \\\\u041c\\\\u043e\\\\u0438 \\\\u0437\\\\u0430\\\\u044f\\\\u0432\\\\u043a\\\\u0438 \\\\u0438 \\\\u0432\\\\u044b\\\\u0431\\\\u0435\\\\u0440\\\\u0438\\\\u0442\\\\u0435 \\\\u0447\\\\u0430\\\\u0442 \\\\u0441\\\\u043e \\\\u0441\\\\u043f\\\\u0435\\\\u0446\\\\u0438\\\\u0430\\\\u043b\\\\u0438\\\\u0441\\\\u0442\\\\u043e\\\\u043c, \\\\u043a\\\\u043e\\\\u0442\\\\u043e\\\\u0440\\\\u044b\\\\u0439 \\\\u0432\\\\u044b\\\\u043f\\\\u043e\\\\u043b\\\\u043d\\\\u044f\\\\u043b \\\\u0440\\\\u0430\\\\u0431\\\\u043e\\\\u0442\\\\u0443. \\\\u041d\\\\u0430\\\\u0436\\\\u043c\\\\u0438\\\\u0442\\\\u0435 \\\\u0442\\\\u0440\\\\u043e\\\\u0435\\\\u0442\\\\u043e\\\\u0447\\\\u0438\\\\u0435 \\\\u0432 \\\\u0432\\\\u0435\\\\u0440\\\\u0445\\\\u043d\\\\u0435\\\\u0439 \\\\u0447\\\\u0430\\\\u0441\\\\u0442\\\\u0438 \\\\u044d\\\\u043a\\\\u0440\\\\u0430\\\\u043d\\\\u0430 \\\\u0438 \\\\u043d\\\\u0430\\\\u0436\\\\u043c\\\\u0438\\\\u0442\\\\u0435 \\\\u201c\\\\u041d\\\\u0430\\\\u043f\\\\u0438\\\\u0441\\\\u0430\\\\u0442\\\\u044c \\\\u043e\\\\u0442\\\\u0437\\\\u044b\\\\u0432\\\\u201d.\"},{\"title\":\"\\\\u042f \\\\u0434\\\\u043e\\\\u0433\\\\u043e\\\\u0432\\\\u043e\\\\u0440\\\\u0438\\\\u043b\\\\u0441\\\\u044f \\\\u0441\\\\u043e \\\\u0441\\\\u043f\\\\u0435\\\\u0446\\\\u043e\\\\u043c, \\\\u0447\\\\u0442\\\\u043e \\\\u0434\\\\u0430\\\\u043b\\\\u044c\\\\u0448\\\\u0435?\",\"text\":\"\\\\u0415\\\\u0441\\\\u043b\\\\u0438 \\\\u0432\\\\u044b \\\\u0434\\\\u043e\\\\u0433\\\\u043e\\\\u0432\\\\u043e\\\\u0440\\\\u0438\\\\u043b\\\\u0438\\\\u0441\\\\u044c \\\\u0441\\\\u043e \\\\u0441\\\\u043f\\\\u0435\\\\u0446\\\\u043e\\\\u043c, \\\\u043d\\\\u0430\\\\u0436\\\\u043c\\\\u0438\\\\u0442\\\\u0435 \\\\u043d\\\\u0430 \\\\u043a\\\\u043d\\\\u043e\\\\u043f\\\\u043a\\\\u0443 \\\\u201c\\\\u0414\\\\u043e\\\\u0433\\\\u043e\\\\u0432\\\\u043e\\\\u0440\\\\u0438\\\\u043b\\\\u0438\\\\u0441\\\\u044c\\\\u201d \\\\u0432 \\\\u0447\\\\u0430\\\\u0442\\\\u0435 \\\\u0441 \\\\u043d\\\\u0438\\\\u043c. \\\\u0421\\\\u0442\\\\u0430\\\\u0442\\\\u0443\\\\u0441 \\\\u0437\\\\u0430\\\\u044f\\\\u0432\\\\u043a\\\\u0438 \\\\u0438\\\\u0437\\\\u043c\\\\u0435\\\\u043d\\\\u0438\\\\u0442\\\\u0441\\\\u044f \\\\u043d\\\\u0430 \\\\u201c\\\\u041d\\\\u0435\\\\u0430\\\\u043a\\\\u0442\\\\u0438\\\\u0432\\\\u043d\\\\u0430\\\\u201d \\\\u0438 \\\\u0432\\\\u044b \\\\u043f\\\\u0435\\\\u0440\\\\u0435\\\\u0441\\\\u0442\\\\u0430\\\\u043d\\\\u0435\\\\u0442\\\\u0435 \\\\u043f\\\\u043e\\\\u043b\\\\u0443\\\\u0447\\\\u0430\\\\u0442\\\\u044c \\\\u043d\\\\u043e\\\\u0432\\\\u044b\\\\u0435 \\\\u043e\\\\u0442\\\\u043a\\\\u043b\\\\u0438\\\\u043a\\\\u0438.\"}];\\n  </script>\\n  <script type=\"text/javascript\" src=\"https://static.naimi.kz/j2yoGZ3TxX/js/home.js?id=be0909a358d54770899f\"></script><div id=\"ICWvACyJh\" role=\"status\" aria-live=\"polite\" aria-atomic=\"false\"></div>\\n\\n  <script type=\"text/javascript\">\\n    (function(d, m){\\n      var kommunicateSettings = {\\n        \"appId\":\"368a07a1131cfc8262466ac6605a54d97\",\\n        \"conversationTitle\": \\'Служба поддержки Naimi.kz\\',\\n        \"popupWidget\":true,\\n        \"automaticChatOpenOnNavigation\":true,\\n        \"labels\": {\\n          \\'input.message\\': \\'Введите свое сообщение...\\',\\n          \\'conversations.title\\': \\'Разговоры\\',\\n          \\'start.new\\': \\'Начать новый разговор\\',\\n          \\'empty.messages\\': \\'Сообщений пока нет!\\',\\n          \\'no.more.messages\\': \\'Больше никаких сообщений!\\',\\n          \\'empty.conversations\\': \\'Пока никаких разговоров!\\',\\n          \\'no.more.conversations\\': \\'Больше никаких разговоров!\\',\\n          \\'search.placeholder\\': \\'Поиск...\\',\\n          \\'location.placeholder\\': \\'Введите местоположение\\',\\n          \\'members.title\\': \\'Сотрудник\\',\\n          \\'typing\\': \\'Напечатать...\\',\\n          \\'is.typing\\': \\'Печатает...\\',\\n          \\'online\\': \\'Онлайн\\',\\n          \\'offline\\': \\'Не в сети\\',\\n          \\'clear.messages\\': \\'Четкий сигнал\\',\\n          \\'delete\\': \\'Удалить\\',\\n          \\'reply\\': \\'Ответить\\',\\n          \\'location.share.title\\': \\'Общий доступ к местоположению\\',\\n          \\'my.location\\': \\'Мое местоположение\\',\\n          \\'send\\': \\'Отправить\\',\\n          \\'send.message\\': \\'Отправить сообщение\\',\\n          \\'smiley\\': \\'Смайликами\\',\\n          \\'close\\': \\'Закрыть\\',\\n          \\'edit\\': \\'Редактировать\\',\\n          \\'save\\': \\'Сохранить\\',\\n          \\'file.attachment\\': \\'Загрузить вложение\\',\\n          \\'file.attach.title\\': \\'Вложенный файл\\',\\n          \\'last.seen\\': \\'Крайний раз замеченный\\',\\n          \\'last.seen.on\\': \\'Крайний раз замеченный на\\',\\n          \\'time.format.AM\\': \\'AM\\',\\n          \\'time.format.PM\\': \\'PM\\',\\n          \\'closed.conversation.message\\': \\'Надеемся мы помогли Вам 💛\\',\\n          \\'hour\\': \\' час\\',\\n          \\'min\\': \\' минута\\',\\n          \\'yesterday\\': \\'вчера\\',\\n          \\'hours\\': \\' часы\\',\\n          \\'mins\\': \\' минуты\\',\\n          \\'ago\\': \\'недавно\\',\\n          \\'admin\\': \\'Администратор\\',\\n          \\'user\\': \\'Пользователь\\',\\n          \\'member\\': \\'Сотрудник\\',\\n          \\'you\\': \\'Вы\\',\\n          \\'away\\': \\'Не в сети\\',\\n          \\'search.faq\\': \\'Поиск в часто задаваемых вопросах...\\',\\n          \\'looking.for.something.else\\': \\'Ищете что-то другое?\\',\\n          \\'no-faq-found\\': \\'Мы здесь, чтобы помочь.\\',\\n          \\'talk.to.agent\\': \\'Поговорите с агентом\\',\\n          \\'how.to.reachout\\': \\'Как мы можем связаться с вами?\\',\\n          \\'email.error.alert\\': \\'Похоже, вы ввели неверно электронную почту\\',\\n          \\'conversation.rated\\': \\'оценить разговор\\',\\n          \\'char.limit.warn\\': \\'Напишите сообщение в пределах 256 символов, чтобы помочь боту легко понять\\',\\n          \\'limit.remove\\': \\'Передвинуть\\',\\n          \\'limit.characters\\': \\'символы\\',\\n          \\'limit.remaining\\': \\'сохранившийся\\',\\n          \\'lead.collection\\': {\\n            \\'email\\': \\'Электронная почта\\',\\n            \\'name\\': \\'Ваше имя\\',\\n            \\'phone\\': \\'Контактный номер\\',\\n            \\'heading\\': \\'Как Вас зовут?\\',\\n            \\'submit\\': \\'Начать разговор\\',\\n          },\\n          \\'csat.rating\\': {\\n            \\'CONVERSATION_RATED\\': \\'Спасибо за Вашу оценку!\\',\\n            \\'RATE_CONVERSATION\\': \\'Оцените свой разговор\\',\\n            \\'CONVERSATION_REVIEW_PLACEHOLDER\\': \\'Добавить комментарий\\',\\n            \\'OTHER_QUERIES\\': \\'\\',\\n            \\'RESTART_CONVERSATION\\': \\'Возобновите этот разговор\\',\\n            \\'SUBMIT_RATING\\': \\'Отправить\\'\\n          },\\n          \\'page.title.on.new.message\\': \\'Новое сообщение от \\',\\n          \\'emoji.hover.text\\': {\\n            \\'poor\\': \\'Плохо\\',\\n            \\'great\\': \\'Отлично\\',\\n            \\'average\\': \\'Нейтрально\\'\\n          },\\n          \\'rich.message\\': {\\n            \\'notification.preview\\' : \\'Сообщение\\'\\n          },\\n          \\'filter.conversation.list\\': {\\n            \\'ALL_CONVERSATIONS\\': \\'Все диалоги\\',\\n            \\'ACTIVE_CONVERSATIONS\\': \\'Активные разговоры\\',\\n            \\'HIDE_RESOLVED\\': \\'Скрыть завершенный\\',\\n            \\'SHOW_RESOLVED\\': \\'Показ разрешенный\\'\\n          }\\n        },\\n        \"preLeadCollection\": [{\\n          \"field\": \"name\", // Name of the field you want to add\\n          \"required\": true, // Set \\'true\\' to make it a mandatory field\\n          \"placeholder\": \"Введите имя\" // add whatever text you want to show in the placeholder\\n        }]\\n      };\\n      var s = document.createElement(\"script\"); s.type = \"text/javascript\"; s.async = true;\\n      s.src = \"https://widget.kommunicate.io/v2/kommunicate.app\";\\n      var h = document.getElementsByTagName(\"head\")[0]; h.appendChild(s);\\n      window.kommunicate = m; m._globals = kommunicateSettings;\\n    })(document, window.kommunicate || {});\\n  </script>\\n\\n\\n\\n</body></html>'"
      ]
     },
     "execution_count": 6,
     "metadata": {},
     "output_type": "execute_result"
    }
   ],
   "source": [
    "content"
   ]
  },
  {
   "cell_type": "code",
   "execution_count": 10,
   "metadata": {},
   "outputs": [],
   "source": [
    "# /en/fabric/7137786-genevieve-floral-by-crystal_walen\n",
    "def extract_id_slug(url_path):\n",
    "    regex = r\"^[^\\s]+/(?P<id>\\d+)./?service=(?P<service>\\d+)\"\n",
    "    group = re.match(regex, url_path)\n",
    "    if not group:\n",
    "        return None, None\n",
    "    return group['id'], group['service']"
   ]
  },
  {
   "cell_type": "code",
   "execution_count": 11,
   "metadata": {},
   "outputs": [],
   "source": [
    "category=[]\n",
    "list_cat_hrefs=[]\n",
    "url = 'https://naimi.kz/#/'\n",
    "req = requests.get(url)\n",
    "content, browser = chrome(url)\n",
    "browser.find_element_by_xpath(\"//button[@class='btn blue mr-3 flex-item']\").click()"
   ]
  },
  {
   "cell_type": "code",
   "execution_count": 12,
   "metadata": {},
   "outputs": [],
   "source": [
    "elements=browser.find_elements_by_class_name(\"category\")\n",
    "for i in elements:\n",
    "    elements = i.find_elements_by_tag_name(\"a\")\n",
    "    for el in elements:\n",
    "        category.append(el)\n",
    "        list_cat_hrefs.append(el.get_attribute(\"href\"))"
   ]
  },
  {
   "cell_type": "code",
   "execution_count": 13,
   "metadata": {},
   "outputs": [
    {
     "data": {
      "text/plain": [
       "['https://naimi.kz/almaty/category/domashnij-personal',\n",
       " 'https://naimi.kz/almaty/category/remontnye-raboty',\n",
       " 'https://naimi.kz/almaty/category/otdelochnye-raboty',\n",
       " 'https://naimi.kz/almaty/category/tekhnika-i-oborudovanie',\n",
       " 'https://naimi.kz/almaty/category/perevozka-i-dostavka',\n",
       " 'https://naimi.kz/almaty/category/itfreelance',\n",
       " 'https://naimi.kz/almaty/category/krasotazdorovie',\n",
       " 'https://naimi.kz/almaty/category/delovieuslugi',\n",
       " 'https://naimi.kz/almaty/category/repetitor-kurs',\n",
       " 'https://naimi.kz/almaty/category/volonteri',\n",
       " 'https://naimi.kz/almaty/category/na-postoyannuy-rabotu']"
      ]
     },
     "execution_count": 13,
     "metadata": {},
     "output_type": "execute_result"
    }
   ],
   "source": [
    "list_cat_hrefs"
   ]
  },
  {
   "cell_type": "code",
   "execution_count": null,
   "metadata": {},
   "outputs": [
    {
     "name": "stdout",
     "output_type": "stream",
     "text": [
      "https://naimi.kz/almaty/service/uborka\n",
      "https://naimi.kz/almaty/service/nyani-i-sidelki\n",
      "https://naimi.kz/almaty/service/domrabotnitsy\n",
      "https://naimi.kz/almaty/service/sadovniki-i-dvorniki\n",
      "https://naimi.kz/almaty/service/povar\n",
      "https://naimi.kz/almaty/service/shvei-i-portnye\n",
      "https://naimi.kz/almaty/service/uhod-za-zhivotnymi\n",
      "https://naimi.kz/almaty/service/himchistka\n",
      "https://naimi.kz/almaty/service/dezinfektsiya\n"
     ]
    }
   ],
   "source": [
    "list_sub_cat_hrefs=[]\n",
    "for l in list_cat_hrefs:\n",
    "    req = requests.get(l)\n",
    "    content, browser = chrome(l)\n",
    "    cats=browser.find_elements_by_xpath(\"//a[@class='categories--service blue outline pt-1 pb-1 pl-2 pr-2']\")\n",
    "    for i in cats:\n",
    "        print(i.get_attribute(\"href\"))\n",
    "        list_sub_cat_hrefs.append(i.get_attribute(\"href\"))\n",
    "    \n",
    "    \n",
    "    \n",
    "    \n",
    "    "
   ]
  },
  {
   "cell_type": "code",
   "execution_count": null,
   "metadata": {},
   "outputs": [],
   "source": [
    "len(list_sub_cat_hrefs)"
   ]
  },
  {
   "cell_type": "code",
   "execution_count": null,
   "metadata": {},
   "outputs": [],
   "source": [
    "datas = []\n",
    "for cat in list_sub_cat_hrefs:\n",
    "    i=1\n",
    "    result = None\n",
    "    text_found=r'Рекомендованные специалисты'\n",
    "    while text_found is not None:\n",
    "        try:\n",
    "            url = '{}?page={}#/'.format(cat,i)\n",
    "            req = requests.get(url)\n",
    "            content, browser = chrome(url)\n",
    "            html_r = HTML(html=content)\n",
    "            text_found = re.search(r'Рекомендованные специалисты', content)\n",
    "            if text_found is None:\n",
    "                break\n",
    "            list_of_hrefs=[]\n",
    "            a_elements = []\n",
    "            content_blocks = browser.find_elements_by_class_name(\"service-specialists\")\n",
    "            for block in content_blocks:\n",
    "                elements = block.find_elements_by_tag_name(\"a\")\n",
    "                for el in elements:\n",
    "                    a_elements.append(el)\n",
    "                    list_of_hrefs.append(el.get_attribute(\"href\"))\n",
    "                    fabric_links = [x for x in list(list_of_hrefs) if x.startswith(\"https://naimi.kz/specialist/\")]\n",
    "            for path in fabric_links:\n",
    "                id_, slug_ = extract_id_slug(path)\n",
    "                print(id_, slug_)\n",
    "                data = {\n",
    "                    \"id\": id_,\n",
    "                    \"slug\": slug_,\n",
    "                    \"path\": path,\n",
    "                    \"scraped\": 0 # True / False -> 1 / 0 \n",
    "                }\n",
    "                datas.append(data)\n",
    "            print('page {}'.format(i))   \n",
    "            i+=1    \n",
    "        except:\n",
    "            break"
   ]
  },
  {
   "cell_type": "code",
   "execution_count": null,
   "metadata": {},
   "outputs": [],
   "source": [
    "datas"
   ]
  },
  {
   "cell_type": "code",
   "execution_count": null,
   "metadata": {},
   "outputs": [],
   "source": [
    "!pipenv install pickle"
   ]
  },
  {
   "cell_type": "code",
   "execution_count": 8,
   "metadata": {},
   "outputs": [],
   "source": [
    "import pickle"
   ]
  },
  {
   "cell_type": "code",
   "execution_count": 7,
   "metadata": {},
   "outputs": [
    {
     "ename": "NameError",
     "evalue": "name 'pickle' is not defined",
     "output_type": "error",
     "traceback": [
      "\u001b[0;31m---------------------------------------------------------------------------\u001b[0m",
      "\u001b[0;31mNameError\u001b[0m                                 Traceback (most recent call last)",
      "\u001b[0;32m<ipython-input-7-e15fa7befa95>\u001b[0m in \u001b[0;36m<module>\u001b[0;34m\u001b[0m\n\u001b[1;32m      1\u001b[0m \u001b[0;32mwith\u001b[0m \u001b[0mopen\u001b[0m\u001b[0;34m(\u001b[0m\u001b[0;34mr'datas.pickle'\u001b[0m\u001b[0;34m,\u001b[0m \u001b[0;34m'wb'\u001b[0m\u001b[0;34m)\u001b[0m \u001b[0;32mas\u001b[0m \u001b[0moutput\u001b[0m\u001b[0;34m:\u001b[0m\u001b[0;34m\u001b[0m\u001b[0;34m\u001b[0m\u001b[0m\n\u001b[0;32m----> 2\u001b[0;31m     \u001b[0mpickle\u001b[0m\u001b[0;34m.\u001b[0m\u001b[0mdump\u001b[0m\u001b[0;34m(\u001b[0m\u001b[0mdatas\u001b[0m\u001b[0;34m,\u001b[0m \u001b[0moutput\u001b[0m\u001b[0;34m)\u001b[0m\u001b[0;34m\u001b[0m\u001b[0;34m\u001b[0m\u001b[0m\n\u001b[0m",
      "\u001b[0;31mNameError\u001b[0m: name 'pickle' is not defined"
     ]
    }
   ],
   "source": [
    "with open(r'datas.pickle', 'wb') as output:\n",
    "    pickle.dump(datas, output)"
   ]
  },
  {
   "cell_type": "code",
   "execution_count": 9,
   "metadata": {},
   "outputs": [
    {
     "ename": "EOFError",
     "evalue": "Ran out of input",
     "output_type": "error",
     "traceback": [
      "\u001b[0;31m---------------------------------------------------------------------------\u001b[0m",
      "\u001b[0;31mEOFError\u001b[0m                                  Traceback (most recent call last)",
      "\u001b[0;32m<ipython-input-9-7bbc4c118330>\u001b[0m in \u001b[0;36m<module>\u001b[0;34m\u001b[0m\n\u001b[1;32m      1\u001b[0m \u001b[0;32mwith\u001b[0m \u001b[0mopen\u001b[0m\u001b[0;34m(\u001b[0m\u001b[0;34mr'datas.pickle'\u001b[0m\u001b[0;34m,\u001b[0m \u001b[0;34m'rb'\u001b[0m\u001b[0;34m)\u001b[0m \u001b[0;32mas\u001b[0m \u001b[0mdata\u001b[0m\u001b[0;34m:\u001b[0m\u001b[0;34m\u001b[0m\u001b[0;34m\u001b[0m\u001b[0m\n\u001b[0;32m----> 2\u001b[0;31m      \u001b[0mdatas\u001b[0m \u001b[0;34m=\u001b[0m \u001b[0mpickle\u001b[0m\u001b[0;34m.\u001b[0m\u001b[0mload\u001b[0m\u001b[0;34m(\u001b[0m\u001b[0mdata\u001b[0m\u001b[0;34m)\u001b[0m\u001b[0;34m\u001b[0m\u001b[0;34m\u001b[0m\u001b[0m\n\u001b[0m",
      "\u001b[0;31mEOFError\u001b[0m: Ran out of input"
     ]
    }
   ],
   "source": [
    "with open(r'datas.pickle', 'rb') as data:\n",
    "     datas = pickle.load(data)"
   ]
  },
  {
   "cell_type": "code",
   "execution_count": null,
   "metadata": {},
   "outputs": [],
   "source": [
    "len(datas[:8000])"
   ]
  },
  {
   "cell_type": "code",
   "execution_count": null,
   "metadata": {},
   "outputs": [],
   "source": [
    "len(datas[8000:])"
   ]
  },
  {
   "cell_type": "code",
   "execution_count": null,
   "metadata": {},
   "outputs": [],
   "source": [
    "cookies={1:{\"name\" : \"_session_public\", \"value\" : \"5pZTFel7yzs2v45x3aSV5GAXLBIwLKGhAU9DAdJKx5DwBudoiZBTcOxtb59SpTBFYkLfZdXCruadau40TeEdB3iZ5JfhlwyndNDv\"},\n",
    "        2:{\"name\" : \"_session_public\", \"value\" : \"olUZpkrCCqkBw3acekj6dFVS0QdsonoRkIpr6AvaOTmbRDyJuu7ZpqDS5y0uD6l1YLKFKD5yOLlILQrWuUUyXIblx25OrbeCkkM9\"},\n",
    "        3:{\"name\" : \"_session_public\", \"value\" : \"Vgc0HsG34m0zYQyJBvrlGukCSqvxYecOvRYHfuWwDaPEPOLELG8CPGYigjIBNzwsOOlCRQanplQpw2oYzWlysxbBJsLbmU89SjIL\"},\n",
    "        4:{\"name\" : \"_session_public\", \"value\" : \"OhwTjaD9huk1qvEMmqGKdzwRNvNHQwxeBq7UKkfLZDPO2SX3ux9NizwxqTjAjpW58VO1idGnQR7ta9mvcWgOwd20tiER9hRnHaWI\"},\n",
    "        5:{\"name\" : \"_session_public\", \"value\" : \"PZQNzME5q4YRqIIgzJOEPKvTvlueobznww0DcT9MoagB69SwfIuS1ZX126LurmOnMSK7FhKBGnfK6ykU37MSKoNxMe8EgZyx7En0\"},\n",
    "        6:{\"name\" : \"_session_public\", \"value\" : \"Mp4pnLF8ZXyNR4nEE9AzLDTC6KpaFZ2NZ4DyLzxGPjbNL3Z4mTr5iCyWdX4Hn4INIrBVPDkHw4UdkhcgfVuYw86kCtHhC2ld4mFR\"},\n",
    "        7:{\"name\" : \"_session_public\", \"value\" : \"tthelPcHx8BspcH3xbMjvKT9HwTCOP6YnxfeKVQc2AePKwKTtz9Ny4XpjbDPSrCotP0Zvl3AQPWorDNs7J3c6krZU7wSMz01HbFT\"},\n",
    "        }"
   ]
  },
  {
   "cell_type": "code",
   "execution_count": null,
   "metadata": {},
   "outputs": [],
   "source": [
    "cookies={1:{\"name\" : \"_session_public\", \"value\" : \"9XTrlMWuFbsMub3YgLPGjasK40vMYkHbc9OqRk7E91dN719lwDsm268aLhwuehfDBwgcm2CNgJdU5bgp1ym207hdOkHNNp7rP9DO\"},\n",
    "         2:{\"name\" : \"_session_public\", \"value\" : \"g9mP1pSHsjnYGJIp6CH8GvQH3kab4WGkLwvtf5X4pxW0lvFnWcFuyyDJRQZRyt7nPo9qh7j6U0VO18ZX34lKxk8rZK0IlxVx1toH\"},\n",
    "         3:{\"name\" : \"_session_public\", \"value\" : \"jti2VqgPqCvnkg0agJjBgeoMBGa0qSgCmd2lKxkzLyGyy5BZYOmp5z4ktYdBQ38gEXxnmhoMcNVA4HudROUeVs8FdYuybFSPTbon\"}}\n"
   ]
  },
  {
   "cell_type": "code",
   "execution_count": null,
   "metadata": {},
   "outputs": [],
   "source": [
    "\n",
    "start = time.time()\n",
    "i=1\n",
    "q=1\n",
    "for p in datas[:10]:\n",
    "    try:\n",
    "        if i%20!=0:\n",
    "            url = p.get('path')\n",
    "            req = requests.get(url)\n",
    "            content, browser = chrome(url)\n",
    "            browser.add_cookie(cookies.get(q))\n",
    "            print(\"{}  {}\".format(p.get('path'), q))\n",
    "            q+=1\n",
    "            if q>3:\n",
    "                q=1\n",
    "            html_r = HTML(html=content)          \n",
    "            try:\n",
    "                browser.find_element_by_xpath(\"//button[@class='btn blue mr-3 flex-item']\").click()\n",
    "            except NoSuchElementException:\n",
    "                pass\n",
    "            except ElementClickInterceptedException:\n",
    "                pass\n",
    "            try:\n",
    "                p[\"name\"] = element_name = browser.find_element_by_xpath(\"//div[@class='mb-half text lg verified']\").text\n",
    "            except NoSuchElementException:\n",
    "                p[\"name\"]=None\n",
    "                pass\n",
    "            try:\n",
    "                p[\"age\"] = browser.find_elements_by_xpath(\"//span[@class='text md gray-75 d-ib mr-1']\")[0].text\n",
    "            except NoSuchElementException:\n",
    "                p[\"age\"]=None\n",
    "                pass\n",
    "            try:\n",
    "                p[\"exp\"] = browser.find_elements_by_xpath(\"//span[@class='text md gray-75 d-ib ml-1']\")[0].text\n",
    "            except NoSuchElementException:\n",
    "                p[\"exp\"]=None\n",
    "                pass\n",
    "            try:\n",
    "                p['price']= browser.find_element_by_xpath(\"//div[@class='flex-item fixed-size right']\").text\n",
    "            except NoSuchElementException:\n",
    "                p['price']=None\n",
    "                pass\n",
    "            try:\n",
    "                p['spec_lvl']=browser.find_elements_by_xpath(\"//span[@class='specialist--level text md']\")[0].text\n",
    "            except NoSuchElementException:\n",
    "                p['spec_lvl']=None\n",
    "                pass\n",
    "            try:\n",
    "                p['review-count']=browser.find_elements_by_xpath(\"//div[@class='flex-item fixed-size review--review-count mr-4']\")[0].text\n",
    "            except NoSuchElementException:\n",
    "                p['review-count']=None\n",
    "                pass\n",
    "            try:\n",
    "                p['review-positive']=browser.find_element_by_xpath(\"//div[@class='review--review-bars positive']//div[@class='review--review-bar']\").get_attribute(\"style\")\n",
    "            except NoSuchElementException:\n",
    "                p['review-positive']=None\n",
    "                pass\n",
    "            try:\n",
    "                p['review-neutral']=browser.find_element_by_xpath(\"//div[@class='review--review-bars neutral']//div[@class='review--review-bar']\").get_attribute(\"style\")\n",
    "            except NoSuchElementException:\n",
    "                p['review-neutral']=None\n",
    "                pass\n",
    "            try:\n",
    "                p['review-negative']=browser.find_element_by_xpath(\"//div[@class='review--review-bars negative']//div[@class='review--review-bar']\").get_attribute(\"style\")\n",
    "            except NoSuchElementException:\n",
    "                p['review-negative']=None\n",
    "                pass\n",
    "            try:\n",
    "                p['edu_prof']=browser.find_element_by_xpath(\"//div[@class='text md']\").text\n",
    "            except NoSuchElementException:\n",
    "                p['edu_prof']=None\n",
    "                pass\n",
    "            try:\n",
    "                p['edu_university']=browser.find_element_by_xpath(\"//div[@class='text sm gray']\").text\n",
    "            except NoSuchElementException:\n",
    "                p['edu_university']=None\n",
    "                pass\n",
    "            try:\n",
    "                browser.find_element_by_xpath(\"//button[@class='btn blue width-100p ta-c mgb-2']\").click()\n",
    "                print(\"clicked\")\n",
    "                p[\"tel\"] = browser.find_element_by_xpath(\"//a[@class='btn blue width-100p ta-c mgb-2']\").text\n",
    "                print(\"tel saved\")\n",
    "            except NoSuchElementException:\n",
    "                print(\"Не нашел кнопку и телефон отдыхает 60 сек\")\n",
    "                time.sleep(60)\n",
    "                browser.find_element_by_xpath(\"//button[@class='btn blue width-100p ta-c mgb-2']\").click()\n",
    "                p[\"tel\"] = browser.find_element_by_xpath(\"//a[@class='btn blue width-100p ta-c mgb-2']\").text\n",
    "                pass\n",
    "            except ElementClickInterceptedException:\n",
    "                print(\"Не нажал кнопку отдыхает 5 мин\")\n",
    "                time.sleep(5*60)\n",
    "                browser.find_element_by_xpath(\"//button[@class='btn blue width-100p ta-c mgb-2']\").click()\n",
    "                p[\"tel\"] = browser.find_element_by_xpath(\"//a[@class='btn blue width-100p ta-c mgb-2']\").text\n",
    "                pass\n",
    "            except TimeoutException:\n",
    "                print(\"Не успел нажать кнопку отдыхает 15 сек\")\n",
    "                time.sleep(15)\n",
    "                browser.find_element_by_xpath(\"//button[@class='btn blue width-100p ta-c mgb-2']\").click()\n",
    "                p[\"tel\"] = browser.find_element_by_xpath(\"//a[@class='btn blue width-100p ta-c mgb-2']\").text\n",
    "                pass\n",
    "\n",
    "        else:\n",
    "            time.sleep(5*60)\n",
    "    except NoSuchElementException:\n",
    "        pass\n",
    "    except TimeoutException:\n",
    "        pass\n",
    "    print(\"Номер профайла {}\".format(i))\n",
    "    i+=1\n",
    "\n",
    "end = time.time() - start\n",
    "\n",
    "print(end)"
   ]
  },
  {
   "cell_type": "code",
   "execution_count": null,
   "metadata": {},
   "outputs": [],
   "source": [
    "q+=1"
   ]
  },
  {
   "cell_type": "code",
   "execution_count": null,
   "metadata": {},
   "outputs": [],
   "source": [
    "q"
   ]
  },
  {
   "cell_type": "code",
   "execution_count": null,
   "metadata": {},
   "outputs": [],
   "source": [
    "datas2=datas.copy()"
   ]
  },
  {
   "cell_type": "code",
   "execution_count": null,
   "metadata": {},
   "outputs": [],
   "source": [
    "datas"
   ]
  },
  {
   "cell_type": "code",
   "execution_count": null,
   "metadata": {},
   "outputs": [],
   "source": [
    "with open(r'datas2.pickle', 'wb') as output:\n",
    "    pickle.dump(datas2, output)"
   ]
  },
  {
   "cell_type": "code",
   "execution_count": null,
   "metadata": {},
   "outputs": [],
   "source": [
    "print(browser.find_elements_by_xpath(\"//span[@class='flex-item fixed-size review--review-count mr-4']\")"
   ]
  },
  {
   "cell_type": "code",
   "execution_count": null,
   "metadata": {},
   "outputs": [],
   "source": [
    "url = 'https://naimi.kz/specialist/113762?service=4#/'\n",
    "req = requests.get(url)\n",
    "content, browser = chrome(url)\n",
    "html_r = HTML(html=content)\n",
    "browser.add_cookie({\"name\" : \"_session_public\", \"value\" : \"EMDkrM2AsLpsnFEu3L9bkz6oS7QUnbVWyXBOW1SpMpozxRwuSTZHwkIxaia0zESLkJUK6BxDmOAv3L7yycPsWi6voEhuZkW7iB7J\"})\n",
    "browser.find_element_by_xpath(\"//button[@class='btn blue mr-3 flex-item']\").click()"
   ]
  },
  {
   "cell_type": "code",
   "execution_count": null,
   "metadata": {},
   "outputs": [],
   "source": [
    "print(browser.get_cookies())"
   ]
  },
  {
   "cell_type": "code",
   "execution_count": null,
   "metadata": {},
   "outputs": [],
   "source": [
    "browser.add_cookie({\"name\" : \"_session_public\", \"value\" : \"EMDkrM2AsLpsnFEu3L9bkz6oS7QUnbVWyXBOW1SpMpozxRwuSTZHwkIxaia0zESLkJUK6BxDmOAv3L7yycPsWi6voEhuZkW7iB7J\"})"
   ]
  },
  {
   "cell_type": "code",
   "execution_count": null,
   "metadata": {},
   "outputs": [],
   "source": [
    "content_blocks = browser.find_elements_by_class_name(\"specialist--profile\")"
   ]
  },
  {
   "cell_type": "code",
   "execution_count": null,
   "metadata": {},
   "outputs": [],
   "source": [
    "element_price = browser.find_element_by_xpath(\"//div[@class='flex-item fixed-size right']\").text"
   ]
  },
  {
   "cell_type": "code",
   "execution_count": null,
   "metadata": {},
   "outputs": [],
   "source": [
    "element_price"
   ]
  },
  {
   "cell_type": "code",
   "execution_count": null,
   "metadata": {},
   "outputs": [],
   "source": [
    "browser.find_elements_by_xpath(\"//span[@class='specialist--level text md']\")[0].text"
   ]
  },
  {
   "cell_type": "code",
   "execution_count": null,
   "metadata": {},
   "outputs": [],
   "source": [
    "element_age = browser.find_elements_by_xpath(\"//span[@class='text md gray-75 d-ib mr-1']\")[0].text"
   ]
  },
  {
   "cell_type": "code",
   "execution_count": null,
   "metadata": {},
   "outputs": [],
   "source": [
    "element_exp = browser.find_elements_by_xpath(\"//span[@class='text md gray-75 d-ib ml-1']\")[0].text"
   ]
  },
  {
   "cell_type": "code",
   "execution_count": null,
   "metadata": {},
   "outputs": [],
   "source": [
    "element_age"
   ]
  },
  {
   "cell_type": "code",
   "execution_count": null,
   "metadata": {},
   "outputs": [],
   "source": [
    "element_exp"
   ]
  },
  {
   "cell_type": "code",
   "execution_count": null,
   "metadata": {},
   "outputs": [],
   "source": [
    "element_name"
   ]
  },
  {
   "cell_type": "code",
   "execution_count": null,
   "metadata": {},
   "outputs": [],
   "source": [
    "# f = open(\"naimi.kz_cookies.txt\", \"r\")\n",
    "# print(f.read())"
   ]
  },
  {
   "cell_type": "code",
   "execution_count": null,
   "metadata": {},
   "outputs": [],
   "source": [
    "element_btn = browser.find_element_by_xpath(\"//button[@class='btn blue width-100p ta-c mgb-2']\")"
   ]
  },
  {
   "cell_type": "code",
   "execution_count": null,
   "metadata": {},
   "outputs": [],
   "source": [
    "element_btn.text"
   ]
  },
  {
   "cell_type": "code",
   "execution_count": null,
   "metadata": {},
   "outputs": [],
   "source": [
    "element_btn.click()"
   ]
  },
  {
   "cell_type": "code",
   "execution_count": null,
   "metadata": {},
   "outputs": [],
   "source": [
    "element_btn_tel = browser.find_element_by_xpath(\"//a[@class='btn blue width-100p ta-c mgb-2']\").text"
   ]
  },
  {
   "cell_type": "code",
   "execution_count": null,
   "metadata": {},
   "outputs": [],
   "source": [
    "print(element_btn_tel)"
   ]
  },
  {
   "cell_type": "code",
   "execution_count": null,
   "metadata": {},
   "outputs": [],
   "source": [
    "browser.find_element_by_xpath(\"//div[@class='review--review-bars positive']//div[@class='review--review-bar']\").get_attribute(\"style\")"
   ]
  },
  {
   "cell_type": "code",
   "execution_count": null,
   "metadata": {},
   "outputs": [],
   "source": [
    "browser.find_element_by_xpath(\"//div[@class='review--review-bars negative']//div[@class='review--review-bar']\").get_attribute(\"style\")"
   ]
  },
  {
   "cell_type": "code",
   "execution_count": null,
   "metadata": {},
   "outputs": [],
   "source": [
    "browser.find_element_by_xpath(\"//div[@class='review--review-bars neutral']//div[@class='review--review-bar']\").get_attribute(\"style\")"
   ]
  },
  {
   "cell_type": "code",
   "execution_count": null,
   "metadata": {},
   "outputs": [],
   "source": [
    "browser.find_element_by_xpath(\"//div[@class='text md']\").text"
   ]
  },
  {
   "cell_type": "code",
   "execution_count": null,
   "metadata": {},
   "outputs": [],
   "source": [
    "browser.find_element_by_xpath(\"//div[@class='text sm gray']\").text"
   ]
  },
  {
   "cell_type": "code",
   "execution_count": null,
   "metadata": {},
   "outputs": [],
   "source": []
  }
 ],
 "metadata": {
  "kernelspec": {
   "display_name": "Python 3",
   "language": "python",
   "name": "python3"
  },
  "language_info": {
   "codemirror_mode": {
    "name": "ipython",
    "version": 3
   },
   "file_extension": ".py",
   "mimetype": "text/x-python",
   "name": "python",
   "nbconvert_exporter": "python",
   "pygments_lexer": "ipython3",
   "version": "3.7.6"
  }
 },
 "nbformat": 4,
 "nbformat_minor": 4
}

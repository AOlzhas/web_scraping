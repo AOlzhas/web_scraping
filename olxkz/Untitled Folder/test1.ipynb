{
 "cells": [
  {
   "cell_type": "code",
   "execution_count": 14,
   "metadata": {},
   "outputs": [],
   "source": [
    "from selenium import webdriver\n",
    "from selenium.webdriver.common.keys import Keys\n",
    "from selenium.webdriver import ActionChains\n",
    "from bs4 import BeautifulSoup\n",
    "import requests\n",
    "from urllib.parse import urljoin\n",
    "import pandas as pd\n",
    "import time\n",
    "import subprocess\n",
    "import os"
   ]
  },
  {
   "cell_type": "code",
   "execution_count": 15,
   "metadata": {},
   "outputs": [],
   "source": [
    "import re\n",
    "import requests\n",
    "from requests_html import HTML\n",
    "import pandas as pd\n",
    "\n",
    "from selenium import webdriver\n",
    "from selenium.webdriver.chrome.options import Options\n",
    "from selenium.webdriver import DesiredCapabilities\n",
    "from selenium.common.exceptions import TimeoutException, NoSuchElementException, TimeoutException, ElementClickInterceptedException"
   ]
  },
  {
   "cell_type": "code",
   "execution_count": 16,
   "metadata": {},
   "outputs": [],
   "source": [
    "def chrome(url):\n",
    "    subprocess.run('mkdir /tmp/bin', shell=True)\n",
    "    os.system(\"cp ./chromedriver /tmp/bin/chromedriver\")\n",
    "    os.system(\"cp ./headless-chromium /tmp/bin/headless-chromium\")\n",
    "    os.chmod(\"/tmp/bin/chromedriver\", 0o777)\n",
    "    os.chmod(\"/tmp/bin/headless-chromium\", 0o777)\n",
    "    driver = webdriver.Chrome('/tmp/path/to/chromedriver')\n",
    "    options = webdriver.ChromeOptions()\n",
    "    options.binary_location = '/tmp/bin/headless-chromium'     \n",
    "    options.add_argument(\"--headless\")\n",
    "    options.add_argument(\"--disable-gpu\")\n",
    "    options.add_argument(\"--single-process\")\n",
    "    options.add_argument(\"--no-sandbox\")\n",
    "    options.add_argument(\"--disable-dev-shm-usage\")\n",
    "    options.add_argument(\"--window-size=1600x800\") # can be changed to any browser size\n",
    "    browser = webdriver.Chrome(executable_path='/tmp/bin/chromedriver', options=options)\n",
    "    browser.implicitly_wait(10)\n",
    "    browser.set_page_load_timeout(20)\n",
    "    browser.get(url)\n",
    "    return browser.page_source, browser"
   ]
  },
  {
   "cell_type": "code",
   "execution_count": 17,
   "metadata": {},
   "outputs": [],
   "source": [
    "def chrome(url):\n",
    "    \n",
    "    # support to get response status and headers\n",
    "    d = DesiredCapabilities.CHROME\n",
    "    d['loggingPrefs'] = {'performance': 'ALL'}\n",
    "    opt = webdriver.ChromeOptions()\n",
    "#     opt.add_argument(\"--headless\")\n",
    "#     opt.add_argument(\"--disable-xss-auditor\")\n",
    "    opt.add_argument(\"--disable-web-security\")\n",
    "    opt.add_argument(\"--allow-running-insecure-content\")\n",
    "    opt.add_argument(\"--no-sandbox\")\n",
    "    opt.add_argument(\"--disable-setuid-sandbox\")\n",
    "    opt.add_argument(\"--disable-webgl\")\n",
    "    opt.add_argument(\"--disable-popup-blocking\")\n",
    "    # prefs = {\"profile.managed_default_content_settings.images\": 2,\n",
    "    #          'notifications': 2,\n",
    "    #          }\n",
    "    # opt.add_experimental_option(\"prefs\", prefs)\n",
    "    browser = webdriver.Chrome(options=opt,desired_capabilities=d)\n",
    "#     browser.add_cookie({\"name\" : \"_session_public\", \"value\" : \"EMDkrM2AsLpsnFEu3L9bkz6oS7QUnbVWyXBOW1SpMpozxRwuSTZHwkIxaia0zESLkJUK6BxDmOAv3L7yycPsWi6voEhuZkW7iB7J\"})\n",
    "#     browser.add_cookie({\"name\" : \"city\", \"value\" : \"{%22id%22:1%2C%22name%22:%22%D0%90%D0%BB%D0%BC%D0%B0%D1%82%D1%8B%22%2C%22slug%22:%22almaty%22%2C%22is_disabled%22:false%2C%22deposit_rate%22:1%2C%22label%22:%22empty%22%2C%22country_id%22:1%2C%22latitude%22:43.221313%2C%22longitude%22:76.955436}\"})\n",
    "    browser.implicitly_wait(10)\n",
    "    browser.set_page_load_timeout(20)\n",
    "    browser.get(url)\n",
    "    return browser.page_source, browser"
   ]
  },
  {
   "cell_type": "code",
   "execution_count": 18,
   "metadata": {},
   "outputs": [],
   "source": [
    "#url = 'https://naimi.kz/#/'\n",
    "url = 'https://www.olx.kz/list/'\n",
    "req = requests.get(url)\n",
    "content, browser = chrome(url)"
   ]
  },
  {
   "cell_type": "code",
   "execution_count": 20,
   "metadata": {},
   "outputs": [
    {
     "data": {
      "text/plain": [
       "<selenium.webdriver.chrome.webdriver.WebDriver (session=\"d99dca0ed0e8056c32b96de198b7733f\")>"
      ]
     },
     "execution_count": 20,
     "metadata": {},
     "output_type": "execute_result"
    }
   ],
   "source": [
    "browser"
   ]
  },
  {
   "cell_type": "code",
   "execution_count": 21,
   "metadata": {},
   "outputs": [],
   "source": [
    "# /en/fabric/7137786-genevieve-floral-by-crystal_walen\n",
    "def extract_id_slug(url_path):\n",
    "    regex = r\"^[^\\s]+/(?P<id>\\d+)./?service=(?P<service>\\d+)\"\n",
    "    group = re.match(regex, url_path)\n",
    "    if not group:\n",
    "        return None, None\n",
    "    return group['id'], group['service']"
   ]
  },
  {
   "cell_type": "code",
   "execution_count": null,
   "metadata": {},
   "outputs": [],
   "source": []
  },
  {
   "cell_type": "code",
   "execution_count": 36,
   "metadata": {},
   "outputs": [],
   "source": [
    "category=[]\n",
    "list_cat_hrefs=[]\n",
    "#url = 'https://naimi.kz/#/'\n",
    "url = 'https://www.olx.kz/uslugi/'\n",
    "req = requests.get(url)\n",
    "content, browser = chrome(url)\n",
    "#browser.find_element_by_xpath(\"//button[@class='btn blue mr-3 flex-item']\").click()\n",
    "browser.find_element_by_id(\"topLinkShowAll\").click()"
   ]
  },
  {
   "cell_type": "code",
   "execution_count": 37,
   "metadata": {},
   "outputs": [
    {
     "name": "stdout",
     "output_type": "stream",
     "text": [
      "[<selenium.webdriver.remote.webelement.WebElement (session=\"d4c96fcfbccb603b8b4c868f824525db\", element=\"c8045a1b-c3fe-4108-83fd-398091be6ce3\")>, <selenium.webdriver.remote.webelement.WebElement (session=\"d4c96fcfbccb603b8b4c868f824525db\", element=\"edf2051d-0cfa-4ee3-af24-7acef536c6a8\")>, <selenium.webdriver.remote.webelement.WebElement (session=\"d4c96fcfbccb603b8b4c868f824525db\", element=\"7068a6ff-ef88-4447-9aef-25fd69fc11fa\")>, <selenium.webdriver.remote.webelement.WebElement (session=\"d4c96fcfbccb603b8b4c868f824525db\", element=\"1d8639a2-3acc-4fb5-9ca9-d87295270f45\")>, <selenium.webdriver.remote.webelement.WebElement (session=\"d4c96fcfbccb603b8b4c868f824525db\", element=\"54a113d5-d87f-41c5-aae1-12bf3669a252\")>]\n"
     ]
    }
   ],
   "source": [
    "elements=browser.find_elements_by_class_name(\"inner\")\n",
    "print(elements)\n",
    "for i in elements:\n",
    "    elements = i.find_elements_by_tag_name(\"a\")\n",
    "    for el in elements:\n",
    "        category.append(el)\n",
    "        list_cat_hrefs.append(el.get_attribute(\"href\"))"
   ]
  },
  {
   "cell_type": "code",
   "execution_count": 68,
   "metadata": {},
   "outputs": [
    {
     "name": "stdout",
     "output_type": "stream",
     "text": [
      "[<selenium.webdriver.remote.webelement.WebElement (session=\"92c4f958be2b033f6a353a7f49a46f63\", element=\"cd74c113-1bac-465b-aa2b-582eb7bbe7f1\")>, <selenium.webdriver.remote.webelement.WebElement (session=\"92c4f958be2b033f6a353a7f49a46f63\", element=\"b74fb5ee-e80b-4e8c-af85-ecbbc7e6761f\")>, <selenium.webdriver.remote.webelement.WebElement (session=\"92c4f958be2b033f6a353a7f49a46f63\", element=\"a3c5f6b4-75a5-4040-a9ae-b8b2ce16904a\")>, <selenium.webdriver.remote.webelement.WebElement (session=\"92c4f958be2b033f6a353a7f49a46f63\", element=\"e9d11659-e19b-495f-966f-d25a64eb8a84\")>, <selenium.webdriver.remote.webelement.WebElement (session=\"92c4f958be2b033f6a353a7f49a46f63\", element=\"c99988c4-9fa0-44a8-be31-9012fa100b4b\")>, <selenium.webdriver.remote.webelement.WebElement (session=\"92c4f958be2b033f6a353a7f49a46f63\", element=\"8ea8b8dd-80f0-4ea3-a993-dd525692e3ce\")>, <selenium.webdriver.remote.webelement.WebElement (session=\"92c4f958be2b033f6a353a7f49a46f63\", element=\"60bae997-a481-4aa2-9168-390f6d8e6cff\")>, <selenium.webdriver.remote.webelement.WebElement (session=\"92c4f958be2b033f6a353a7f49a46f63\", element=\"c962a93b-9c44-4abf-a6c5-3214c9d25748\")>, <selenium.webdriver.remote.webelement.WebElement (session=\"92c4f958be2b033f6a353a7f49a46f63\", element=\"b440eb76-0dc0-425f-8545-0639295718ef\")>, <selenium.webdriver.remote.webelement.WebElement (session=\"92c4f958be2b033f6a353a7f49a46f63\", element=\"f8cb64b4-9f6a-4409-996a-59de410f64dc\")>, <selenium.webdriver.remote.webelement.WebElement (session=\"92c4f958be2b033f6a353a7f49a46f63\", element=\"ada2f4d8-8fbd-4dfa-b5f4-e198fe0710e2\")>]\n"
     ]
    }
   ],
   "source": [
    "elements=browser.find_elements_by_class_name(\"category\")\n",
    "for i in elements:\n",
    "    elements = i.find_elements_by_tag_name(\"a\")\n",
    "    for el in elements:\n",
    "        category.append(el)\n",
    "        list_cat_hrefs.append(el.get_attribute(\"href\"))"
   ]
  },
  {
   "cell_type": "code",
   "execution_count": 38,
   "metadata": {},
   "outputs": [
    {
     "data": {
      "text/plain": [
       "['https://www.olx.kz/uslugi/razvlecheniya/',\n",
       " 'https://www.olx.kz/uslugi/krasota-i-zdorove/',\n",
       " 'https://www.olx.kz/uslugi/dlya-biznesa/',\n",
       " 'https://www.olx.kz/uslugi/avto-uslugi/',\n",
       " 'https://www.olx.kz/uslugi/bytovye-uslugi/',\n",
       " 'https://www.olx.kz/uslugi/perevozki-i-skladskie-uslugi/',\n",
       " 'https://www.olx.kz/uslugi/remont-i-obsluzhivanie-tehniki/',\n",
       " 'https://www.olx.kz/uslugi/remont-i-stroitelstvo/',\n",
       " 'https://www.olx.kz/uslugi/uborka/',\n",
       " 'https://www.olx.kz/uslugi/ohrana-bezopasnost/',\n",
       " 'https://www.olx.kz/uslugi/delovye-uslugi/',\n",
       " 'https://www.olx.kz/uslugi/obuchenie-kursy-repetitorstvo/',\n",
       " 'https://www.olx.kz/uslugi/studii-zvukozapisi/',\n",
       " 'https://www.olx.kz/uslugi/foto-i-videosemka/',\n",
       " 'https://www.olx.kz/uslugi/turizm-immigratsiya/',\n",
       " 'https://www.olx.kz/uslugi/setevoy-marketing/',\n",
       " 'https://www.olx.kz/uslugi/prokat-tovarov/',\n",
       " 'https://www.olx.kz/uslugi/uslugi-dlya-zhivotnyh/',\n",
       " 'https://www.olx.kz/uslugi/prochie-uslugi/',\n",
       " 'https://www.olx.kz/account/?origin=observepopup',\n",
       " 'https://www.olx.kz/account/register/']"
      ]
     },
     "execution_count": 38,
     "metadata": {},
     "output_type": "execute_result"
    }
   ],
   "source": [
    "list_cat_hrefs"
   ]
  },
  {
   "cell_type": "code",
   "execution_count": 41,
   "metadata": {},
   "outputs": [
    {
     "name": "stdout",
     "output_type": "stream",
     "text": [
      "https://www.olx.kz/uslugi/razvlecheniya/aktivnyy-otdykh/\n",
      "https://www.olx.kz/uslugi/razvlecheniya/bary-kafe-restorany/\n",
      "https://www.olx.kz/uslugi/razvlecheniya/aktivnyy-otdykh/\n",
      "https://www.olx.kz/uslugi/razvlecheniya/bary-kafe-restorany/\n",
      "https://www.olx.kz/uslugi/razvlecheniya/razvlecheniya-dlya-detey/\n",
      "https://www.olx.kz/uslugi/razvlecheniya/razvlecheniya-dlya-detey/\n",
      "https://www.olx.kz/uslugi/razvlecheniya/nochnyye-kluby/\n",
      "https://www.olx.kz/uslugi/razvlecheniya/kvesty/\n",
      "https://www.olx.kz/uslugi/razvlecheniya/nochnyye-kluby/\n",
      "https://www.olx.kz/uslugi/razvlecheniya/teatry/\n",
      "https://www.olx.kz/uslugi/razvlecheniya/kontserty-i-sobytiya/\n",
      "https://www.olx.kz/uslugi/razvlecheniya/gostinitsy-oteli-khostely/\n",
      "https://www.olx.kz/uslugi/razvlecheniya/kontserty-i-sobytiya/\n",
      "https://www.olx.kz/uslugi/razvlecheniya/karaoke/\n",
      "https://www.olx.kz/uslugi/razvlecheniya/puteshestviya/\n",
      "https://www.olx.kz/uslugi/razvlecheniya/organizatsiya-meropriyatiy/\n",
      "https://www.olx.kz/uslugi/razvlecheniya/drugiye-razvlecheniya/\n",
      "https://www.olx.kz/uslugi/razvlecheniya/gostinitsy-oteli-khostely/\n",
      "https://www.olx.kz/uslugi/razvlecheniya/organizatsiya-meropriyatiy/\n",
      "https://www.olx.kz/uslugi/razvlecheniya/drugiye-razvlecheniya/\n"
     ]
    },
    {
     "ename": "TimeoutException",
     "evalue": "Message: timeout: Timed out receiving message from renderer: 19.049\n  (Session info: chrome=86.0.4240.193)\n",
     "output_type": "error",
     "traceback": [
      "\u001b[0;31m---------------------------------------------------------------------------\u001b[0m",
      "\u001b[0;31mTimeoutException\u001b[0m                          Traceback (most recent call last)",
      "\u001b[0;32m<ipython-input-41-8099fe56c15f>\u001b[0m in \u001b[0;36m<module>\u001b[0;34m\u001b[0m\n\u001b[1;32m      2\u001b[0m \u001b[0;32mfor\u001b[0m \u001b[0ml\u001b[0m \u001b[0;32min\u001b[0m \u001b[0mlist_cat_hrefs\u001b[0m\u001b[0;34m:\u001b[0m\u001b[0;34m\u001b[0m\u001b[0;34m\u001b[0m\u001b[0m\n\u001b[1;32m      3\u001b[0m     \u001b[0mreq\u001b[0m \u001b[0;34m=\u001b[0m \u001b[0mrequests\u001b[0m\u001b[0;34m.\u001b[0m\u001b[0mget\u001b[0m\u001b[0;34m(\u001b[0m\u001b[0ml\u001b[0m\u001b[0;34m)\u001b[0m\u001b[0;34m\u001b[0m\u001b[0;34m\u001b[0m\u001b[0m\n\u001b[0;32m----> 4\u001b[0;31m     \u001b[0mcontent\u001b[0m\u001b[0;34m,\u001b[0m \u001b[0mbrowser\u001b[0m \u001b[0;34m=\u001b[0m \u001b[0mchrome\u001b[0m\u001b[0;34m(\u001b[0m\u001b[0ml\u001b[0m\u001b[0;34m)\u001b[0m\u001b[0;34m\u001b[0m\u001b[0;34m\u001b[0m\u001b[0m\n\u001b[0m\u001b[1;32m      5\u001b[0m     \u001b[0mcats\u001b[0m\u001b[0;34m=\u001b[0m\u001b[0mbrowser\u001b[0m\u001b[0;34m.\u001b[0m\u001b[0mfind_elements_by_xpath\u001b[0m\u001b[0;34m(\u001b[0m\u001b[0;34m\"//a[@class='topLink tdnone ']\"\u001b[0m\u001b[0;34m)\u001b[0m\u001b[0;34m\u001b[0m\u001b[0;34m\u001b[0m\u001b[0m\n\u001b[1;32m      6\u001b[0m     \u001b[0;32mfor\u001b[0m \u001b[0mi\u001b[0m \u001b[0;32min\u001b[0m \u001b[0mcats\u001b[0m\u001b[0;34m:\u001b[0m\u001b[0;34m\u001b[0m\u001b[0;34m\u001b[0m\u001b[0m\n",
      "\u001b[0;32m<ipython-input-17-0bf42779028f>\u001b[0m in \u001b[0;36mchrome\u001b[0;34m(url)\u001b[0m\n\u001b[1;32m     22\u001b[0m     \u001b[0mbrowser\u001b[0m\u001b[0;34m.\u001b[0m\u001b[0mimplicitly_wait\u001b[0m\u001b[0;34m(\u001b[0m\u001b[0;36m10\u001b[0m\u001b[0;34m)\u001b[0m\u001b[0;34m\u001b[0m\u001b[0;34m\u001b[0m\u001b[0m\n\u001b[1;32m     23\u001b[0m     \u001b[0mbrowser\u001b[0m\u001b[0;34m.\u001b[0m\u001b[0mset_page_load_timeout\u001b[0m\u001b[0;34m(\u001b[0m\u001b[0;36m20\u001b[0m\u001b[0;34m)\u001b[0m\u001b[0;34m\u001b[0m\u001b[0;34m\u001b[0m\u001b[0m\n\u001b[0;32m---> 24\u001b[0;31m     \u001b[0mbrowser\u001b[0m\u001b[0;34m.\u001b[0m\u001b[0mget\u001b[0m\u001b[0;34m(\u001b[0m\u001b[0murl\u001b[0m\u001b[0;34m)\u001b[0m\u001b[0;34m\u001b[0m\u001b[0;34m\u001b[0m\u001b[0m\n\u001b[0m\u001b[1;32m     25\u001b[0m     \u001b[0;32mreturn\u001b[0m \u001b[0mbrowser\u001b[0m\u001b[0;34m.\u001b[0m\u001b[0mpage_source\u001b[0m\u001b[0;34m,\u001b[0m \u001b[0mbrowser\u001b[0m\u001b[0;34m\u001b[0m\u001b[0;34m\u001b[0m\u001b[0m\n",
      "\u001b[0;32m~/opt/anaconda3/lib/python3.7/site-packages/selenium/webdriver/remote/webdriver.py\u001b[0m in \u001b[0;36mget\u001b[0;34m(self, url)\u001b[0m\n\u001b[1;32m    331\u001b[0m         \u001b[0mLoads\u001b[0m \u001b[0ma\u001b[0m \u001b[0mweb\u001b[0m \u001b[0mpage\u001b[0m \u001b[0;32min\u001b[0m \u001b[0mthe\u001b[0m \u001b[0mcurrent\u001b[0m \u001b[0mbrowser\u001b[0m \u001b[0msession\u001b[0m\u001b[0;34m.\u001b[0m\u001b[0;34m\u001b[0m\u001b[0;34m\u001b[0m\u001b[0m\n\u001b[1;32m    332\u001b[0m         \"\"\"\n\u001b[0;32m--> 333\u001b[0;31m         \u001b[0mself\u001b[0m\u001b[0;34m.\u001b[0m\u001b[0mexecute\u001b[0m\u001b[0;34m(\u001b[0m\u001b[0mCommand\u001b[0m\u001b[0;34m.\u001b[0m\u001b[0mGET\u001b[0m\u001b[0;34m,\u001b[0m \u001b[0;34m{\u001b[0m\u001b[0;34m'url'\u001b[0m\u001b[0;34m:\u001b[0m \u001b[0murl\u001b[0m\u001b[0;34m}\u001b[0m\u001b[0;34m)\u001b[0m\u001b[0;34m\u001b[0m\u001b[0;34m\u001b[0m\u001b[0m\n\u001b[0m\u001b[1;32m    334\u001b[0m \u001b[0;34m\u001b[0m\u001b[0m\n\u001b[1;32m    335\u001b[0m     \u001b[0;34m@\u001b[0m\u001b[0mproperty\u001b[0m\u001b[0;34m\u001b[0m\u001b[0;34m\u001b[0m\u001b[0m\n",
      "\u001b[0;32m~/opt/anaconda3/lib/python3.7/site-packages/selenium/webdriver/remote/webdriver.py\u001b[0m in \u001b[0;36mexecute\u001b[0;34m(self, driver_command, params)\u001b[0m\n\u001b[1;32m    319\u001b[0m         \u001b[0mresponse\u001b[0m \u001b[0;34m=\u001b[0m \u001b[0mself\u001b[0m\u001b[0;34m.\u001b[0m\u001b[0mcommand_executor\u001b[0m\u001b[0;34m.\u001b[0m\u001b[0mexecute\u001b[0m\u001b[0;34m(\u001b[0m\u001b[0mdriver_command\u001b[0m\u001b[0;34m,\u001b[0m \u001b[0mparams\u001b[0m\u001b[0;34m)\u001b[0m\u001b[0;34m\u001b[0m\u001b[0;34m\u001b[0m\u001b[0m\n\u001b[1;32m    320\u001b[0m         \u001b[0;32mif\u001b[0m \u001b[0mresponse\u001b[0m\u001b[0;34m:\u001b[0m\u001b[0;34m\u001b[0m\u001b[0;34m\u001b[0m\u001b[0m\n\u001b[0;32m--> 321\u001b[0;31m             \u001b[0mself\u001b[0m\u001b[0;34m.\u001b[0m\u001b[0merror_handler\u001b[0m\u001b[0;34m.\u001b[0m\u001b[0mcheck_response\u001b[0m\u001b[0;34m(\u001b[0m\u001b[0mresponse\u001b[0m\u001b[0;34m)\u001b[0m\u001b[0;34m\u001b[0m\u001b[0;34m\u001b[0m\u001b[0m\n\u001b[0m\u001b[1;32m    322\u001b[0m             response['value'] = self._unwrap_value(\n\u001b[1;32m    323\u001b[0m                 response.get('value', None))\n",
      "\u001b[0;32m~/opt/anaconda3/lib/python3.7/site-packages/selenium/webdriver/remote/errorhandler.py\u001b[0m in \u001b[0;36mcheck_response\u001b[0;34m(self, response)\u001b[0m\n\u001b[1;32m    240\u001b[0m                 \u001b[0malert_text\u001b[0m \u001b[0;34m=\u001b[0m \u001b[0mvalue\u001b[0m\u001b[0;34m[\u001b[0m\u001b[0;34m'alert'\u001b[0m\u001b[0;34m]\u001b[0m\u001b[0;34m.\u001b[0m\u001b[0mget\u001b[0m\u001b[0;34m(\u001b[0m\u001b[0;34m'text'\u001b[0m\u001b[0;34m)\u001b[0m\u001b[0;34m\u001b[0m\u001b[0;34m\u001b[0m\u001b[0m\n\u001b[1;32m    241\u001b[0m             \u001b[0;32mraise\u001b[0m \u001b[0mexception_class\u001b[0m\u001b[0;34m(\u001b[0m\u001b[0mmessage\u001b[0m\u001b[0;34m,\u001b[0m \u001b[0mscreen\u001b[0m\u001b[0;34m,\u001b[0m \u001b[0mstacktrace\u001b[0m\u001b[0;34m,\u001b[0m \u001b[0malert_text\u001b[0m\u001b[0;34m)\u001b[0m\u001b[0;34m\u001b[0m\u001b[0;34m\u001b[0m\u001b[0m\n\u001b[0;32m--> 242\u001b[0;31m         \u001b[0;32mraise\u001b[0m \u001b[0mexception_class\u001b[0m\u001b[0;34m(\u001b[0m\u001b[0mmessage\u001b[0m\u001b[0;34m,\u001b[0m \u001b[0mscreen\u001b[0m\u001b[0;34m,\u001b[0m \u001b[0mstacktrace\u001b[0m\u001b[0;34m)\u001b[0m\u001b[0;34m\u001b[0m\u001b[0;34m\u001b[0m\u001b[0m\n\u001b[0m\u001b[1;32m    243\u001b[0m \u001b[0;34m\u001b[0m\u001b[0m\n\u001b[1;32m    244\u001b[0m     \u001b[0;32mdef\u001b[0m \u001b[0m_value_or_default\u001b[0m\u001b[0;34m(\u001b[0m\u001b[0mself\u001b[0m\u001b[0;34m,\u001b[0m \u001b[0mobj\u001b[0m\u001b[0;34m,\u001b[0m \u001b[0mkey\u001b[0m\u001b[0;34m,\u001b[0m \u001b[0mdefault\u001b[0m\u001b[0;34m)\u001b[0m\u001b[0;34m:\u001b[0m\u001b[0;34m\u001b[0m\u001b[0;34m\u001b[0m\u001b[0m\n",
      "\u001b[0;31mTimeoutException\u001b[0m: Message: timeout: Timed out receiving message from renderer: 19.049\n  (Session info: chrome=86.0.4240.193)\n"
     ]
    }
   ],
   "source": [
    "list_sub_cat_hrefs=[]\n",
    "for l in list_cat_hrefs:\n",
    "    req = requests.get(l)\n",
    "    content, browser = chrome(l)\n",
    "    cats=browser.find_elements_by_xpath(\"//a[@class='topLink tdnone ']\")\n",
    "    for i in cats:\n",
    "        print(i.get_attribute(\"href\"))\n",
    "        list_sub_cat_hrefs.append(i.get_attribute(\"href\"))\n",
    "    \n",
    "    "
   ]
  },
  {
   "cell_type": "code",
   "execution_count": 28,
   "metadata": {},
   "outputs": [
    {
     "ename": "TimeoutException",
     "evalue": "Message: timeout: Timed out receiving message from renderer: 19.143\n  (Session info: chrome=86.0.4240.193)\n",
     "output_type": "error",
     "traceback": [
      "\u001b[0;31m---------------------------------------------------------------------------\u001b[0m",
      "\u001b[0;31mTimeoutException\u001b[0m                          Traceback (most recent call last)",
      "\u001b[0;32m<ipython-input-28-d7181c92e9cc>\u001b[0m in \u001b[0;36m<module>\u001b[0;34m\u001b[0m\n\u001b[1;32m      2\u001b[0m \u001b[0;32mfor\u001b[0m \u001b[0ml\u001b[0m \u001b[0;32min\u001b[0m \u001b[0mlist_cat_hrefs\u001b[0m\u001b[0;34m:\u001b[0m\u001b[0;34m\u001b[0m\u001b[0;34m\u001b[0m\u001b[0m\n\u001b[1;32m      3\u001b[0m     \u001b[0mreq\u001b[0m \u001b[0;34m=\u001b[0m \u001b[0mrequests\u001b[0m\u001b[0;34m.\u001b[0m\u001b[0mget\u001b[0m\u001b[0;34m(\u001b[0m\u001b[0ml\u001b[0m\u001b[0;34m)\u001b[0m\u001b[0;34m\u001b[0m\u001b[0;34m\u001b[0m\u001b[0m\n\u001b[0;32m----> 4\u001b[0;31m     \u001b[0mcontent\u001b[0m\u001b[0;34m,\u001b[0m \u001b[0mbrowser\u001b[0m \u001b[0;34m=\u001b[0m \u001b[0mchrome\u001b[0m\u001b[0;34m(\u001b[0m\u001b[0ml\u001b[0m\u001b[0;34m)\u001b[0m\u001b[0;34m\u001b[0m\u001b[0;34m\u001b[0m\u001b[0m\n\u001b[0m\u001b[1;32m      5\u001b[0m     \u001b[0mcats\u001b[0m\u001b[0;34m=\u001b[0m\u001b[0mbrowser\u001b[0m\u001b[0;34m.\u001b[0m\u001b[0mfind_elements_by_xpath\u001b[0m\u001b[0;34m(\u001b[0m\u001b[0;34m\"//a[@class='']\"\u001b[0m\u001b[0;34m)\u001b[0m\u001b[0;34m\u001b[0m\u001b[0;34m\u001b[0m\u001b[0m\n\u001b[1;32m      6\u001b[0m     \u001b[0;32mfor\u001b[0m \u001b[0mi\u001b[0m \u001b[0;32min\u001b[0m \u001b[0mcats\u001b[0m\u001b[0;34m:\u001b[0m\u001b[0;34m\u001b[0m\u001b[0;34m\u001b[0m\u001b[0m\n",
      "\u001b[0;32m<ipython-input-17-0bf42779028f>\u001b[0m in \u001b[0;36mchrome\u001b[0;34m(url)\u001b[0m\n\u001b[1;32m     22\u001b[0m     \u001b[0mbrowser\u001b[0m\u001b[0;34m.\u001b[0m\u001b[0mimplicitly_wait\u001b[0m\u001b[0;34m(\u001b[0m\u001b[0;36m10\u001b[0m\u001b[0;34m)\u001b[0m\u001b[0;34m\u001b[0m\u001b[0;34m\u001b[0m\u001b[0m\n\u001b[1;32m     23\u001b[0m     \u001b[0mbrowser\u001b[0m\u001b[0;34m.\u001b[0m\u001b[0mset_page_load_timeout\u001b[0m\u001b[0;34m(\u001b[0m\u001b[0;36m20\u001b[0m\u001b[0;34m)\u001b[0m\u001b[0;34m\u001b[0m\u001b[0;34m\u001b[0m\u001b[0m\n\u001b[0;32m---> 24\u001b[0;31m     \u001b[0mbrowser\u001b[0m\u001b[0;34m.\u001b[0m\u001b[0mget\u001b[0m\u001b[0;34m(\u001b[0m\u001b[0murl\u001b[0m\u001b[0;34m)\u001b[0m\u001b[0;34m\u001b[0m\u001b[0;34m\u001b[0m\u001b[0m\n\u001b[0m\u001b[1;32m     25\u001b[0m     \u001b[0;32mreturn\u001b[0m \u001b[0mbrowser\u001b[0m\u001b[0;34m.\u001b[0m\u001b[0mpage_source\u001b[0m\u001b[0;34m,\u001b[0m \u001b[0mbrowser\u001b[0m\u001b[0;34m\u001b[0m\u001b[0;34m\u001b[0m\u001b[0m\n",
      "\u001b[0;32m~/opt/anaconda3/lib/python3.7/site-packages/selenium/webdriver/remote/webdriver.py\u001b[0m in \u001b[0;36mget\u001b[0;34m(self, url)\u001b[0m\n\u001b[1;32m    331\u001b[0m         \u001b[0mLoads\u001b[0m \u001b[0ma\u001b[0m \u001b[0mweb\u001b[0m \u001b[0mpage\u001b[0m \u001b[0;32min\u001b[0m \u001b[0mthe\u001b[0m \u001b[0mcurrent\u001b[0m \u001b[0mbrowser\u001b[0m \u001b[0msession\u001b[0m\u001b[0;34m.\u001b[0m\u001b[0;34m\u001b[0m\u001b[0;34m\u001b[0m\u001b[0m\n\u001b[1;32m    332\u001b[0m         \"\"\"\n\u001b[0;32m--> 333\u001b[0;31m         \u001b[0mself\u001b[0m\u001b[0;34m.\u001b[0m\u001b[0mexecute\u001b[0m\u001b[0;34m(\u001b[0m\u001b[0mCommand\u001b[0m\u001b[0;34m.\u001b[0m\u001b[0mGET\u001b[0m\u001b[0;34m,\u001b[0m \u001b[0;34m{\u001b[0m\u001b[0;34m'url'\u001b[0m\u001b[0;34m:\u001b[0m \u001b[0murl\u001b[0m\u001b[0;34m}\u001b[0m\u001b[0;34m)\u001b[0m\u001b[0;34m\u001b[0m\u001b[0;34m\u001b[0m\u001b[0m\n\u001b[0m\u001b[1;32m    334\u001b[0m \u001b[0;34m\u001b[0m\u001b[0m\n\u001b[1;32m    335\u001b[0m     \u001b[0;34m@\u001b[0m\u001b[0mproperty\u001b[0m\u001b[0;34m\u001b[0m\u001b[0;34m\u001b[0m\u001b[0m\n",
      "\u001b[0;32m~/opt/anaconda3/lib/python3.7/site-packages/selenium/webdriver/remote/webdriver.py\u001b[0m in \u001b[0;36mexecute\u001b[0;34m(self, driver_command, params)\u001b[0m\n\u001b[1;32m    319\u001b[0m         \u001b[0mresponse\u001b[0m \u001b[0;34m=\u001b[0m \u001b[0mself\u001b[0m\u001b[0;34m.\u001b[0m\u001b[0mcommand_executor\u001b[0m\u001b[0;34m.\u001b[0m\u001b[0mexecute\u001b[0m\u001b[0;34m(\u001b[0m\u001b[0mdriver_command\u001b[0m\u001b[0;34m,\u001b[0m \u001b[0mparams\u001b[0m\u001b[0;34m)\u001b[0m\u001b[0;34m\u001b[0m\u001b[0;34m\u001b[0m\u001b[0m\n\u001b[1;32m    320\u001b[0m         \u001b[0;32mif\u001b[0m \u001b[0mresponse\u001b[0m\u001b[0;34m:\u001b[0m\u001b[0;34m\u001b[0m\u001b[0;34m\u001b[0m\u001b[0m\n\u001b[0;32m--> 321\u001b[0;31m             \u001b[0mself\u001b[0m\u001b[0;34m.\u001b[0m\u001b[0merror_handler\u001b[0m\u001b[0;34m.\u001b[0m\u001b[0mcheck_response\u001b[0m\u001b[0;34m(\u001b[0m\u001b[0mresponse\u001b[0m\u001b[0;34m)\u001b[0m\u001b[0;34m\u001b[0m\u001b[0;34m\u001b[0m\u001b[0m\n\u001b[0m\u001b[1;32m    322\u001b[0m             response['value'] = self._unwrap_value(\n\u001b[1;32m    323\u001b[0m                 response.get('value', None))\n",
      "\u001b[0;32m~/opt/anaconda3/lib/python3.7/site-packages/selenium/webdriver/remote/errorhandler.py\u001b[0m in \u001b[0;36mcheck_response\u001b[0;34m(self, response)\u001b[0m\n\u001b[1;32m    240\u001b[0m                 \u001b[0malert_text\u001b[0m \u001b[0;34m=\u001b[0m \u001b[0mvalue\u001b[0m\u001b[0;34m[\u001b[0m\u001b[0;34m'alert'\u001b[0m\u001b[0;34m]\u001b[0m\u001b[0;34m.\u001b[0m\u001b[0mget\u001b[0m\u001b[0;34m(\u001b[0m\u001b[0;34m'text'\u001b[0m\u001b[0;34m)\u001b[0m\u001b[0;34m\u001b[0m\u001b[0;34m\u001b[0m\u001b[0m\n\u001b[1;32m    241\u001b[0m             \u001b[0;32mraise\u001b[0m \u001b[0mexception_class\u001b[0m\u001b[0;34m(\u001b[0m\u001b[0mmessage\u001b[0m\u001b[0;34m,\u001b[0m \u001b[0mscreen\u001b[0m\u001b[0;34m,\u001b[0m \u001b[0mstacktrace\u001b[0m\u001b[0;34m,\u001b[0m \u001b[0malert_text\u001b[0m\u001b[0;34m)\u001b[0m\u001b[0;34m\u001b[0m\u001b[0;34m\u001b[0m\u001b[0m\n\u001b[0;32m--> 242\u001b[0;31m         \u001b[0;32mraise\u001b[0m \u001b[0mexception_class\u001b[0m\u001b[0;34m(\u001b[0m\u001b[0mmessage\u001b[0m\u001b[0;34m,\u001b[0m \u001b[0mscreen\u001b[0m\u001b[0;34m,\u001b[0m \u001b[0mstacktrace\u001b[0m\u001b[0;34m)\u001b[0m\u001b[0;34m\u001b[0m\u001b[0;34m\u001b[0m\u001b[0m\n\u001b[0m\u001b[1;32m    243\u001b[0m \u001b[0;34m\u001b[0m\u001b[0m\n\u001b[1;32m    244\u001b[0m     \u001b[0;32mdef\u001b[0m \u001b[0m_value_or_default\u001b[0m\u001b[0;34m(\u001b[0m\u001b[0mself\u001b[0m\u001b[0;34m,\u001b[0m \u001b[0mobj\u001b[0m\u001b[0;34m,\u001b[0m \u001b[0mkey\u001b[0m\u001b[0;34m,\u001b[0m \u001b[0mdefault\u001b[0m\u001b[0;34m)\u001b[0m\u001b[0;34m:\u001b[0m\u001b[0;34m\u001b[0m\u001b[0;34m\u001b[0m\u001b[0m\n",
      "\u001b[0;31mTimeoutException\u001b[0m: Message: timeout: Timed out receiving message from renderer: 19.143\n  (Session info: chrome=86.0.4240.193)\n"
     ]
    }
   ],
   "source": [
    "list_sub_cat_hrefs=[]\n",
    "for l in list_cat_hrefs:\n",
    "    req = requests.get(l)\n",
    "    content, browser = chrome(l)\n",
    "    cats=browser.find_elements_by_xpath(\"//a[@class='']\")\n",
    "    for i in cats:\n",
    "        print(i.get_attribute(\"href\"))\n",
    "        list_sub_cat_hrefs.append(i.get_attribute(\"href\"))\n",
    "    \n",
    "    \n",
    "    \n",
    "    \n",
    "    "
   ]
  },
  {
   "cell_type": "code",
   "execution_count": 42,
   "metadata": {},
   "outputs": [
    {
     "data": {
      "text/plain": [
       "20"
      ]
     },
     "execution_count": 42,
     "metadata": {},
     "output_type": "execute_result"
    }
   ],
   "source": [
    "len(list_sub_cat_hrefs)"
   ]
  },
  {
   "cell_type": "code",
   "execution_count": null,
   "metadata": {},
   "outputs": [],
   "source": [
    "datas = []\n",
    "for cat in list_sub_cat_hrefs:\n",
    "    i=1\n",
    "    result = None\n",
    "    text_found=r'Рекомендованные специалисты'\n",
    "    while text_found is not None:\n",
    "        try:\n",
    "            url = '{}?page={}#/'.format(cat,i)\n",
    "            req = requests.get(url)\n",
    "            content, browser = chrome(url)\n",
    "            html_r = HTML(html=content)\n",
    "            text_found = re.search(r'Рекомендованные специалисты', content)\n",
    "            if text_found is None:\n",
    "                break\n",
    "            list_of_hrefs=[]\n",
    "            a_elements = []\n",
    "            content_blocks = browser.find_elements_by_class_name(\"service-specialists\")\n",
    "            for block in content_blocks:\n",
    "                elements = block.find_elements_by_tag_name(\"a\")\n",
    "                for el in elements:\n",
    "                    a_elements.append(el)\n",
    "                    list_of_hrefs.append(el.get_attribute(\"href\"))\n",
    "                    fabric_links = [x for x in list(list_of_hrefs) if x.startswith(\"https://naimi.kz/specialist/\")]\n",
    "            for path in fabric_links:\n",
    "                id_, slug_ = extract_id_slug(path)\n",
    "                print(id_, slug_)\n",
    "                data = {\n",
    "                    \"id\": id_,\n",
    "                    \"slug\": slug_,\n",
    "                    \"path\": path,\n",
    "                    \"scraped\": 0 # True / False -> 1 / 0 \n",
    "                }\n",
    "                datas.append(data)\n",
    "            print('page {}'.format(i))   \n",
    "            i+=1    \n",
    "        except:\n",
    "            break"
   ]
  },
  {
   "cell_type": "code",
   "execution_count": null,
   "metadata": {},
   "outputs": [],
   "source": [
    "datas"
   ]
  },
  {
   "cell_type": "code",
   "execution_count": null,
   "metadata": {},
   "outputs": [],
   "source": [
    "!pipenv install pickle"
   ]
  },
  {
   "cell_type": "code",
   "execution_count": 4,
   "metadata": {},
   "outputs": [],
   "source": [
    "import pickle"
   ]
  },
  {
   "cell_type": "code",
   "execution_count": null,
   "metadata": {},
   "outputs": [],
   "source": [
    "with open(r'datas.pickle', 'wb') as output:\n",
    "    pickle.dump(datas, output)"
   ]
  },
  {
   "cell_type": "code",
   "execution_count": 5,
   "metadata": {},
   "outputs": [],
   "source": [
    "with open(r'datas.pickle', 'rb') as data:\n",
    "     datas = pickle.load(data)"
   ]
  },
  {
   "cell_type": "code",
   "execution_count": null,
   "metadata": {},
   "outputs": [],
   "source": [
    "len(datas[:8000])"
   ]
  },
  {
   "cell_type": "code",
   "execution_count": null,
   "metadata": {},
   "outputs": [],
   "source": [
    "len(datas[8000:])"
   ]
  },
  {
   "cell_type": "code",
   "execution_count": null,
   "metadata": {},
   "outputs": [],
   "source": [
    "cookies={1:{\"name\" : \"_session_public\", \"value\" : \"5pZTFel7yzs2v45x3aSV5GAXLBIwLKGhAU9DAdJKx5DwBudoiZBTcOxtb59SpTBFYkLfZdXCruadau40TeEdB3iZ5JfhlwyndNDv\"},\n",
    "        2:{\"name\" : \"_session_public\", \"value\" : \"olUZpkrCCqkBw3acekj6dFVS0QdsonoRkIpr6AvaOTmbRDyJuu7ZpqDS5y0uD6l1YLKFKD5yOLlILQrWuUUyXIblx25OrbeCkkM9\"},\n",
    "        3:{\"name\" : \"_session_public\", \"value\" : \"Vgc0HsG34m0zYQyJBvrlGukCSqvxYecOvRYHfuWwDaPEPOLELG8CPGYigjIBNzwsOOlCRQanplQpw2oYzWlysxbBJsLbmU89SjIL\"},\n",
    "        4:{\"name\" : \"_session_public\", \"value\" : \"OhwTjaD9huk1qvEMmqGKdzwRNvNHQwxeBq7UKkfLZDPO2SX3ux9NizwxqTjAjpW58VO1idGnQR7ta9mvcWgOwd20tiER9hRnHaWI\"},\n",
    "        5:{\"name\" : \"_session_public\", \"value\" : \"PZQNzME5q4YRqIIgzJOEPKvTvlueobznww0DcT9MoagB69SwfIuS1ZX126LurmOnMSK7FhKBGnfK6ykU37MSKoNxMe8EgZyx7En0\"},\n",
    "        6:{\"name\" : \"_session_public\", \"value\" : \"Mp4pnLF8ZXyNR4nEE9AzLDTC6KpaFZ2NZ4DyLzxGPjbNL3Z4mTr5iCyWdX4Hn4INIrBVPDkHw4UdkhcgfVuYw86kCtHhC2ld4mFR\"},\n",
    "        7:{\"name\" : \"_session_public\", \"value\" : \"tthelPcHx8BspcH3xbMjvKT9HwTCOP6YnxfeKVQc2AePKwKTtz9Ny4XpjbDPSrCotP0Zvl3AQPWorDNs7J3c6krZU7wSMz01HbFT\"},\n",
    "        }"
   ]
  },
  {
   "cell_type": "code",
   "execution_count": 16,
   "metadata": {},
   "outputs": [],
   "source": [
    "cookies={1:{\"name\" : \"_session_public\", \"value\" : \"YGWBZZ0AAHsD2pMPetb10LXwJhbfIg6gBMvWO0FeNpvNvtJtQDX7vqMLBkKpQnzEcVKUaRMOaDu0c6NE2kUGMl3Fza0NOE9zs0JK\"},\n",
    "        2:{\"name\" : \"_session_public\", \"value\" : \"e1yApbFMQCJ7IYSwkdUgtTBcxDJJVY11pAeVlJUXa46Hhv6SBTf4v2ANIs2Re53yCjbe8yKBvm1fdWAZQaqXSslxWq5Usy2B2ijt\"}\n",
    "    }\n"
   ]
  },
  {
   "cell_type": "code",
   "execution_count": 17,
   "metadata": {},
   "outputs": [
    {
     "name": "stdout",
     "output_type": "stream",
     "text": [
      "https://naimi.kz/specialist/119961?service=4  1\n",
      "clicked\n",
      "tel saved\n",
      "Номер профайла 1\n",
      "https://naimi.kz/specialist/278765?service=4  2\n",
      "clicked\n",
      "Не нашел кнопку и телефон отдыхает 60 сек\n",
      "Номер профайла 2\n",
      "https://naimi.kz/specialist/250134?service=4  1\n",
      "clicked\n",
      "tel saved\n",
      "Номер профайла 3\n",
      "https://naimi.kz/specialist/187126?service=4  2\n",
      "clicked\n",
      "Не нашел кнопку и телефон отдыхает 60 сек\n",
      "Номер профайла 4\n",
      "https://naimi.kz/specialist/113762?service=4  1\n",
      "clicked\n",
      "tel saved\n",
      "Номер профайла 5\n",
      "https://naimi.kz/specialist/279371?service=4  2\n",
      "clicked\n",
      "Не нашел кнопку и телефон отдыхает 60 сек\n",
      "Номер профайла 6\n",
      "https://naimi.kz/specialist/95192?service=4  1\n",
      "clicked\n",
      "tel saved\n",
      "Номер профайла 7\n",
      "https://naimi.kz/specialist/267322?service=4  2\n",
      "clicked\n",
      "Не нашел кнопку и телефон отдыхает 60 сек\n",
      "Номер профайла 8\n",
      "https://naimi.kz/specialist/50716?service=4  1\n",
      "clicked\n",
      "tel saved\n",
      "Номер профайла 9\n",
      "https://naimi.kz/specialist/269453?service=4  2\n",
      "clicked\n",
      "Не нашел кнопку и телефон отдыхает 60 сек\n",
      "Номер профайла 10\n",
      "564.8120007514954\n"
     ]
    }
   ],
   "source": [
    "\n",
    "start = time.time()\n",
    "i=1\n",
    "q=1\n",
    "for p in datas[:10]:\n",
    "    try:\n",
    "        if i%20!=0:\n",
    "            url = p.get('path')\n",
    "            req = requests.get(url)\n",
    "            content, browser = chrome(url)\n",
    "            browser.add_cookie(cookies.get(q))\n",
    "            print(\"{}  {}\".format(p.get('path'), q))\n",
    "            q+=1\n",
    "            if q>2:\n",
    "                q=1\n",
    "            html_r = HTML(html=content)          \n",
    "            try:\n",
    "                browser.find_element_by_xpath(\"//button[@class='btn blue mr-3 flex-item']\").click()\n",
    "            except NoSuchElementException:\n",
    "                pass\n",
    "            except ElementClickInterceptedException:\n",
    "                pass\n",
    "            try:\n",
    "                p[\"name\"] = element_name = browser.find_element_by_xpath(\"//div[@class='mb-half text lg verified']\").text\n",
    "            except NoSuchElementException:\n",
    "                p[\"name\"]=None\n",
    "                pass\n",
    "            try:\n",
    "                p[\"age\"] = browser.find_elements_by_xpath(\"//span[@class='text md gray-75 d-ib mr-1']\")[0].text\n",
    "            except NoSuchElementException:\n",
    "                p[\"age\"]=None\n",
    "                pass\n",
    "            try:\n",
    "                p[\"exp\"] = browser.find_elements_by_xpath(\"//span[@class='text md gray-75 d-ib ml-1']\")[0].text\n",
    "            except NoSuchElementException:\n",
    "                p[\"exp\"]=None\n",
    "                pass\n",
    "            try:\n",
    "                p['price']= browser.find_element_by_xpath(\"//div[@class='flex-item fixed-size right']\").text\n",
    "            except NoSuchElementException:\n",
    "                p['price']=None\n",
    "                pass\n",
    "            try:\n",
    "                p['spec_lvl']=browser.find_elements_by_xpath(\"//span[@class='specialist--level text md']\")[0].text\n",
    "            except NoSuchElementException:\n",
    "                p['spec_lvl']=None\n",
    "                pass\n",
    "            try:\n",
    "                p['review-count']=browser.find_elements_by_xpath(\"//div[@class='flex-item fixed-size review--review-count mr-4']\")[0].text\n",
    "            except NoSuchElementException:\n",
    "                p['review-count']=None\n",
    "                pass\n",
    "            try:\n",
    "                p['review-positive']=browser.find_element_by_xpath(\"//div[@class='review--review-bars positive']//div[@class='review--review-bar']\").get_attribute(\"style\")\n",
    "            except NoSuchElementException:\n",
    "                p['review-positive']=None\n",
    "                pass\n",
    "            try:\n",
    "                p['review-neutral']=browser.find_element_by_xpath(\"//div[@class='review--review-bars neutral']//div[@class='review--review-bar']\").get_attribute(\"style\")\n",
    "            except NoSuchElementException:\n",
    "                p['review-neutral']=None\n",
    "                pass\n",
    "            try:\n",
    "                p['review-negative']=browser.find_element_by_xpath(\"//div[@class='review--review-bars negative']//div[@class='review--review-bar']\").get_attribute(\"style\")\n",
    "            except NoSuchElementException:\n",
    "                p['review-negative']=None\n",
    "                pass\n",
    "            try:\n",
    "                p['edu_prof']=browser.find_element_by_xpath(\"//div[@class='text md']\").text\n",
    "            except NoSuchElementException:\n",
    "                p['edu_prof']=None\n",
    "                pass\n",
    "            try:\n",
    "                p['edu_university']=browser.find_element_by_xpath(\"//div[@class='text sm gray']\").text\n",
    "            except NoSuchElementException:\n",
    "                p['edu_university']=None\n",
    "                pass\n",
    "            try:\n",
    "                browser.find_element_by_xpath(\"//button[@class='btn blue width-100p ta-c mgb-2']\").click()\n",
    "                print(\"clicked\")\n",
    "                p[\"tel\"] = browser.find_element_by_xpath(\"//a[@class='btn blue width-100p ta-c mgb-2']\").text\n",
    "                print(\"tel saved\")\n",
    "            except NoSuchElementException:\n",
    "                print(\"Не нашел кнопку и телефон отдыхает 60 сек\")\n",
    "                time.sleep(60)\n",
    "                browser.find_element_by_xpath(\"//button[@class='btn blue width-100p ta-c mgb-2']\").click()\n",
    "                p[\"tel\"] = browser.find_element_by_xpath(\"//a[@class='btn blue width-100p ta-c mgb-2']\").text\n",
    "                pass\n",
    "            except ElementClickInterceptedException:\n",
    "                print(\"Не нажал кнопку отдыхает 5 мин\")\n",
    "                time.sleep(5*60)\n",
    "                browser.find_element_by_xpath(\"//button[@class='btn blue width-100p ta-c mgb-2']\").click()\n",
    "                p[\"tel\"] = browser.find_element_by_xpath(\"//a[@class='btn blue width-100p ta-c mgb-2']\").text\n",
    "                pass\n",
    "            except TimeoutException:\n",
    "                print(\"Не успел нажать кнопку отдыхает 15 сек\")\n",
    "                time.sleep(15)\n",
    "                browser.find_element_by_xpath(\"//button[@class='btn blue width-100p ta-c mgb-2']\").click()\n",
    "                p[\"tel\"] = browser.find_element_by_xpath(\"//a[@class='btn blue width-100p ta-c mgb-2']\").text\n",
    "                pass\n",
    "\n",
    "        else:\n",
    "            time.sleep(5*60)\n",
    "    except NoSuchElementException:\n",
    "        pass\n",
    "    except TimeoutException:\n",
    "        pass\n",
    "    print(\"Номер профайла {}\".format(i))\n",
    "    i+=1\n",
    "\n",
    "end = time.time() - start\n",
    "\n",
    "print(end)"
   ]
  },
  {
   "cell_type": "code",
   "execution_count": null,
   "metadata": {},
   "outputs": [],
   "source": [
    "q+=1"
   ]
  },
  {
   "cell_type": "code",
   "execution_count": null,
   "metadata": {},
   "outputs": [],
   "source": [
    "q"
   ]
  },
  {
   "cell_type": "code",
   "execution_count": null,
   "metadata": {},
   "outputs": [],
   "source": [
    "datas2=datas.copy()"
   ]
  },
  {
   "cell_type": "code",
   "execution_count": null,
   "metadata": {},
   "outputs": [],
   "source": [
    "datas"
   ]
  },
  {
   "cell_type": "code",
   "execution_count": null,
   "metadata": {},
   "outputs": [],
   "source": [
    "with open(r'datas2.pickle', 'wb') as output:\n",
    "    pickle.dump(datas2, output)"
   ]
  },
  {
   "cell_type": "code",
   "execution_count": null,
   "metadata": {},
   "outputs": [],
   "source": [
    "print(browser.find_elements_by_xpath(\"//span[@class='flex-item fixed-size review--review-count mr-4']\")"
   ]
  },
  {
   "cell_type": "code",
   "execution_count": null,
   "metadata": {},
   "outputs": [],
   "source": [
    "url = 'https://naimi.kz/specialist/113762?service=4#/'\n",
    "req = requests.get(url)\n",
    "content, browser = chrome(url)\n",
    "html_r = HTML(html=content)\n",
    "browser.add_cookie({\"name\" : \"_session_public\", \"value\" : \"EMDkrM2AsLpsnFEu3L9bkz6oS7QUnbVWyXBOW1SpMpozxRwuSTZHwkIxaia0zESLkJUK6BxDmOAv3L7yycPsWi6voEhuZkW7iB7J\"})\n",
    "browser.find_element_by_xpath(\"//button[@class='btn blue mr-3 flex-item']\").click()"
   ]
  },
  {
   "cell_type": "code",
   "execution_count": null,
   "metadata": {},
   "outputs": [],
   "source": [
    "print(browser.get_cookies())"
   ]
  },
  {
   "cell_type": "code",
   "execution_count": null,
   "metadata": {},
   "outputs": [],
   "source": [
    "browser.add_cookie({\"name\" : \"_session_public\", \"value\" : \"EMDkrM2AsLpsnFEu3L9bkz6oS7QUnbVWyXBOW1SpMpozxRwuSTZHwkIxaia0zESLkJUK6BxDmOAv3L7yycPsWi6voEhuZkW7iB7J\"})"
   ]
  },
  {
   "cell_type": "code",
   "execution_count": null,
   "metadata": {},
   "outputs": [],
   "source": [
    "content_blocks = browser.find_elements_by_class_name(\"specialist--profile\")"
   ]
  },
  {
   "cell_type": "code",
   "execution_count": null,
   "metadata": {},
   "outputs": [],
   "source": [
    "element_price = browser.find_element_by_xpath(\"//div[@class='flex-item fixed-size right']\").text"
   ]
  },
  {
   "cell_type": "code",
   "execution_count": null,
   "metadata": {},
   "outputs": [],
   "source": [
    "element_price"
   ]
  },
  {
   "cell_type": "code",
   "execution_count": null,
   "metadata": {},
   "outputs": [],
   "source": [
    "browser.find_elements_by_xpath(\"//span[@class='specialist--level text md']\")[0].text"
   ]
  },
  {
   "cell_type": "code",
   "execution_count": null,
   "metadata": {},
   "outputs": [],
   "source": [
    "element_age = browser.find_elements_by_xpath(\"//span[@class='text md gray-75 d-ib mr-1']\")[0].text"
   ]
  },
  {
   "cell_type": "code",
   "execution_count": null,
   "metadata": {},
   "outputs": [],
   "source": [
    "element_exp = browser.find_elements_by_xpath(\"//span[@class='text md gray-75 d-ib ml-1']\")[0].text"
   ]
  },
  {
   "cell_type": "code",
   "execution_count": null,
   "metadata": {},
   "outputs": [],
   "source": [
    "element_age"
   ]
  },
  {
   "cell_type": "code",
   "execution_count": null,
   "metadata": {},
   "outputs": [],
   "source": [
    "element_exp"
   ]
  },
  {
   "cell_type": "code",
   "execution_count": null,
   "metadata": {},
   "outputs": [],
   "source": [
    "element_name"
   ]
  },
  {
   "cell_type": "code",
   "execution_count": null,
   "metadata": {},
   "outputs": [],
   "source": [
    "# f = open(\"naimi.kz_cookies.txt\", \"r\")\n",
    "# print(f.read())"
   ]
  },
  {
   "cell_type": "code",
   "execution_count": null,
   "metadata": {},
   "outputs": [],
   "source": [
    "element_btn = browser.find_element_by_xpath(\"//button[@class='btn blue width-100p ta-c mgb-2']\")"
   ]
  },
  {
   "cell_type": "code",
   "execution_count": null,
   "metadata": {},
   "outputs": [],
   "source": [
    "element_btn.text"
   ]
  },
  {
   "cell_type": "code",
   "execution_count": null,
   "metadata": {},
   "outputs": [],
   "source": [
    "element_btn.click()"
   ]
  },
  {
   "cell_type": "code",
   "execution_count": null,
   "metadata": {},
   "outputs": [],
   "source": [
    "element_btn_tel = browser.find_element_by_xpath(\"//a[@class='btn blue width-100p ta-c mgb-2']\").text"
   ]
  },
  {
   "cell_type": "code",
   "execution_count": null,
   "metadata": {},
   "outputs": [],
   "source": [
    "print(element_btn_tel)"
   ]
  },
  {
   "cell_type": "code",
   "execution_count": null,
   "metadata": {},
   "outputs": [],
   "source": [
    "browser.find_element_by_xpath(\"//div[@class='review--review-bars positive']//div[@class='review--review-bar']\").get_attribute(\"style\")"
   ]
  },
  {
   "cell_type": "code",
   "execution_count": null,
   "metadata": {},
   "outputs": [],
   "source": [
    "browser.find_element_by_xpath(\"//div[@class='review--review-bars negative']//div[@class='review--review-bar']\").get_attribute(\"style\")"
   ]
  },
  {
   "cell_type": "code",
   "execution_count": null,
   "metadata": {},
   "outputs": [],
   "source": [
    "browser.find_element_by_xpath(\"//div[@class='review--review-bars neutral']//div[@class='review--review-bar']\").get_attribute(\"style\")"
   ]
  },
  {
   "cell_type": "code",
   "execution_count": null,
   "metadata": {},
   "outputs": [],
   "source": [
    "browser.find_element_by_xpath(\"//div[@class='text md']\").text"
   ]
  },
  {
   "cell_type": "code",
   "execution_count": null,
   "metadata": {},
   "outputs": [],
   "source": [
    "browser.find_element_by_xpath(\"//div[@class='text sm gray']\").text"
   ]
  },
  {
   "cell_type": "code",
   "execution_count": null,
   "metadata": {},
   "outputs": [],
   "source": []
  }
 ],
 "metadata": {
  "kernelspec": {
   "display_name": "Python 3",
   "language": "python",
   "name": "python3"
  },
  "language_info": {
   "codemirror_mode": {
    "name": "ipython",
    "version": 3
   },
   "file_extension": ".py",
   "mimetype": "text/x-python",
   "name": "python",
   "nbconvert_exporter": "python",
   "pygments_lexer": "ipython3",
   "version": "3.7.6"
  }
 },
 "nbformat": 4,
 "nbformat_minor": 4
}
